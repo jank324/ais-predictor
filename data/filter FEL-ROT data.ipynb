{
 "cells": [
  {
   "cell_type": "code",
   "execution_count": 1,
   "metadata": {},
   "outputs": [],
   "source": [
    "import pandas as pd\n",
    "import numpy as np\n",
    "\n",
    "import matplotlib.pyplot as plt\n",
    "% matplotlib inline\n",
    "plt.style.use('ggplot')\n",
    "\n",
    "import seaborn as sns\n",
    "\n",
    "import cartopy.crs as ccrs\n",
    "import cartopy.feature as cfeat\n",
    "import cartopy.io.img_tiles as cimgt\n",
    "\n",
    "import AISMapPlot as aismap"
   ]
  },
  {
   "cell_type": "code",
   "execution_count": 2,
   "metadata": {},
   "outputs": [],
   "source": [
    "# Load the data\n",
    "names = ['TripID', 'MMSI', 'StartLatitude', 'StartLongitude', 'StartTime', 'EndLatitude', 'EndLongitude', 'EndTime',\n",
    "         'StartPort', 'EndPort', 'ID', 'time', 'shiptype', 'Length', 'Breadth', 'Draught', 'Latitude', 'Longitude',\n",
    "         'SOG', 'COG', 'TH', 'Destination', 'Name', 'Callsign', 'AisSourcen']\n",
    "ais = pd.read_csv('felixstowe_rotterdam.arff', names = names, skiprows = 27, parse_dates = True,\n",
    "                  na_values = ['?'], dtype = {'TripID': str, 'MMSI': str, 'shiptype': str})"
   ]
  },
  {
   "cell_type": "code",
   "execution_count": 3,
   "metadata": {},
   "outputs": [
    {
     "data": {
      "text/html": [
       "<div>\n",
       "<style scoped>\n",
       "    .dataframe tbody tr th:only-of-type {\n",
       "        vertical-align: middle;\n",
       "    }\n",
       "\n",
       "    .dataframe tbody tr th {\n",
       "        vertical-align: top;\n",
       "    }\n",
       "\n",
       "    .dataframe thead th {\n",
       "        text-align: right;\n",
       "    }\n",
       "</style>\n",
       "<table border=\"1\" class=\"dataframe\">\n",
       "  <thead>\n",
       "    <tr style=\"text-align: right;\">\n",
       "      <th></th>\n",
       "      <th>TripID</th>\n",
       "      <th>MMSI</th>\n",
       "      <th>StartLatitude</th>\n",
       "      <th>StartLongitude</th>\n",
       "      <th>StartTime</th>\n",
       "      <th>EndLatitude</th>\n",
       "      <th>EndLongitude</th>\n",
       "      <th>EndTime</th>\n",
       "      <th>StartPort</th>\n",
       "      <th>EndPort</th>\n",
       "      <th>...</th>\n",
       "      <th>Draught</th>\n",
       "      <th>Latitude</th>\n",
       "      <th>Longitude</th>\n",
       "      <th>SOG</th>\n",
       "      <th>COG</th>\n",
       "      <th>TH</th>\n",
       "      <th>Destination</th>\n",
       "      <th>Name</th>\n",
       "      <th>Callsign</th>\n",
       "      <th>AisSourcen</th>\n",
       "    </tr>\n",
       "  </thead>\n",
       "  <tbody>\n",
       "    <tr>\n",
       "      <th>0</th>\n",
       "      <td>40903</td>\n",
       "      <td>220284000</td>\n",
       "      <td>51.95</td>\n",
       "      <td>1.31</td>\n",
       "      <td>'2016-1-21 08:46'</td>\n",
       "      <td>51.9</td>\n",
       "      <td>4.36</td>\n",
       "      <td>'2016-1-21 17:17'</td>\n",
       "      <td>FELIXSTOWE</td>\n",
       "      <td>ROTTERDAM</td>\n",
       "      <td>...</td>\n",
       "      <td>6.68</td>\n",
       "      <td>51.95</td>\n",
       "      <td>1.31</td>\n",
       "      <td>1.2</td>\n",
       "      <td>264.0</td>\n",
       "      <td>297.0</td>\n",
       "      <td>RTM-FXT-RTM</td>\n",
       "      <td>SUECIA.SEAWAYS</td>\n",
       "      <td>OVPB2</td>\n",
       "      <td>H7001</td>\n",
       "    </tr>\n",
       "    <tr>\n",
       "      <th>1</th>\n",
       "      <td>40903</td>\n",
       "      <td>220284000</td>\n",
       "      <td>51.95</td>\n",
       "      <td>1.31</td>\n",
       "      <td>'2016-1-21 08:46'</td>\n",
       "      <td>51.9</td>\n",
       "      <td>4.36</td>\n",
       "      <td>'2016-1-21 17:17'</td>\n",
       "      <td>FELIXSTOWE</td>\n",
       "      <td>ROTTERDAM</td>\n",
       "      <td>...</td>\n",
       "      <td>6.68</td>\n",
       "      <td>51.95</td>\n",
       "      <td>1.31</td>\n",
       "      <td>2.3</td>\n",
       "      <td>285.0</td>\n",
       "      <td>293.0</td>\n",
       "      <td>RTM-FXT-RTM</td>\n",
       "      <td>SUECIA.SEAWAYS</td>\n",
       "      <td>OVPB2</td>\n",
       "      <td>H7001</td>\n",
       "    </tr>\n",
       "    <tr>\n",
       "      <th>2</th>\n",
       "      <td>40903</td>\n",
       "      <td>220284000</td>\n",
       "      <td>51.95</td>\n",
       "      <td>1.31</td>\n",
       "      <td>'2016-1-21 08:46'</td>\n",
       "      <td>51.9</td>\n",
       "      <td>4.36</td>\n",
       "      <td>'2016-1-21 17:17'</td>\n",
       "      <td>FELIXSTOWE</td>\n",
       "      <td>ROTTERDAM</td>\n",
       "      <td>...</td>\n",
       "      <td>6.68</td>\n",
       "      <td>51.95</td>\n",
       "      <td>1.30</td>\n",
       "      <td>4.6</td>\n",
       "      <td>280.0</td>\n",
       "      <td>262.0</td>\n",
       "      <td>RTM-FXT-RTM</td>\n",
       "      <td>SUECIA.SEAWAYS</td>\n",
       "      <td>OVPB2</td>\n",
       "      <td>H7001</td>\n",
       "    </tr>\n",
       "    <tr>\n",
       "      <th>3</th>\n",
       "      <td>40903</td>\n",
       "      <td>220284000</td>\n",
       "      <td>51.95</td>\n",
       "      <td>1.31</td>\n",
       "      <td>'2016-1-21 08:46'</td>\n",
       "      <td>51.9</td>\n",
       "      <td>4.36</td>\n",
       "      <td>'2016-1-21 17:17'</td>\n",
       "      <td>FELIXSTOWE</td>\n",
       "      <td>ROTTERDAM</td>\n",
       "      <td>...</td>\n",
       "      <td>6.68</td>\n",
       "      <td>51.95</td>\n",
       "      <td>1.30</td>\n",
       "      <td>3.7</td>\n",
       "      <td>251.0</td>\n",
       "      <td>218.0</td>\n",
       "      <td>RTM-FXT-RTM</td>\n",
       "      <td>SUECIA.SEAWAYS</td>\n",
       "      <td>OVPB2</td>\n",
       "      <td>H7001</td>\n",
       "    </tr>\n",
       "    <tr>\n",
       "      <th>4</th>\n",
       "      <td>40903</td>\n",
       "      <td>220284000</td>\n",
       "      <td>51.95</td>\n",
       "      <td>1.31</td>\n",
       "      <td>'2016-1-21 08:46'</td>\n",
       "      <td>51.9</td>\n",
       "      <td>4.36</td>\n",
       "      <td>'2016-1-21 17:17'</td>\n",
       "      <td>FELIXSTOWE</td>\n",
       "      <td>ROTTERDAM</td>\n",
       "      <td>...</td>\n",
       "      <td>6.68</td>\n",
       "      <td>51.95</td>\n",
       "      <td>1.30</td>\n",
       "      <td>3.8</td>\n",
       "      <td>210.0</td>\n",
       "      <td>180.0</td>\n",
       "      <td>RTM-FXT-RTM</td>\n",
       "      <td>SUECIA.SEAWAYS</td>\n",
       "      <td>OVPB2</td>\n",
       "      <td>H7001</td>\n",
       "    </tr>\n",
       "  </tbody>\n",
       "</table>\n",
       "<p>5 rows × 25 columns</p>\n",
       "</div>"
      ],
      "text/plain": [
       "  TripID       MMSI  StartLatitude  StartLongitude          StartTime  \\\n",
       "0  40903  220284000          51.95            1.31  '2016-1-21 08:46'   \n",
       "1  40903  220284000          51.95            1.31  '2016-1-21 08:46'   \n",
       "2  40903  220284000          51.95            1.31  '2016-1-21 08:46'   \n",
       "3  40903  220284000          51.95            1.31  '2016-1-21 08:46'   \n",
       "4  40903  220284000          51.95            1.31  '2016-1-21 08:46'   \n",
       "\n",
       "   EndLatitude  EndLongitude            EndTime   StartPort    EndPort  \\\n",
       "0         51.9          4.36  '2016-1-21 17:17'  FELIXSTOWE  ROTTERDAM   \n",
       "1         51.9          4.36  '2016-1-21 17:17'  FELIXSTOWE  ROTTERDAM   \n",
       "2         51.9          4.36  '2016-1-21 17:17'  FELIXSTOWE  ROTTERDAM   \n",
       "3         51.9          4.36  '2016-1-21 17:17'  FELIXSTOWE  ROTTERDAM   \n",
       "4         51.9          4.36  '2016-1-21 17:17'  FELIXSTOWE  ROTTERDAM   \n",
       "\n",
       "      ...      Draught Latitude Longitude  SOG    COG     TH  Destination  \\\n",
       "0     ...         6.68    51.95      1.31  1.2  264.0  297.0  RTM-FXT-RTM   \n",
       "1     ...         6.68    51.95      1.31  2.3  285.0  293.0  RTM-FXT-RTM   \n",
       "2     ...         6.68    51.95      1.30  4.6  280.0  262.0  RTM-FXT-RTM   \n",
       "3     ...         6.68    51.95      1.30  3.7  251.0  218.0  RTM-FXT-RTM   \n",
       "4     ...         6.68    51.95      1.30  3.8  210.0  180.0  RTM-FXT-RTM   \n",
       "\n",
       "             Name  Callsign  AisSourcen  \n",
       "0  SUECIA.SEAWAYS     OVPB2       H7001  \n",
       "1  SUECIA.SEAWAYS     OVPB2       H7001  \n",
       "2  SUECIA.SEAWAYS     OVPB2       H7001  \n",
       "3  SUECIA.SEAWAYS     OVPB2       H7001  \n",
       "4  SUECIA.SEAWAYS     OVPB2       H7001  \n",
       "\n",
       "[5 rows x 25 columns]"
      ]
     },
     "execution_count": 3,
     "metadata": {},
     "output_type": "execute_result"
    }
   ],
   "source": [
    "ais.head()"
   ]
  },
  {
   "cell_type": "code",
   "execution_count": 4,
   "metadata": {},
   "outputs": [],
   "source": [
    "ais_nan = ais"
   ]
  },
  {
   "cell_type": "code",
   "execution_count": 5,
   "metadata": {},
   "outputs": [],
   "source": [
    "# Convert time columns to correct dtype\n",
    "ais_nan['StartTime'] = pd.to_datetime(ais_nan['StartTime'], format = '\\'%Y-%m-%d %H:%M\\'')\n",
    "ais_nan['EndTime'] = pd.to_datetime(ais_nan['EndTime'], format = '\\'%Y-%m-%d %H:%M\\'')\n",
    "ais_nan['time'] = pd.to_datetime(ais_nan['time'], format = '\\'%Y-%m-%d %H:%M\\'')"
   ]
  },
  {
   "cell_type": "code",
   "execution_count": 6,
   "metadata": {},
   "outputs": [],
   "source": [
    "# Convert all headings that are 511 (>= 360) to NaN\n",
    "ais_nan.loc[ais_nan['TH'] >= 360, 'TH'] = np.nan"
   ]
  },
  {
   "cell_type": "code",
   "execution_count": 7,
   "metadata": {},
   "outputs": [],
   "source": [
    "# Convert courses >= 360 to NaN\n",
    "ais_nan.loc[ais_nan['COG'] >= 360, 'COG'] = np.nan"
   ]
  },
  {
   "cell_type": "code",
   "execution_count": 8,
   "metadata": {},
   "outputs": [],
   "source": [
    "# Set invalid shiptypes to NaN\n",
    "# Invalid shiptypes existing in the data set are '0' and '159'\n",
    "ais_nan.loc[(ais_nan['shiptype'] == '0') | (ais_nan['shiptype'] == '159'), 'shiptype'] = np.nan"
   ]
  },
  {
   "cell_type": "code",
   "execution_count": 9,
   "metadata": {},
   "outputs": [],
   "source": [
    "# Set invalid lengths (0 or > 400) to NaN\n",
    "ais_nan.loc[(ais_nan['Length'] <= 0) | (ais_nan['Length'] > 400), 'Length'] = np.nan"
   ]
  },
  {
   "cell_type": "code",
   "execution_count": 10,
   "metadata": {},
   "outputs": [],
   "source": [
    "# Set invalid breadths (0 or > 59) to NaN\n",
    "ais_nan.loc[(ais_nan['Breadth'] <= 0) | (ais_nan['Breadth'] > 59), 'Breadth'] = np.nan"
   ]
  },
  {
   "cell_type": "code",
   "execution_count": 11,
   "metadata": {},
   "outputs": [],
   "source": [
    "# Set speeds that are unrealisticly high to NaN\n",
    "ais_nan.loc[ais_nan['SOG'] > 25.6, 'SOG'] = np.nan"
   ]
  },
  {
   "cell_type": "code",
   "execution_count": 12,
   "metadata": {},
   "outputs": [],
   "source": [
    "ais_dropped = ais_nan.drop(['AisSourcen', 'ID', 'StartPort', 'EndPort', 'Name', 'MMSI', 'shiptype'], axis = 1)"
   ]
  },
  {
   "cell_type": "code",
   "execution_count": 13,
   "metadata": {},
   "outputs": [],
   "source": [
    "# Plot all positions in the data before any filters are applied\n",
    "#aismap.plot_to_map(size = (13, 13), longitude = ais_dropped['Longitude'], latitude = ais_dropped['Latitude'])\n",
    "#plt.title(\"All Positions Before Filtering\")"
   ]
  },
  {
   "cell_type": "code",
   "execution_count": 14,
   "metadata": {},
   "outputs": [],
   "source": [
    "# Plot start positions before any filtering to map\n",
    "#aismap.plot_to_map(size = (8, 8), longitude = ais_dropped['StartLongitude'], latitude = ais_dropped['StartLatitude'])\n",
    "#plt.title(\"Start Positions Before Filtering\")"
   ]
  },
  {
   "cell_type": "code",
   "execution_count": 15,
   "metadata": {},
   "outputs": [],
   "source": [
    "# Plot end positions before any filtering to map\n",
    "#aismap.plot_to_map(size = (8, 8), longitude = ais_dropped['EndLongitude'], latitude = ais_dropped['EndLatitude'])\n",
    "#plt.title(\"End Positions Before Filtering\")"
   ]
  },
  {
   "cell_type": "code",
   "execution_count": 16,
   "metadata": {},
   "outputs": [],
   "source": [
    "# Get rid of trips that leave our zone (2.45 - 10.66 / 51.49 - 55.06)\n",
    "\n",
    "outside_long_mask = (ais_dropped['Longitude'] < 0.97) | (ais_dropped['Longitude'] > 4.8)\n",
    "outside_lat_mask = (ais_dropped['Latitude'] < 51.62) | (ais_dropped['Latitude'] > 52.3)\n",
    "\n",
    "outside_rec_mask = outside_long_mask | outside_lat_mask\n",
    "\n",
    "outside_trip_ids = ais_dropped['TripID'][outside_rec_mask].unique()\n",
    "outside_trip_mask = ~ais_dropped['TripID'].isin(outside_trip_ids)\n",
    "ais_zoned = ais_dropped[outside_trip_mask]"
   ]
  },
  {
   "cell_type": "code",
   "execution_count": 17,
   "metadata": {},
   "outputs": [],
   "source": [
    "#aismap.plot_to_map(size = (13, 13), longitude = ais_zoned['Longitude'], latitude = ais_zoned['Latitude'])\n",
    "#plt.title(\"All Positions After Filtering to Our Zone\")"
   ]
  },
  {
   "cell_type": "code",
   "execution_count": 18,
   "metadata": {},
   "outputs": [],
   "source": [
    "#minlat = ais_zoned['EndLatitude'].min() - 0.2\n",
    "#maxlat = ais_zoned['EndLatitude'].max() + 0.2\n",
    "#minlong = ais_zoned['EndLongitude'].min() - 0.2\n",
    "#maxlong = ais_zoned['EndLongitude'].max() + 0.2\n",
    "\n",
    "#aismap.plot_google_map((minlong, maxlong, minlat, maxlat))\n",
    "#plt.scatter(x = ais_zoned['EndLongitude'], y = ais_zoned['EndLatitude'] , transform = ccrs.PlateCarree(), s = 1)"
   ]
  },
  {
   "cell_type": "code",
   "execution_count": 19,
   "metadata": {},
   "outputs": [
    {
     "name": "stderr",
     "output_type": "stream",
     "text": [
      "/home/vhanke/anaconda2/lib/python2.7/site-packages/pandas/core/indexing.py:537: SettingWithCopyWarning: \n",
      "A value is trying to be set on a copy of a slice from a DataFrame.\n",
      "Try using .loc[row_indexer,col_indexer] = value instead\n",
      "\n",
      "See the caveats in the documentation: http://pandas.pydata.org/pandas-docs/stable/indexing.html#indexing-view-versus-copy\n",
      "  self.obj[item] = s\n"
     ]
    }
   ],
   "source": [
    "# Get times finish line is crossed, by trips that do cross it\n",
    "finish_line_ts = ais_zoned[ais_zoned['Longitude'] > 3.94].groupby('TripID')['time'].min()\n",
    "\n",
    "# Only keep trips that do cross the finish line\n",
    "ais_ham_zoned = ais_zoned[ais_zoned['TripID'].isin(finish_line_ts.index)]\n",
    "\n",
    "#Set EndTime to the time the ship first appears behind the finish line\n",
    "for tripid in finish_line_ts.index :\n",
    "    ais_ham_zoned.loc[ais_ham_zoned['TripID'] == tripid, 'EndTime'] = finish_line_ts.loc[tripid]\n",
    "\n",
    "# Throw out all records after the finish line was crossed\n",
    "ais_ham_zoned = ais_ham_zoned[ais_ham_zoned['time'] <= ais_ham_zoned['EndTime']]"
   ]
  },
  {
   "cell_type": "code",
   "execution_count": 20,
   "metadata": {},
   "outputs": [],
   "source": [
    "#aismap.plot_to_map(size = (13, 13), longitude = ais_ham_zoned['Longitude'], latitude = ais_ham_zoned['Latitude'])"
   ]
  },
  {
   "cell_type": "code",
   "execution_count": 21,
   "metadata": {},
   "outputs": [],
   "source": [
    "ais_tts = ais_ham_zoned\n",
    "ais_tts.is_copy = False   # Hack to silence SettingWithCopyWarning\n",
    "\n",
    "# Add time for the entire trip to the data\n",
    "ais_tts['TravelTime'] = ais_tts['EndTime'] - ais_tts['StartTime']\n",
    "ais_tts['TravelTimeMins'] = ais_tts['TravelTime'].transform(lambda x : x.total_seconds() / 60)\n",
    "\n",
    "# Add time remaining until arrival at destination\n",
    "ais_tts['remainingTT'] = ais_tts['EndTime'] - ais_tts['time']\n",
    "ais_tts['remainingMins'] = ais_tts['remainingTT'].transform(lambda x : x.total_seconds() / 60)"
   ]
  },
  {
   "cell_type": "code",
   "execution_count": 22,
   "metadata": {},
   "outputs": [],
   "source": [
    "#travel_times = ais_tts.groupby('TripID')['TravelTime'].max()\n",
    "#travel_times = travel_times.transform(lambda x : x.total_seconds() // 3600)\n",
    "#travel_times.value_counts().sort_index().plot.bar(figsize = (25, 10))"
   ]
  },
  {
   "cell_type": "code",
   "execution_count": 23,
   "metadata": {},
   "outputs": [],
   "source": [
    "#travel_times[travel_times < travel_times.quantile(.75)].value_counts().sort_index().plot.bar(figsize = (25, 10))"
   ]
  },
  {
   "cell_type": "code",
   "execution_count": 24,
   "metadata": {},
   "outputs": [],
   "source": [
    "# Only keep majority of shorter trips\n",
    "ais_shortmaj = ais_tts[(ais_tts['TravelTime'] < ais_tts['TravelTime'].quantile(.90)) & (ais_tts['TravelTimeMins'] > 270)]"
   ]
  },
  {
   "cell_type": "code",
   "execution_count": 25,
   "metadata": {},
   "outputs": [],
   "source": [
    "#aismap.col_plot_to_map(size = (13, 13), longitude = ais_shortmaj['Longitude'], latitude = ais_shortmaj['Latitude'], col= ais_shortmaj['remainingMins'])"
   ]
  },
  {
   "cell_type": "code",
   "execution_count": 26,
   "metadata": {},
   "outputs": [],
   "source": [
    "# Get and plot the longest trip in the data set\n",
    "#longest_trip = ais_shortmaj[ais_shortmaj['TravelTime'] == ais_shortmaj['TravelTime'].max()]\n",
    "#longest_trip.head()"
   ]
  },
  {
   "cell_type": "code",
   "execution_count": 27,
   "metadata": {},
   "outputs": [],
   "source": [
    "#aismap.col_plot_to_map(size = (13, 13), longitude = longest_trip['Longitude'], latitude = longest_trip['Latitude'], col = longest_trip['remainingMins'])\n",
    "#plt.title(\"Longest Trip in the Data Set\")"
   ]
  },
  {
   "cell_type": "code",
   "execution_count": 28,
   "metadata": {},
   "outputs": [],
   "source": [
    "ais_tfeats = ais_shortmaj\n",
    "ais_tfeats.is_copy = False\n",
    "\n",
    "ais_tfeats['hour_of_day'] = ais_tfeats['time'].dt.hour\n",
    "ais_tfeats['weekday'] = ais_tfeats['time'].dt.dayofweek\n",
    "ais_tfeats['day_of_month'] = ais_tfeats['time'].dt.day\n",
    "ais_tfeats['month'] = ais_tfeats['time'].dt.month"
   ]
  },
  {
   "cell_type": "code",
   "execution_count": 29,
   "metadata": {},
   "outputs": [],
   "source": [
    "ais_interpol = ais_tfeats.copy()\n",
    "ais_interpol.index = ais_interpol['time']\n",
    "ais_interpol = ais_interpol.groupby('TripID').apply(lambda x : x.resample('T').mean().interpolate(method='linear')).reset_index()"
   ]
  },
  {
   "cell_type": "code",
   "execution_count": 30,
   "metadata": {},
   "outputs": [],
   "source": [
    "#ais_tfeats.groupby('weekday')['TravelTimeMins'].mean().plot(figsize = (15, 5))"
   ]
  },
  {
   "cell_type": "code",
   "execution_count": 31,
   "metadata": {},
   "outputs": [],
   "source": [
    "# Assign sector IDs according to Longitude ranges (3 sectors for FEL-ROT route)\n",
    "def assign_sectors(ais_before):\n",
    "    ais_after = ais_before.copy()\n",
    "    \n",
    "    ais_after.loc[(ais_after['Longitude'] <= 2.2) , 'sector'] = '0'\n",
    "    ais_after.loc[(ais_after['Longitude'] <= 3.2) & (ais_after['Longitude'] > 2.2), 'sector'] = '1'\n",
    "    ais_after.loc[(ais_after['Longitude'] <= 3.94) & (ais_after['Longitude'] > 3.2), 'sector'] = '2'\n",
    "    ais_after.loc[ais_after['Longitude'] > 3.94, 'sector'] = np.nan\n",
    "    \n",
    "    return ais_after\n",
    "\n",
    "ais_sectors = assign_sectors(ais_tfeats)"
   ]
  },
  {
   "cell_type": "code",
   "execution_count": 32,
   "metadata": {},
   "outputs": [],
   "source": [
    "#aismap.col_plot_to_map(size = (13, 13), longitude = ais_sectors['Longitude'], latitude = ais_sectors['Latitude'], col = ais_sectors['sector_id'])"
   ]
  },
  {
   "cell_type": "code",
   "execution_count": 33,
   "metadata": {},
   "outputs": [
    {
     "name": "stderr",
     "output_type": "stream",
     "text": [
      "/home/vhanke/anaconda2/lib/python2.7/site-packages/pandas/core/indexing.py:357: SettingWithCopyWarning: \n",
      "A value is trying to be set on a copy of a slice from a DataFrame.\n",
      "Try using .loc[row_indexer,col_indexer] = value instead\n",
      "\n",
      "See the caveats in the documentation: http://pandas.pydata.org/pandas-docs/stable/indexing.html#indexing-view-versus-copy\n",
      "  self.obj[key] = _infer_fill_value(value)\n"
     ]
    }
   ],
   "source": [
    "ais_secleav = ais_sectors.copy()\n",
    "ais_secleav = ais_secleav.sort_values('time')\n",
    "\n",
    "ais_secleav['next_lat'] = ais_secleav.groupby('TripID')['Latitude'].shift(-1)\n",
    "ais_secleav['next_lon'] = ais_secleav.groupby('TripID')['Longitude'].shift(-1)\n",
    "ais_secleav['next_time'] = ais_secleav.groupby('TripID')['time'].shift(-1)\n",
    "ais_secleav['next_sog'] = ais_secleav.groupby('TripID')['SOG'].shift(-1)\n",
    "ais_secleav['next_cog'] = ais_secleav.groupby('TripID')['COG'].shift(-1)\n",
    "ais_secleav['next_sector_id'] = ais_secleav.groupby('TripID')['sector'].shift(-1)\n",
    "ais_secleav = ais_secleav.sort_values(['TripID', 'time'])\n",
    "ais_secleav['next_trip_id'] = ais_secleav['TripID'].shift(-1)\n",
    "\n",
    "lasts = ais_secleav[ais_secleav['sector'] != ais_secleav['next_sector_id']]\n",
    "\n",
    "lasts.loc[lasts['sector'] == '0', 'sector_leave_lon'] = 2.2\n",
    "lasts.loc[lasts['sector'] == '1', 'sector_leave_lon'] = 3.2\n",
    "lasts.loc[lasts['sector'] == '2', 'sector_leave_lon'] = 3.94\n",
    "\n",
    "\n",
    "lasts.loc[lasts['sector'] == '0', 'sector_leave_lat'] = lasts.loc[lasts['sector'] == '0', 'Latitude'] + ((lasts.loc[lasts['sector'] == '0', 'sector_leave_lon'] - lasts.loc[lasts['sector'] == '0', 'Longitude']) / (lasts.loc[lasts['sector'] == '0', 'next_lon'] - lasts.loc[lasts['sector'] == '0', 'Longitude'])) * (lasts.loc[lasts['sector'] == '0', 'next_lon'] - lasts.loc[lasts['sector'] == '0', 'Longitude'])\n",
    "lasts.loc[lasts['sector'] == '1', 'sector_leave_lat'] = lasts.loc[lasts['sector'] == '1', 'Latitude'] + ((lasts.loc[lasts['sector'] == '1', 'sector_leave_lon'] - lasts.loc[lasts['sector'] == '1', 'Longitude']) / (lasts.loc[lasts['sector'] == '1', 'next_lon'] - lasts.loc[lasts['sector'] == '1', 'Longitude'])) * (lasts.loc[lasts['sector'] == '1', 'next_lon'] - lasts.loc[lasts['sector'] == '1', 'Longitude'])\n",
    "lasts.loc[lasts['sector'] == '2', 'sector_leave_lat'] = lasts.loc[lasts['sector'] == '2', 'Latitude'] + ((lasts.loc[lasts['sector'] == '2', 'sector_leave_lon'] - lasts.loc[lasts['sector'] == '2', 'Longitude']) / (lasts.loc[lasts['sector'] == '2', 'next_lon'] - lasts.loc[lasts['sector'] == '2', 'Longitude'])) * (lasts.loc[lasts['sector'] == '2', 'next_lon'] - lasts.loc[lasts['sector'] == '2', 'Longitude'])\n",
    "\n",
    "lasts.loc[lasts['sector'] == '0', 'sector_leave_time'] = lasts.loc[lasts['sector'] == '0', 'time'] + ((lasts.loc[lasts['sector'] == '0', 'sector_leave_lon'] - lasts.loc[lasts['sector'] == '0', 'Longitude']) / (lasts.loc[lasts['sector'] == '0', 'next_lon'] - lasts.loc[lasts['sector'] == '0', 'Longitude'])) * (lasts.loc[lasts['sector'] == '0', 'next_time'] - lasts.loc[lasts['sector'] == '0', 'time'])\n",
    "lasts.loc[lasts['sector'] == '1', 'sector_leave_time'] = lasts.loc[lasts['sector'] == '1', 'time'] + ((lasts.loc[lasts['sector'] == '1', 'sector_leave_lon'] - lasts.loc[lasts['sector'] == '1', 'Longitude']) / (lasts.loc[lasts['sector'] == '1', 'next_lon'] - lasts.loc[lasts['sector'] == '1', 'Longitude'])) * (lasts.loc[lasts['sector'] == '1', 'next_time'] - lasts.loc[lasts['sector'] == '1', 'time'])\n",
    "lasts.loc[lasts['sector'] == '2', 'sector_leave_time'] = lasts.loc[lasts['sector'] == '2', 'time'] + ((lasts.loc[lasts['sector'] == '2', 'sector_leave_lon'] - lasts.loc[lasts['sector'] == '2', 'Longitude']) / (lasts.loc[lasts['sector'] == '2', 'next_lon'] - lasts.loc[lasts['sector'] == '2', 'Longitude'])) * (lasts.loc[lasts['sector'] == '2', 'next_time'] - lasts.loc[lasts['sector'] == '2', 'time'])\n",
    "\n",
    "lasts.loc[lasts['sector'] == '0', 'sector_leave_sog'] = lasts.loc[lasts['sector'] == '0', 'SOG'] + ((lasts.loc[lasts['sector'] == '0', 'sector_leave_lon'] - lasts.loc[lasts['sector'] == '0', 'Longitude']) / (lasts.loc[lasts['sector'] == '0', 'next_lon'] - lasts.loc[lasts['sector'] == '0', 'Longitude'])) * (lasts.loc[lasts['sector'] == '0', 'next_sog'] - lasts.loc[lasts['sector'] == '0', 'SOG'])\n",
    "lasts.loc[lasts['sector'] == '1', 'sector_leave_sog'] = lasts.loc[lasts['sector'] == '1', 'SOG'] + ((lasts.loc[lasts['sector'] == '1', 'sector_leave_lon'] - lasts.loc[lasts['sector'] == '1', 'Longitude']) / (lasts.loc[lasts['sector'] == '1', 'next_lon'] - lasts.loc[lasts['sector'] == '1', 'Longitude'])) * (lasts.loc[lasts['sector'] == '1', 'next_sog'] - lasts.loc[lasts['sector'] == '1', 'SOG'])\n",
    "lasts.loc[lasts['sector'] == '2', 'sector_leave_sog'] = lasts.loc[lasts['sector'] == '2', 'SOG'] + ((lasts.loc[lasts['sector'] == '2', 'sector_leave_lon'] - lasts.loc[lasts['sector'] == '2', 'Longitude']) / (lasts.loc[lasts['sector'] == '2', 'next_lon'] - lasts.loc[lasts['sector'] == '2', 'Longitude'])) * (lasts.loc[lasts['sector'] == '2', 'next_sog'] - lasts.loc[lasts['sector'] == '2', 'SOG'])\n",
    "\n",
    "lasts.loc[lasts['sector'] == '0', 'sector_leave_cog'] = lasts.loc[lasts['sector'] == '0', 'COG'] + ((lasts.loc[lasts['sector'] == '0', 'sector_leave_lon'] - lasts.loc[lasts['sector'] == '0', 'Longitude']) / (lasts.loc[lasts['sector'] == '0', 'next_lon'] - lasts.loc[lasts['sector'] == '0', 'Longitude'])) * (lasts.loc[lasts['sector'] == '0', 'next_cog'] - lasts.loc[lasts['sector'] == '0', 'COG'])\n",
    "lasts.loc[lasts['sector'] == '1', 'sector_leave_cog'] = lasts.loc[lasts['sector'] == '1', 'COG'] + ((lasts.loc[lasts['sector'] == '1', 'sector_leave_lon'] - lasts.loc[lasts['sector'] == '1', 'Longitude']) / (lasts.loc[lasts['sector'] == '1', 'next_lon'] - lasts.loc[lasts['sector'] == '1', 'Longitude'])) * (lasts.loc[lasts['sector'] == '1', 'next_cog'] - lasts.loc[lasts['sector'] == '1', 'COG'])\n",
    "lasts.loc[lasts['sector'] == '2', 'sector_leave_cog'] = lasts.loc[lasts['sector'] == '2', 'COG'] + ((lasts.loc[lasts['sector'] == '2', 'sector_leave_lon'] - lasts.loc[lasts['sector'] == '2', 'Longitude']) / (lasts.loc[lasts['sector'] == '2', 'next_lon'] - lasts.loc[lasts['sector'] == '2', 'Longitude'])) * (lasts.loc[lasts['sector'] == '2', 'next_cog'] - lasts.loc[lasts['sector'] == '2', 'COG'])\n",
    "\n",
    "ais_secleav['sector_leave_lat'] = lasts['sector_leave_lat']\n",
    "ais_secleav['sector_leave_lon'] = lasts['sector_leave_lon']\n",
    "ais_secleav['sector_leave_time'] = lasts['sector_leave_time']\n",
    "ais_secleav['sector_leave_sog'] = lasts['sector_leave_sog']\n",
    "ais_secleav['sector_leave_cog'] = lasts['sector_leave_cog']\n",
    "\n",
    "ais_secleav['sector_leave_lat'] = ais_secleav.groupby(['TripID', 'sector'])['sector_leave_lat'].transform('last')\n",
    "ais_secleav['sector_leave_lon'] = ais_secleav.groupby(['TripID', 'sector'])['sector_leave_lon'].transform('last')\n",
    "ais_secleav['sector_leave_time'] = ais_secleav.groupby(['TripID', 'sector'])['sector_leave_time'].transform('last')\n",
    "ais_secleav['sector_leave_sog'] = ais_secleav.groupby(['TripID', 'sector'])['sector_leave_sog'].transform('last')\n",
    "ais_secleav['sector_leave_cog'] = ais_secleav.groupby(['TripID', 'sector'])['sector_leave_cog'].transform('last')\n",
    "\n",
    "ais_secleav = ais_secleav.drop(['next_lat', 'next_lon', 'next_time', 'next_sog', 'next_cog', 'next_sector_id', 'next_trip_id'], axis = 1)"
   ]
  },
  {
   "cell_type": "code",
   "execution_count": 34,
   "metadata": {},
   "outputs": [],
   "source": [
    "ais_secleav_ts = ais_secleav.copy()\n",
    "ais_secleav_ts['time_to_sector_leave'] = ais_secleav_ts['sector_leave_time'] - ais_secleav_ts['time']\n",
    "ais_secleav_ts['mins_to_sector_leave'] = ais_secleav_ts['time_to_sector_leave'].transform(lambda x: x.total_seconds() / 60)"
   ]
  },
  {
   "cell_type": "code",
   "execution_count": 35,
   "metadata": {},
   "outputs": [
    {
     "data": {
      "text/plain": [
       "Index([u'TripID', u'StartLatitude', u'StartLongitude', u'StartTime',\n",
       "       u'EndLatitude', u'EndLongitude', u'EndTime', u'time', u'Length',\n",
       "       u'Breadth', u'Draught', u'Latitude', u'Longitude', u'SOG', u'COG',\n",
       "       u'TH', u'Destination', u'Callsign', u'TravelTime', u'TravelTimeMins',\n",
       "       u'remainingTT', u'remainingMins', u'hour_of_day', u'weekday',\n",
       "       u'day_of_month', u'month', u'sector', u'sector_leave_lat',\n",
       "       u'sector_leave_lon', u'sector_leave_time', u'sector_leave_sog',\n",
       "       u'sector_leave_cog', u'time_to_sector_leave', u'mins_to_sector_leave'],\n",
       "      dtype='object')"
      ]
     },
     "execution_count": 35,
     "metadata": {},
     "output_type": "execute_result"
    }
   ],
   "source": [
    "ais_secleav_ts.columns"
   ]
  },
  {
   "cell_type": "code",
   "execution_count": 36,
   "metadata": {},
   "outputs": [],
   "source": [
    "learners = ['TripID', 'time', 'Length', 'Breadth', 'Draught', 'Latitude', 'Longitude',\n",
    "            'SOG', 'COG', 'TH', 'TravelTimeMins', 'remainingMins', 'hour_of_day',\n",
    "            'weekday', 'day_of_month', 'month', 'sector', 'mins_to_sector_leave', 'sector_leave_lat',\n",
    "            'sector_leave_lon', 'sector_leave_sog', 'sector_leave_cog']"
   ]
  },
  {
   "cell_type": "code",
   "execution_count": 37,
   "metadata": {},
   "outputs": [
    {
     "data": {
      "text/html": [
       "<div>\n",
       "<style scoped>\n",
       "    .dataframe tbody tr th:only-of-type {\n",
       "        vertical-align: middle;\n",
       "    }\n",
       "\n",
       "    .dataframe tbody tr th {\n",
       "        vertical-align: top;\n",
       "    }\n",
       "\n",
       "    .dataframe thead th {\n",
       "        text-align: right;\n",
       "    }\n",
       "</style>\n",
       "<table border=\"1\" class=\"dataframe\">\n",
       "  <thead>\n",
       "    <tr style=\"text-align: right;\">\n",
       "      <th></th>\n",
       "      <th>TripID</th>\n",
       "      <th>time</th>\n",
       "      <th>Length</th>\n",
       "      <th>Breadth</th>\n",
       "      <th>Draught</th>\n",
       "      <th>Latitude</th>\n",
       "      <th>Longitude</th>\n",
       "      <th>SOG</th>\n",
       "      <th>COG</th>\n",
       "      <th>TH</th>\n",
       "      <th>...</th>\n",
       "      <th>hour_of_day</th>\n",
       "      <th>weekday</th>\n",
       "      <th>day_of_month</th>\n",
       "      <th>month</th>\n",
       "      <th>sector</th>\n",
       "      <th>mins_to_sector_leave</th>\n",
       "      <th>sector_leave_lat</th>\n",
       "      <th>sector_leave_lon</th>\n",
       "      <th>sector_leave_sog</th>\n",
       "      <th>sector_leave_cog</th>\n",
       "    </tr>\n",
       "  </thead>\n",
       "  <tbody>\n",
       "    <tr>\n",
       "      <th>336698</th>\n",
       "      <td>1000064</td>\n",
       "      <td>2016-03-14 23:40:00</td>\n",
       "      <td>82.0</td>\n",
       "      <td>11.0</td>\n",
       "      <td>3.04</td>\n",
       "      <td>52.03</td>\n",
       "      <td>1.69</td>\n",
       "      <td>8.1</td>\n",
       "      <td>88.0</td>\n",
       "      <td>76.0</td>\n",
       "      <td>...</td>\n",
       "      <td>23</td>\n",
       "      <td>0</td>\n",
       "      <td>14</td>\n",
       "      <td>3</td>\n",
       "      <td>0</td>\n",
       "      <td>136.615385</td>\n",
       "      <td>52.0</td>\n",
       "      <td>2.2</td>\n",
       "      <td>9.130769</td>\n",
       "      <td>99.1</td>\n",
       "    </tr>\n",
       "    <tr>\n",
       "      <th>336699</th>\n",
       "      <td>1000064</td>\n",
       "      <td>2016-03-14 23:41:00</td>\n",
       "      <td>82.0</td>\n",
       "      <td>11.0</td>\n",
       "      <td>3.04</td>\n",
       "      <td>52.03</td>\n",
       "      <td>1.70</td>\n",
       "      <td>8.2</td>\n",
       "      <td>88.1</td>\n",
       "      <td>77.0</td>\n",
       "      <td>...</td>\n",
       "      <td>23</td>\n",
       "      <td>0</td>\n",
       "      <td>14</td>\n",
       "      <td>3</td>\n",
       "      <td>0</td>\n",
       "      <td>135.615385</td>\n",
       "      <td>52.0</td>\n",
       "      <td>2.2</td>\n",
       "      <td>9.130769</td>\n",
       "      <td>99.1</td>\n",
       "    </tr>\n",
       "    <tr>\n",
       "      <th>336700</th>\n",
       "      <td>1000064</td>\n",
       "      <td>2016-03-14 23:42:00</td>\n",
       "      <td>82.0</td>\n",
       "      <td>11.0</td>\n",
       "      <td>3.04</td>\n",
       "      <td>52.03</td>\n",
       "      <td>1.70</td>\n",
       "      <td>8.3</td>\n",
       "      <td>90.1</td>\n",
       "      <td>78.0</td>\n",
       "      <td>...</td>\n",
       "      <td>23</td>\n",
       "      <td>0</td>\n",
       "      <td>14</td>\n",
       "      <td>3</td>\n",
       "      <td>0</td>\n",
       "      <td>134.615385</td>\n",
       "      <td>52.0</td>\n",
       "      <td>2.2</td>\n",
       "      <td>9.130769</td>\n",
       "      <td>99.1</td>\n",
       "    </tr>\n",
       "    <tr>\n",
       "      <th>336701</th>\n",
       "      <td>1000064</td>\n",
       "      <td>2016-03-14 23:43:00</td>\n",
       "      <td>82.0</td>\n",
       "      <td>11.0</td>\n",
       "      <td>3.04</td>\n",
       "      <td>52.03</td>\n",
       "      <td>1.70</td>\n",
       "      <td>8.5</td>\n",
       "      <td>88.7</td>\n",
       "      <td>76.0</td>\n",
       "      <td>...</td>\n",
       "      <td>23</td>\n",
       "      <td>0</td>\n",
       "      <td>14</td>\n",
       "      <td>3</td>\n",
       "      <td>0</td>\n",
       "      <td>133.615385</td>\n",
       "      <td>52.0</td>\n",
       "      <td>2.2</td>\n",
       "      <td>9.130769</td>\n",
       "      <td>99.1</td>\n",
       "    </tr>\n",
       "    <tr>\n",
       "      <th>336533</th>\n",
       "      <td>1000064</td>\n",
       "      <td>2016-03-14 23:44:00</td>\n",
       "      <td>82.0</td>\n",
       "      <td>11.0</td>\n",
       "      <td>3.04</td>\n",
       "      <td>52.03</td>\n",
       "      <td>1.71</td>\n",
       "      <td>8.2</td>\n",
       "      <td>87.9</td>\n",
       "      <td>77.0</td>\n",
       "      <td>...</td>\n",
       "      <td>23</td>\n",
       "      <td>0</td>\n",
       "      <td>14</td>\n",
       "      <td>3</td>\n",
       "      <td>0</td>\n",
       "      <td>132.615385</td>\n",
       "      <td>52.0</td>\n",
       "      <td>2.2</td>\n",
       "      <td>9.130769</td>\n",
       "      <td>99.1</td>\n",
       "    </tr>\n",
       "  </tbody>\n",
       "</table>\n",
       "<p>5 rows × 22 columns</p>\n",
       "</div>"
      ],
      "text/plain": [
       "         TripID                time  Length  Breadth  Draught  Latitude  \\\n",
       "336698  1000064 2016-03-14 23:40:00    82.0     11.0     3.04     52.03   \n",
       "336699  1000064 2016-03-14 23:41:00    82.0     11.0     3.04     52.03   \n",
       "336700  1000064 2016-03-14 23:42:00    82.0     11.0     3.04     52.03   \n",
       "336701  1000064 2016-03-14 23:43:00    82.0     11.0     3.04     52.03   \n",
       "336533  1000064 2016-03-14 23:44:00    82.0     11.0     3.04     52.03   \n",
       "\n",
       "        Longitude  SOG   COG    TH        ...         hour_of_day  weekday  \\\n",
       "336698       1.69  8.1  88.0  76.0        ...                  23        0   \n",
       "336699       1.70  8.2  88.1  77.0        ...                  23        0   \n",
       "336700       1.70  8.3  90.1  78.0        ...                  23        0   \n",
       "336701       1.70  8.5  88.7  76.0        ...                  23        0   \n",
       "336533       1.71  8.2  87.9  77.0        ...                  23        0   \n",
       "\n",
       "        day_of_month  month  sector  mins_to_sector_leave sector_leave_lat  \\\n",
       "336698            14      3       0            136.615385             52.0   \n",
       "336699            14      3       0            135.615385             52.0   \n",
       "336700            14      3       0            134.615385             52.0   \n",
       "336701            14      3       0            133.615385             52.0   \n",
       "336533            14      3       0            132.615385             52.0   \n",
       "\n",
       "        sector_leave_lon  sector_leave_sog  sector_leave_cog  \n",
       "336698               2.2          9.130769              99.1  \n",
       "336699               2.2          9.130769              99.1  \n",
       "336700               2.2          9.130769              99.1  \n",
       "336701               2.2          9.130769              99.1  \n",
       "336533               2.2          9.130769              99.1  \n",
       "\n",
       "[5 rows x 22 columns]"
      ]
     },
     "execution_count": 37,
     "metadata": {},
     "output_type": "execute_result"
    }
   ],
   "source": [
    "ais_learners = ais_secleav_ts[learners]\n",
    "ais_learners = ais_learners.dropna()\n",
    "ais_learners.head()"
   ]
  },
  {
   "cell_type": "code",
   "execution_count": 38,
   "metadata": {},
   "outputs": [],
   "source": [
    "def save_by_sectors(ais_data, name):\n",
    "    sectors = ais_data['sector'].unique()\n",
    "    for s in sectors:\n",
    "        ais_to_save = ais_data[ais_data['sector'] == s]\n",
    "        ais_to_save.to_pickle('%s_s%s.pkl' % (name, s))"
   ]
  },
  {
   "cell_type": "code",
   "execution_count": 39,
   "metadata": {},
   "outputs": [],
   "source": [
    "# Export without downsampling\n",
    "ais_learners = ais_secleav_ts[learners]\n",
    "ais_learners = ais_learners.dropna()\n",
    "save_by_sectors(ais_learners, 'FEL-HAM_learners_01min')"
   ]
  },
  {
   "cell_type": "code",
   "execution_count": 40,
   "metadata": {},
   "outputs": [],
   "source": [
    "# Export downsampled to 5 minutes\n",
    "ais_downsampled = ais_secleav_ts.copy()\n",
    "ais_downsampled.index = ais_downsampled['time']\n",
    "ais_downsampled = ais_downsampled.groupby('TripID').apply(lambda x : x.resample('5T').mean()).reset_index()\n",
    "ais_downsampled = assign_sectors(ais_downsampled)\n",
    "\n",
    "ais_learners = ais_downsampled[learners]\n",
    "ais_learners = ais_learners.dropna()\n",
    "ais_learners.to_pickle('FEL-HAM_learners_05min.pkl')"
   ]
  },
  {
   "cell_type": "code",
   "execution_count": 41,
   "metadata": {},
   "outputs": [],
   "source": [
    "# Export downsampled to 10 minutes\n",
    "ais_downsampled = ais_secleav_ts.copy()\n",
    "ais_downsampled.index = ais_downsampled['time']\n",
    "ais_downsampled = ais_downsampled.groupby('TripID').apply(lambda x : x.resample('10T').mean()).reset_index()\n",
    "ais_downsampled = assign_sectors(ais_downsampled)\n",
    "\n",
    "ais_learners = ais_downsampled[learners]\n",
    "ais_learners = ais_learners.dropna()\n",
    "save_by_sectors(ais_learners, 'FEL-HAM_learners_10min')"
   ]
  },
  {
   "cell_type": "code",
   "execution_count": 42,
   "metadata": {},
   "outputs": [],
   "source": [
    "# Export downsampled to 15 minutes\n",
    "ais_downsampled = ais_secleav_ts.copy()\n",
    "ais_downsampled.index = ais_downsampled['time']\n",
    "ais_downsampled = ais_downsampled.groupby('TripID').apply(lambda x : x.resample('15T').mean()).reset_index()\n",
    "ais_downsampled = assign_sectors(ais_downsampled)\n",
    "\n",
    "ais_learners = ais_downsampled[learners]\n",
    "ais_learners = ais_learners.dropna()\n",
    "ais_learners.to_pickle('FEL-HAM_learners_15min.pkl')"
   ]
  },
  {
   "cell_type": "code",
   "execution_count": 43,
   "metadata": {},
   "outputs": [],
   "source": [
    "# Export downsampled to 30 minutes\n",
    "ais_downsampled = ais_secleav_ts.copy()\n",
    "ais_downsampled.index = ais_downsampled['time']\n",
    "ais_downsampled = ais_downsampled.groupby('TripID').apply(lambda x : x.resample('30T').mean()).reset_index()\n",
    "ais_downsampled = assign_sectors(ais_downsampled)\n",
    "\n",
    "ais_learners = ais_downsampled[learners]\n",
    "ais_learners = ais_learners.dropna()\n",
    "ais_learners.to_pickle('FEL-HAM_learners_30min.pkl')"
   ]
  },
  {
   "cell_type": "code",
   "execution_count": 44,
   "metadata": {},
   "outputs": [],
   "source": [
    "# Export downsampled to 60 minutes\n",
    "ais_downsampled = ais_secleav_ts.copy()\n",
    "ais_downsampled.index = ais_downsampled['time']\n",
    "ais_downsampled = ais_downsampled.groupby('TripID').apply(lambda x : x.resample('60T').mean()).reset_index()\n",
    "ais_downsampled = assign_sectors(ais_downsampled)\n",
    "\n",
    "ais_learners = ais_downsampled[learners]\n",
    "ais_learners = ais_learners.dropna()\n",
    "save_by_sectors(ais_learners, 'FEL-HAM_learners_60min')"
   ]
  }
 ],
 "metadata": {
  "kernelspec": {
   "display_name": "Python 2",
   "language": "python",
   "name": "python2"
  },
  "language_info": {
   "codemirror_mode": {
    "name": "ipython",
    "version": 2
   },
   "file_extension": ".py",
   "mimetype": "text/x-python",
   "name": "python",
   "nbconvert_exporter": "python",
   "pygments_lexer": "ipython2",
   "version": "2.7.14"
  }
 },
 "nbformat": 4,
 "nbformat_minor": 2
}
