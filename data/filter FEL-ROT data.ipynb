{
 "cells": [
  {
   "cell_type": "code",
   "execution_count": 1,
   "metadata": {},
   "outputs": [],
   "source": [
    "import pandas as pd\n",
    "import numpy as np\n",
    "\n",
    "import matplotlib.pyplot as plt\n",
    "% matplotlib inline\n",
    "plt.style.use('ggplot')\n",
    "\n",
    "import seaborn as sns\n",
    "\n",
    "import cartopy.crs as ccrs\n",
    "import cartopy.feature as cfeat\n",
    "import cartopy.io.img_tiles as cimgt\n",
    "\n",
    "import AISMapPlot as aismap"
   ]
  },
  {
   "cell_type": "code",
   "execution_count": null,
   "metadata": {},
   "outputs": [],
   "source": [
    "# Load the data\n",
    "names = ['TripID', 'MMSI', 'StartLatitude', 'StartLongitude', 'StartTime', 'EndLatitude', 'EndLongitude', 'EndTime',\n",
    "         'StartPort', 'EndPort', 'ID', 'time', 'shiptype', 'Length', 'Breadth', 'Draught', 'Latitude', 'Longitude',\n",
    "         'SOG', 'COG', 'TH', 'Destination', 'Name', 'Callsign', 'AisSourcen']\n",
    "ais = pd.read_csv('felixstowe_rotterdam.arff', names = names, skiprows = 27, parse_dates = True,\n",
    "                  na_values = ['?'], dtype = {'TripID': str, 'MMSI': str, 'shiptype': str})"
   ]
  },
  {
   "cell_type": "code",
   "execution_count": null,
   "metadata": {},
   "outputs": [],
   "source": [
    "ais.head()"
   ]
  },
  {
   "cell_type": "code",
   "execution_count": null,
   "metadata": {},
   "outputs": [],
   "source": [
    "ais_nan = ais"
   ]
  },
  {
   "cell_type": "code",
   "execution_count": null,
   "metadata": {},
   "outputs": [],
   "source": [
    "# Convert time columns to correct dtype\n",
    "ais_nan['StartTime'] = pd.to_datetime(ais_nan['StartTime'], format = '\\'%Y-%m-%d %H:%M\\'')\n",
    "ais_nan['EndTime'] = pd.to_datetime(ais_nan['EndTime'], format = '\\'%Y-%m-%d %H:%M\\'')\n",
    "ais_nan['time'] = pd.to_datetime(ais_nan['time'], format = '\\'%Y-%m-%d %H:%M\\'')"
   ]
  },
  {
   "cell_type": "code",
   "execution_count": null,
   "metadata": {},
   "outputs": [],
   "source": [
    "# Convert all headings that are 511 (>= 360) to NaN\n",
    "ais_nan.loc[ais_nan['TH'] >= 360, 'TH'] = np.nan"
   ]
  },
  {
   "cell_type": "code",
   "execution_count": null,
   "metadata": {},
   "outputs": [],
   "source": [
    "# Convert courses >= 360 to NaN\n",
    "ais_nan.loc[ais_nan['COG'] >= 360, 'COG'] = np.nan"
   ]
  },
  {
   "cell_type": "code",
   "execution_count": null,
   "metadata": {},
   "outputs": [],
   "source": [
    "# Set invalid shiptypes to NaN\n",
    "# Invalid shiptypes existing in the data set are '0' and '159'\n",
    "ais_nan.loc[(ais_nan['shiptype'] == '0') | (ais_nan['shiptype'] == '159'), 'shiptype'] = np.nan"
   ]
  },
  {
   "cell_type": "code",
   "execution_count": null,
   "metadata": {},
   "outputs": [],
   "source": [
    "# Set invalid lengths (0 or > 400) to NaN\n",
    "ais_nan.loc[(ais_nan['Length'] <= 0) | (ais_nan['Length'] > 400), 'Length'] = np.nan"
   ]
  },
  {
   "cell_type": "code",
   "execution_count": null,
   "metadata": {},
   "outputs": [],
   "source": [
    "# Set invalid lengths (0 or > 59) to NaN\n",
    "ais_nan.loc[(ais_nan['Breadth'] <= 0) | (ais_nan['Breadth'] > 59), 'Breadth'] = np.nan"
   ]
  },
  {
   "cell_type": "code",
   "execution_count": null,
   "metadata": {},
   "outputs": [],
   "source": [
    "# Set speeds that are unrealisticly high to NaN\n",
    "ais_nan.loc[ais_nan['SOG'] > 25.6, 'SOG'] = np.nan"
   ]
  },
  {
   "cell_type": "code",
   "execution_count": null,
   "metadata": {},
   "outputs": [],
   "source": [
    "ais_dropped = ais_nan.drop(['AisSourcen', 'ID', 'StartPort', 'EndPort', 'Name', 'MMSI', 'shiptype'], axis = 1)"
   ]
  },
  {
   "cell_type": "code",
   "execution_count": null,
   "metadata": {},
   "outputs": [],
   "source": [
    "ais_dropped.head()"
   ]
  },
  {
   "cell_type": "code",
   "execution_count": null,
   "metadata": {},
   "outputs": [],
   "source": [
    "# Plot all positions in the data before any filters are applied\n",
    "aismap.plot_to_map(size = (13, 13), longitude = ais_dropped['Longitude'], latitude = ais_dropped['Latitude'])\n",
    "plt.title(\"All Positions Before Filtering\")"
   ]
  },
  {
   "cell_type": "code",
   "execution_count": null,
   "metadata": {},
   "outputs": [],
   "source": [
    "# Plot start positions before any filtering to map\n",
    "aismap.plot_to_map(size = (8, 8), longitude = ais_dropped['StartLongitude'], latitude = ais_dropped['StartLatitude'])\n",
    "plt.title(\"Start Positions Before Filtering\")"
   ]
  },
  {
   "cell_type": "code",
   "execution_count": null,
   "metadata": {},
   "outputs": [],
   "source": [
    "# Plot end positions before any filtering to map\n",
    "aismap.plot_to_map(size = (8, 8), longitude = ais_dropped['EndLongitude'], latitude = ais_dropped['EndLatitude'])\n",
    "plt.title(\"End Positions Before Filtering\")"
   ]
  },
  {
   "cell_type": "code",
   "execution_count": null,
   "metadata": {},
   "outputs": [],
   "source": [
    "# Get rid of trips that leave our zone (2.45 - 10.66 / 51.49 - 55.06)\n",
    "\n",
    "outside_long_mask = (ais_dropped['Longitude'] < 2.45) | (ais_dropped['Longitude'] > 10.66)\n",
    "outside_lat_mask = (ais_dropped['Latitude'] < 51.49) | (ais_dropped['Latitude'] > 55.06)\n",
    "\n",
    "outside_rec_mask = outside_long_mask | outside_lat_mask\n",
    "\n",
    "outside_trip_ids = ais_dropped['TripID'][outside_rec_mask].unique()\n",
    "outside_trip_mask = ~ais_dropped['TripID'].isin(outside_trip_ids)\n",
    "ais_zoned = ais_dropped[outside_trip_mask]"
   ]
  },
  {
   "cell_type": "code",
   "execution_count": null,
   "metadata": {},
   "outputs": [],
   "source": [
    "aismap.plot_to_map(size = (13, 13), longitude = ais_zoned['Longitude'], latitude = ais_zoned['Latitude'])\n",
    "plt.title(\"All Positions After Filtering to Our Zone\")"
   ]
  },
  {
   "cell_type": "code",
   "execution_count": null,
   "metadata": {},
   "outputs": [],
   "source": [
    "minlat = ais_zoned['EndLatitude'].min() - 0.2\n",
    "maxlat = ais_zoned['EndLatitude'].max() + 0.2\n",
    "minlong = ais_zoned['EndLongitude'].min() - 0.2\n",
    "maxlong = ais_zoned['EndLongitude'].max() + 0.2\n",
    "\n",
    "aismap.plot_google_map((minlong, maxlong, minlat, maxlat))\n",
    "plt.scatter(x = ais_zoned['EndLongitude'], y = ais_zoned['EndLatitude'] , transform = ccrs.PlateCarree(), s = 1)"
   ]
  },
  {
   "cell_type": "code",
   "execution_count": null,
   "metadata": {},
   "outputs": [],
   "source": [
    "# Get times finish line is crossed, by trips that do cross it\n",
    "finish_line_ts = ais_zoned[ais_zoned['Longitude'] > 9.81].groupby('TripID')['time'].min()\n",
    "\n",
    "# Only keep trips that do cross the finish line\n",
    "ais_ham_zoned = ais_zoned[ais_zoned['TripID'].isin(finish_line_ts.index)]\n",
    "\n",
    "#Set EndTime to the time the ship first appears behind the finish line\n",
    "for tripid in finish_line_ts.index :\n",
    "    ais_ham_zoned.loc[ais_ham_zoned['TripID'] == tripid, 'EndTime'] = finish_line_ts.loc[tripid]\n",
    "\n",
    "# Throw out all records after the finish line was crossed\n",
    "ais_ham_zoned = ais_ham_zoned[ais_ham_zoned['time'] <= ais_ham_zoned['EndTime']]"
   ]
  },
  {
   "cell_type": "code",
   "execution_count": null,
   "metadata": {},
   "outputs": [],
   "source": [
    "aismap.plot_to_map(size = (13, 13), longitude = ais_ham_zoned['Longitude'], latitude = ais_ham_zoned['Latitude'])"
   ]
  },
  {
   "cell_type": "code",
   "execution_count": null,
   "metadata": {},
   "outputs": [],
   "source": [
    "ais_tts = ais_ham_zoned\n",
    "ais_tts.is_copy = False   # Hack to silence SettingWithCopyWarning\n",
    "\n",
    "# Add time for the entire trip to the data\n",
    "ais_tts['TravelTime'] = ais_tts['EndTime'] - ais_tts['StartTime']\n",
    "ais_tts['TravelTimeMins'] = ais_tts['TravelTime'].transform(lambda x : x.total_seconds() / 60)\n",
    "\n",
    "# Add time remaining until arrival at destination\n",
    "ais_tts['remainingTT'] = ais_tts['EndTime'] - ais_tts['time']\n",
    "ais_tts['remainingMins'] = ais_tts['remainingTT'].transform(lambda x : x.total_seconds() / 60)"
   ]
  },
  {
   "cell_type": "code",
   "execution_count": null,
   "metadata": {},
   "outputs": [],
   "source": [
    "aismap.plot_trips(ais_tts, 'TravelTime')"
   ]
  },
  {
   "cell_type": "code",
   "execution_count": null,
   "metadata": {},
   "outputs": [],
   "source": [
    "travel_times = ais_tts.groupby('TripID')['TravelTime'].max()\n",
    "travel_times = travel_times.transform(lambda x : x.total_seconds() // 3600)\n",
    "travel_times.value_counts().sort_index().plot.bar(figsize = (25, 10))"
   ]
  },
  {
   "cell_type": "code",
   "execution_count": null,
   "metadata": {},
   "outputs": [],
   "source": [
    "travel_times[travel_times < travel_times.quantile(.75)].value_counts().sort_index().plot.bar(figsize = (25, 10))"
   ]
  },
  {
   "cell_type": "code",
   "execution_count": null,
   "metadata": {},
   "outputs": [],
   "source": [
    "# Only keep majority of shorter trips\n",
    "ais_shortmaj = ais_tts[ais_tts['TravelTime'] < ais_tts['TravelTime'].quantile(.75)]"
   ]
  },
  {
   "cell_type": "code",
   "execution_count": null,
   "metadata": {
    "scrolled": true
   },
   "outputs": [],
   "source": [
    "#ais_shortmaj['Cur_Pos'] = list(zip(ais_shortmaj['Latitude'], ais_shortmaj['Longitude']))\n",
    "#ais_shortmaj['End_Pos'] = list(zip(ais_shortmaj['EndLatitude'], ais_shortmaj['EndLongitude']))"
   ]
  },
  {
   "cell_type": "code",
   "execution_count": null,
   "metadata": {},
   "outputs": [],
   "source": [
    "#ais_shortmaj['Distance'] =  ais_shortmaj.apply(lambda r: pandasVincenty(r), axis=1)\n",
    "#ais_shortmaj.head()"
   ]
  },
  {
   "cell_type": "code",
   "execution_count": null,
   "metadata": {},
   "outputs": [],
   "source": [
    "aismap.col_plot_to_map(size = (13, 13), longitude = ais_shortmaj['Longitude'], latitude = ais_shortmaj['Latitude'], col= ais_shortmaj['remainingMins'])"
   ]
  },
  {
   "cell_type": "code",
   "execution_count": null,
   "metadata": {},
   "outputs": [],
   "source": [
    "# Get and plot the longest trip in the data set\n",
    "longest_trip = ais_shortmaj[ais_shortmaj['TravelTime'] == ais_shortmaj['TravelTime'].max()]\n",
    "longest_trip.head()"
   ]
  },
  {
   "cell_type": "code",
   "execution_count": null,
   "metadata": {},
   "outputs": [],
   "source": [
    "aismap.col_plot_to_map(size = (13, 13), longitude = longest_trip['Longitude'], latitude = longest_trip['Latitude'], col = longest_trip['remainingMins'])\n",
    "plt.title(\"Longest Trip in the Data Set\")"
   ]
  },
  {
   "cell_type": "code",
   "execution_count": null,
   "metadata": {},
   "outputs": [],
   "source": [
    "sns.pairplot(ais_shortmaj, x_vars = ['Latitude', 'Longitude'], y_vars = 'remainingMins', size = 7)"
   ]
  },
  {
   "cell_type": "code",
   "execution_count": null,
   "metadata": {},
   "outputs": [],
   "source": [
    "ais_shortmaj.head()"
   ]
  },
  {
   "cell_type": "code",
   "execution_count": null,
   "metadata": {},
   "outputs": [],
   "source": [
    "ais_shortmaj.columns"
   ]
  },
  {
   "cell_type": "code",
   "execution_count": null,
   "metadata": {},
   "outputs": [],
   "source": [
    "ais_learners = ais_shortmaj[['TripID', 'time', 'Length', 'Breadth', 'Draught', 'Latitude', 'Longitude',\n",
    "                             'SOG', 'COG', 'TH', 'remainingMins']]\n",
    "ais_learners = ais_learners.dropna()\n",
    "ais_learners.head()"
   ]
  },
  {
   "cell_type": "code",
   "execution_count": null,
   "metadata": {},
   "outputs": [],
   "source": [
    "X = ais_learners[['Latitude', 'Longitude', 'SOG']]\n",
    "y = ais_learners['remainingMins']"
   ]
  },
  {
   "cell_type": "code",
   "execution_count": null,
   "metadata": {},
   "outputs": [],
   "source": [
    "from sklearn.model_selection import GroupKFold\n",
    "from sklearn.grid_search import GridSearchCV\n",
    "from sklearn.grid_search import RandomizedSearchCV\n",
    "\n",
    "cv_splits = list(GroupKFold(n_splits = 10).split(X, y, groups = ais_learners['TripID']))"
   ]
  },
  {
   "cell_type": "code",
   "execution_count": null,
   "metadata": {},
   "outputs": [],
   "source": [
    "# Create a train-test split\n",
    "train_indices, test_indicies = cv_splits[0]\n",
    "X_train, X_test = X.iloc[train_indices], X.iloc[test_indicies]\n",
    "y_train, y_test = y.iloc[train_indices], y.iloc[test_indicies]"
   ]
  },
  {
   "cell_type": "code",
   "execution_count": null,
   "metadata": {},
   "outputs": [],
   "source": [
    "from sklearn.linear_model import LinearRegression\n",
    "\n",
    "lin = LinearRegression()\n",
    "\n",
    "lin_params = dict(normalize = [True, False])\n",
    "lin_grid = GridSearchCV(lin, lin_params, cv = cv_splits, scoring = 'neg_mean_absolute_error')\n",
    "lin_grid.fit(X, y)\n",
    "\n",
    "lin_grid.grid_scores_"
   ]
  },
  {
   "cell_type": "code",
   "execution_count": null,
   "metadata": {},
   "outputs": [],
   "source": [
    "from sklearn.neighbors import KNeighborsRegressor\n",
    "\n",
    "knn = KNeighborsRegressor()\n",
    "\n",
    "knn_params = dict(n_neighbors = range(1, 50), weights = ['uniform', 'distance'])\n",
    "knn_rand = RandomizedSearchCV(knn, knn_params, cv = cv_splits, scoring = 'neg_mean_absolute_error', n_iter = 10)\n",
    "knn_rand.fit(X, y)\n",
    "\n",
    "knn_rand.grid_scores_"
   ]
  },
  {
   "cell_type": "code",
   "execution_count": null,
   "metadata": {},
   "outputs": [],
   "source": [
    "knn_best = KNeighborsRegressor(n_neighbors = 60, weights = 'distance')\n",
    "knn_best.fit(X_train, y_train)\n",
    "\n",
    "knn_predicts = knn_best.predict(X_test)"
   ]
  },
  {
   "cell_type": "code",
   "execution_count": null,
   "metadata": {},
   "outputs": [],
   "source": [
    "knn_predicts"
   ]
  },
  {
   "cell_type": "code",
   "execution_count": null,
   "metadata": {},
   "outputs": [],
   "source": [
    "y_test.values"
   ]
  },
  {
   "cell_type": "code",
   "execution_count": null,
   "metadata": {},
   "outputs": [],
   "source": [
    "knn_predicts_diffs = knn_predicts - y_test"
   ]
  },
  {
   "cell_type": "code",
   "execution_count": null,
   "metadata": {},
   "outputs": [],
   "source": [
    "plt.figure(figsize = (15, 5))\n",
    "plt.plot(y_test, knn_predicts_diffs)"
   ]
  },
  {
   "cell_type": "code",
   "execution_count": null,
   "metadata": {},
   "outputs": [],
   "source": [
    "from sklearn.ensemble import RandomForestRegressor\n",
    "\n",
    "rfo = RandomForestRegressor()\n",
    "rfo_params = dict(n_estimators = range(1, 10), max_depth = range(5,15))\n",
    "rfo_rand = RandomizedSearchCV(rfo, rfo_params, cv = cv_splits, scoring = 'neg_mean_absolute_error', n_iter = 10)\n",
    "rfo_rand.fit(X, y)\n",
    "\n",
    "rfo_rand.grid_scores_"
   ]
  }
 ],
 "metadata": {
  "kernelspec": {
   "display_name": "Python 2",
   "language": "python",
   "name": "python2"
  },
  "language_info": {
   "codemirror_mode": {
    "name": "ipython",
    "version": 2
   },
   "file_extension": ".py",
   "mimetype": "text/x-python",
   "name": "python",
   "nbconvert_exporter": "python",
   "pygments_lexer": "ipython2",
   "version": "2.7.14"
  }
 },
 "nbformat": 4,
 "nbformat_minor": 2
}
