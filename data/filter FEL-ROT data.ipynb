{
 "cells": [
  {
   "cell_type": "code",
   "execution_count": 1,
   "metadata": {},
   "outputs": [],
   "source": [
    "import pandas as pd\n",
    "import numpy as np\n",
    "\n",
    "import matplotlib.pyplot as plt\n",
    "% matplotlib inline\n",
    "plt.style.use('ggplot')\n",
    "\n",
    "import seaborn as sns\n",
    "\n",
    "import cartopy.crs as ccrs\n",
    "import cartopy.feature as cfeat\n",
    "import cartopy.io.img_tiles as cimgt\n",
    "\n",
    "import AISMapPlot as aismap"
   ]
  },
  {
   "cell_type": "code",
   "execution_count": 4,
   "metadata": {},
   "outputs": [],
   "source": [
    "# Load the data\n",
    "names = ['TripID', 'MMSI', 'StartLatitude', 'StartLongitude', 'StartTime', 'EndLatitude', 'EndLongitude', 'EndTime',\n",
    "         'StartPort', 'EndPort', 'ID', 'time', 'shiptype', 'Length', 'Breadth', 'Draught', 'Latitude', 'Longitude',\n",
    "         'SOG', 'COG', 'TH', 'Destination', 'Name', 'Callsign', 'AisSourcen']\n",
    "\n",
    "# Load the train dataset\n",
    "ais = pd.read_csv('felixstowe_rotterdam.arff', names = names, skiprows = 27, parse_dates = True,\n",
    "                  na_values = ['?'], dtype = {'TripID': str, 'MMSI': str, 'shiptype': str})\n",
    "\n",
    "\n",
    "# Load test dataset, only needed for presentation\n",
    "# ais = pd.read_csv('flex_rot.arff', names = names, skiprows = 27, parse_dates = True,\n",
    "#                   na_values = ['?'], dtype = {'TripID': str, 'MMSI': str, 'shiptype': str})"
   ]
  },
  {
   "cell_type": "code",
   "execution_count": 6,
   "metadata": {},
   "outputs": [],
   "source": [
    "# Copy dataset with different name, avoids reloading dataset for every mishap\n",
    "ais_nan = ais"
   ]
  },
  {
   "cell_type": "code",
   "execution_count": 7,
   "metadata": {},
   "outputs": [],
   "source": [
    "# Convert time columns to correct dtype\n",
    "ais_nan['StartTime'] = pd.to_datetime(ais_nan['StartTime'], format = '\\'%Y-%m-%d %H:%M\\'')\n",
    "ais_nan['EndTime'] = pd.to_datetime(ais_nan['EndTime'], format = '\\'%Y-%m-%d %H:%M\\'')\n",
    "ais_nan['time'] = pd.to_datetime(ais_nan['time'], format = '\\'%Y-%m-%d %H:%M\\'')"
   ]
  },
  {
   "cell_type": "code",
   "execution_count": 8,
   "metadata": {},
   "outputs": [],
   "source": [
    "# Convert all headings that are 511 (>= 360) to NaN\n",
    "ais_nan.loc[ais_nan['TH'] >= 360, 'TH'] = np.nan"
   ]
  },
  {
   "cell_type": "code",
   "execution_count": 9,
   "metadata": {},
   "outputs": [],
   "source": [
    "# Convert courses >= 360 to NaN\n",
    "ais_nan.loc[ais_nan['COG'] >= 360, 'COG'] = np.nan"
   ]
  },
  {
   "cell_type": "code",
   "execution_count": 10,
   "metadata": {},
   "outputs": [],
   "source": [
    "# Set invalid shiptypes to NaN\n",
    "# Invalid shiptypes existing in the data set are '0' and '159'\n",
    "ais_nan.loc[(ais_nan['shiptype'] == '0') | (ais_nan['shiptype'] == '159'), 'shiptype'] = np.nan"
   ]
  },
  {
   "cell_type": "code",
   "execution_count": 11,
   "metadata": {},
   "outputs": [],
   "source": [
    "# Set invalid lengths (0 or > 400) to NaN\n",
    "ais_nan.loc[(ais_nan['Length'] <= 0) | (ais_nan['Length'] > 400), 'Length'] = np.nan"
   ]
  },
  {
   "cell_type": "code",
   "execution_count": 12,
   "metadata": {},
   "outputs": [],
   "source": [
    "# Set invalid breadths (0 or > 59) to NaN\n",
    "ais_nan.loc[(ais_nan['Breadth'] <= 0) | (ais_nan['Breadth'] > 59), 'Breadth'] = np.nan"
   ]
  },
  {
   "cell_type": "code",
   "execution_count": 13,
   "metadata": {},
   "outputs": [],
   "source": [
    "# Set speeds that are unrealisticly high to NaN\n",
    "ais_nan.loc[ais_nan['SOG'] > 25.6, 'SOG'] = np.nan"
   ]
  },
  {
   "cell_type": "code",
   "execution_count": 14,
   "metadata": {},
   "outputs": [],
   "source": [
    "# Drop irrelevant Information\n",
    "ais_dropped = ais_nan.drop(['AisSourcen', 'ID', 'StartPort', 'EndPort', 'Name', 'MMSI', 'shiptype'], axis = 1)"
   ]
  },
  {
   "cell_type": "code",
   "execution_count": 3,
   "metadata": {},
   "outputs": [],
   "source": [
    "# Plot all positions in the data before any filters are applied\n",
    "\n",
    "# aismap.plot_to_map(size = (13, 13), longitude = ais_dropped['Longitude'], latitude = ais_dropped['Latitude'])\n",
    "# plt.title(\"All Positions Before Filtering\")"
   ]
  },
  {
   "cell_type": "code",
   "execution_count": 14,
   "metadata": {},
   "outputs": [],
   "source": [
    "# Plot start positions before any filtering to map\n",
    "\n",
    "#aismap.plot_to_map(size = (8, 8), longitude = ais_dropped['StartLongitude'], latitude = ais_dropped['StartLatitude'])\n",
    "#plt.title(\"Start Positions Before Filtering\")"
   ]
  },
  {
   "cell_type": "code",
   "execution_count": 15,
   "metadata": {},
   "outputs": [],
   "source": [
    "# Plot end positions before any filtering to map\n",
    "\n",
    "#aismap.plot_to_map(size = (8, 8), longitude = ais_dropped['EndLongitude'], latitude = ais_dropped['EndLatitude'])\n",
    "#plt.title(\"End Positions Before Filtering\")"
   ]
  },
  {
   "cell_type": "code",
   "execution_count": 15,
   "metadata": {},
   "outputs": [],
   "source": [
    "# Get rid of trips that leave our zone (2.45 - 10.66 / 51.49 - 55.06)\n",
    "\n",
    "outside_long_mask = (ais_dropped['Longitude'] < 0.97) | (ais_dropped['Longitude'] > 4.8)\n",
    "outside_lat_mask = (ais_dropped['Latitude'] < 51.62) | (ais_dropped['Latitude'] > 52.3)\n",
    "\n",
    "outside_rec_mask = outside_long_mask | outside_lat_mask\n",
    "\n",
    "outside_trip_ids = ais_dropped['TripID'][outside_rec_mask].unique()\n",
    "outside_trip_mask = ~ais_dropped['TripID'].isin(outside_trip_ids)\n",
    "ais_zoned = ais_dropped[outside_trip_mask]"
   ]
  },
  {
   "cell_type": "code",
   "execution_count": 16,
   "metadata": {},
   "outputs": [],
   "source": [
    "# aismap.plot_to_map(size = (13, 13), longitude = ais_zoned['Longitude'], latitude = ais_zoned['Latitude'])\n",
    "# plt.title(\"All Positions After Filtering to Our Zone\")"
   ]
  },
  {
   "cell_type": "code",
   "execution_count": 18,
   "metadata": {},
   "outputs": [],
   "source": [
    "#minlat = ais_zoned['EndLatitude'].min() - 0.2\n",
    "#maxlat = ais_zoned['EndLatitude'].max() + 0.2\n",
    "#minlong = ais_zoned['EndLongitude'].min() - 0.2\n",
    "#maxlong = ais_zoned['EndLongitude'].max() + 0.2\n",
    "\n",
    "#aismap.plot_google_map((minlong, maxlong, minlat, maxlat))\n",
    "#plt.scatter(x = ais_zoned['EndLongitude'], y = ais_zoned['EndLatitude'] , transform = ccrs.PlateCarree(), s = 1)"
   ]
  },
  {
   "cell_type": "code",
   "execution_count": 17,
   "metadata": {},
   "outputs": [
    {
     "name": "stderr",
     "output_type": "stream",
     "text": [
      "C:\\Users\\Chaojie\\Anaconda3\\lib\\site-packages\\pandas\\core\\indexing.py:537: SettingWithCopyWarning: \n",
      "A value is trying to be set on a copy of a slice from a DataFrame.\n",
      "Try using .loc[row_indexer,col_indexer] = value instead\n",
      "\n",
      "See the caveats in the documentation: http://pandas.pydata.org/pandas-docs/stable/indexing.html#indexing-view-versus-copy\n",
      "  self.obj[item] = s\n"
     ]
    }
   ],
   "source": [
    "# Get times finish line is crossed, by trips that do cross it\n",
    "finish_line_ts = ais_zoned[ais_zoned['Longitude'] > 3.94].groupby('TripID')['time'].min()\n",
    "\n",
    "# Only keep trips that do cross the finish line\n",
    "ais_ham_zoned = ais_zoned[ais_zoned['TripID'].isin(finish_line_ts.index)]\n",
    "\n",
    "#Set EndTime to the time the ship first appears behind the finish line\n",
    "for tripid in finish_line_ts.index :\n",
    "    ais_ham_zoned.loc[ais_ham_zoned['TripID'] == tripid, 'EndTime'] = finish_line_ts.loc[tripid]\n",
    "\n",
    "# Throw out all records after the finish line was crossed\n",
    "ais_ham_zoned = ais_ham_zoned[ais_ham_zoned['time'] <= ais_ham_zoned['EndTime']]"
   ]
  },
  {
   "cell_type": "code",
   "execution_count": 18,
   "metadata": {},
   "outputs": [],
   "source": [
    "# aismap.plot_to_map(size = (13, 13), longitude = ais_ham_zoned['Longitude'], latitude = ais_ham_zoned['Latitude'])"
   ]
  },
  {
   "cell_type": "code",
   "execution_count": 19,
   "metadata": {},
   "outputs": [],
   "source": [
    "ais_tts = ais_ham_zoned\n",
    "ais_tts.is_copy = False   # Hack to silence SettingWithCopyWarning\n",
    "\n",
    "# Add time for the entire trip to the data\n",
    "ais_tts['TravelTime'] = ais_tts['EndTime'] - ais_tts['StartTime']\n",
    "ais_tts['TravelTimeMins'] = ais_tts['TravelTime'].transform(lambda x : x.total_seconds() / 60)\n",
    "\n",
    "# Add time remaining until arrival at destination\n",
    "ais_tts['remainingTT'] = ais_tts['EndTime'] - ais_tts['time']\n",
    "ais_tts['remainingMins'] = ais_tts['remainingTT'].transform(lambda x : x.total_seconds() / 60)"
   ]
  },
  {
   "cell_type": "code",
   "execution_count": 20,
   "metadata": {},
   "outputs": [],
   "source": [
    "# get figure of triptime distribution\n",
    "\n",
    "# travel_times = ais_tts.groupby('TripID')['TravelTime'].max()\n",
    "# travel_times = travel_times.transform(lambda x : (x.total_seconds() // 3600) * 2)\n",
    "# travel_times.value_counts().sort_index().plot.bar(figsize = (16, 4.5))\n",
    "\n",
    "# plt.savefig('../Images/fel_rot_traveltimes_before.png', dpi = 300, bbox_inches = 'tight')"
   ]
  },
  {
   "cell_type": "code",
   "execution_count": 21,
   "metadata": {},
   "outputs": [],
   "source": [
    "# Show trips after filtering by quantile\n",
    "\n",
    "# travel_times[travel_times < travel_times.quantile(.90)].value_counts().sort_index().plot.bar(figsize = (25, 10))"
   ]
  },
  {
   "cell_type": "code",
   "execution_count": 22,
   "metadata": {},
   "outputs": [],
   "source": [
    "# Only keep majority of shorter trips\n",
    "ais_shortmaj = ais_tts[(ais_tts['TravelTime'] < ais_tts['TravelTime'].quantile(.90)) & (ais_tts['TravelTimeMins'] > 270)]"
   ]
  },
  {
   "cell_type": "code",
   "execution_count": 23,
   "metadata": {},
   "outputs": [],
   "source": [
    "# aismap.col_plot_to_map(size = (13, 13), longitude = ais_shortmaj['Longitude'], latitude = ais_shortmaj['Latitude'], col= ais_shortmaj['remainingMins'])"
   ]
  },
  {
   "cell_type": "code",
   "execution_count": 26,
   "metadata": {},
   "outputs": [],
   "source": [
    "# Get and plot the longest trip in the data set\n",
    "#longest_trip = ais_shortmaj[ais_shortmaj['TravelTime'] == ais_shortmaj['TravelTime'].max()]\n",
    "#longest_trip.head()"
   ]
  },
  {
   "cell_type": "code",
   "execution_count": 27,
   "metadata": {},
   "outputs": [],
   "source": [
    "#aismap.col_plot_to_map(size = (13, 13), longitude = longest_trip['Longitude'], latitude = longest_trip['Latitude'], col = longest_trip['remainingMins'])\n",
    "#plt.title(\"Longest Trip in the Data Set\")"
   ]
  },
  {
   "cell_type": "code",
   "execution_count": 24,
   "metadata": {},
   "outputs": [],
   "source": [
    "ais_tfeats = ais_shortmaj\n",
    "ais_tfeats.is_copy = False\n",
    "\n",
    "# Implement new features\n",
    "ais_tfeats['hour_of_day'] = ais_tfeats['time'].dt.hour\n",
    "ais_tfeats['weekday'] = ais_tfeats['time'].dt.dayofweek\n",
    "ais_tfeats['day_of_month'] = ais_tfeats['time'].dt.day\n",
    "ais_tfeats['month'] = ais_tfeats['time'].dt.month"
   ]
  },
  {
   "cell_type": "code",
   "execution_count": 25,
   "metadata": {},
   "outputs": [],
   "source": [
    "# experiment with interpolation\n",
    "\n",
    "# ais_interpol = ais_tfeats.copy()\n",
    "# ais_interpol.index = ais_interpol['time']\n",
    "# ais_interpol = ais_interpol.groupby('TripID').apply(lambda x : x.resample('T').mean().interpolate(method='linear')).reset_index()"
   ]
  },
  {
   "cell_type": "code",
   "execution_count": 26,
   "metadata": {},
   "outputs": [],
   "source": [
    "#ais_tfeats.groupby('weekday')['TravelTimeMins'].mean().plot(figsize = (15, 5))"
   ]
  },
  {
   "cell_type": "code",
   "execution_count": 27,
   "metadata": {},
   "outputs": [],
   "source": [
    "# Assign sector IDs according to Longitude ranges (3 sectors for FEL-ROT route)\n",
    "def assign_sectors(ais_before):\n",
    "    ais_after = ais_before.copy()\n",
    "    \n",
    "    ais_after.loc[(ais_after['Longitude'] <= 2.2) , 'sector'] = '0'\n",
    "    ais_after.loc[(ais_after['Longitude'] <= 3.2) & (ais_after['Longitude'] > 2.2), 'sector'] = '1'\n",
    "    ais_after.loc[(ais_after['Longitude'] <= 3.94) & (ais_after['Longitude'] > 3.2), 'sector'] = '2'\n",
    "    ais_after.loc[ais_after['Longitude'] > 3.94, 'sector'] = np.nan\n",
    "    \n",
    "    return ais_after\n",
    "\n",
    "ais_sectors = assign_sectors(ais_tfeats)"
   ]
  },
  {
   "cell_type": "code",
   "execution_count": 28,
   "metadata": {},
   "outputs": [],
   "source": [
    "# aismap.col_plot_to_map(size = (13, 13), longitude = ais_sectors['Longitude'], latitude = ais_sectors['Latitude'], col = ais_sectors['sector'])"
   ]
  },
  {
   "cell_type": "code",
   "execution_count": 29,
   "metadata": {},
   "outputs": [
    {
     "name": "stderr",
     "output_type": "stream",
     "text": [
      "C:\\Users\\Chaojie\\Anaconda3\\lib\\site-packages\\pandas\\core\\indexing.py:357: SettingWithCopyWarning: \n",
      "A value is trying to be set on a copy of a slice from a DataFrame.\n",
      "Try using .loc[row_indexer,col_indexer] = value instead\n",
      "\n",
      "See the caveats in the documentation: http://pandas.pydata.org/pandas-docs/stable/indexing.html#indexing-view-versus-copy\n",
      "  self.obj[key] = _infer_fill_value(value)\n",
      "C:\\Users\\Chaojie\\Anaconda3\\lib\\site-packages\\pandas\\core\\indexing.py:537: SettingWithCopyWarning: \n",
      "A value is trying to be set on a copy of a slice from a DataFrame.\n",
      "Try using .loc[row_indexer,col_indexer] = value instead\n",
      "\n",
      "See the caveats in the documentation: http://pandas.pydata.org/pandas-docs/stable/indexing.html#indexing-view-versus-copy\n",
      "  self.obj[item] = s\n"
     ]
    }
   ],
   "source": [
    "ais_secleav = ais_sectors.copy()\n",
    "ais_secleav = ais_secleav.sort_values('time')\n",
    "\n",
    "# Seperate all data into individiual trips, create temporary information about next position of trip \n",
    "ais_secleav['next_lat'] = ais_secleav.groupby('TripID')['Latitude'].shift(-1)\n",
    "ais_secleav['next_lon'] = ais_secleav.groupby('TripID')['Longitude'].shift(-1)\n",
    "ais_secleav['next_time'] = ais_secleav.groupby('TripID')['time'].shift(-1)\n",
    "ais_secleav['next_sog'] = ais_secleav.groupby('TripID')['SOG'].shift(-1)\n",
    "ais_secleav['next_cog'] = ais_secleav.groupby('TripID')['COG'].shift(-1)\n",
    "ais_secleav['next_sector_id'] = ais_secleav.groupby('TripID')['sector'].shift(-1)\n",
    "ais_secleav = ais_secleav.sort_values(['TripID', 'time'])\n",
    "ais_secleav['next_trip_id'] = ais_secleav['TripID'].shift(-1)\n",
    "\n",
    "# Declare the row, where the sector ID changes with the next entry, as the last instance of a sector\n",
    "lasts = ais_secleav[ais_secleav['sector'] != ais_secleav['next_sector_id']]\n",
    "\n",
    "\n",
    "lasts.loc[lasts['sector'] == '0', 'sector_leave_lon'] = 2.2\n",
    "lasts.loc[lasts['sector'] == '1', 'sector_leave_lon'] = 3.2\n",
    "lasts.loc[lasts['sector'] == '2', 'sector_leave_lon'] = 3.94\n",
    "\n",
    "# Interpolate missing values of sector leave information\n",
    "lasts.loc[lasts['sector'] == '0', 'sector_leave_lat'] = lasts.loc[lasts['sector'] == '0', 'Latitude'] + ((lasts.loc[lasts['sector'] == '0', 'sector_leave_lon'] - lasts.loc[lasts['sector'] == '0', 'Longitude']) / (lasts.loc[lasts['sector'] == '0', 'next_lon'] - lasts.loc[lasts['sector'] == '0', 'Longitude'])) * (lasts.loc[lasts['sector'] == '0', 'next_lon'] - lasts.loc[lasts['sector'] == '0', 'Longitude'])\n",
    "lasts.loc[lasts['sector'] == '1', 'sector_leave_lat'] = lasts.loc[lasts['sector'] == '1', 'Latitude'] + ((lasts.loc[lasts['sector'] == '1', 'sector_leave_lon'] - lasts.loc[lasts['sector'] == '1', 'Longitude']) / (lasts.loc[lasts['sector'] == '1', 'next_lon'] - lasts.loc[lasts['sector'] == '1', 'Longitude'])) * (lasts.loc[lasts['sector'] == '1', 'next_lon'] - lasts.loc[lasts['sector'] == '1', 'Longitude'])\n",
    "lasts.loc[lasts['sector'] == '2', 'sector_leave_lat'] = lasts.loc[lasts['sector'] == '2', 'Latitude'] + ((lasts.loc[lasts['sector'] == '2', 'sector_leave_lon'] - lasts.loc[lasts['sector'] == '2', 'Longitude']) / (lasts.loc[lasts['sector'] == '2', 'next_lon'] - lasts.loc[lasts['sector'] == '2', 'Longitude'])) * (lasts.loc[lasts['sector'] == '2', 'next_lon'] - lasts.loc[lasts['sector'] == '2', 'Longitude'])\n",
    "\n",
    "lasts.loc[lasts['sector'] == '0', 'sector_leave_time'] = lasts.loc[lasts['sector'] == '0', 'time'] + ((lasts.loc[lasts['sector'] == '0', 'sector_leave_lon'] - lasts.loc[lasts['sector'] == '0', 'Longitude']) / (lasts.loc[lasts['sector'] == '0', 'next_lon'] - lasts.loc[lasts['sector'] == '0', 'Longitude'])) * (lasts.loc[lasts['sector'] == '0', 'next_time'] - lasts.loc[lasts['sector'] == '0', 'time'])\n",
    "lasts.loc[lasts['sector'] == '1', 'sector_leave_time'] = lasts.loc[lasts['sector'] == '1', 'time'] + ((lasts.loc[lasts['sector'] == '1', 'sector_leave_lon'] - lasts.loc[lasts['sector'] == '1', 'Longitude']) / (lasts.loc[lasts['sector'] == '1', 'next_lon'] - lasts.loc[lasts['sector'] == '1', 'Longitude'])) * (lasts.loc[lasts['sector'] == '1', 'next_time'] - lasts.loc[lasts['sector'] == '1', 'time'])\n",
    "lasts.loc[lasts['sector'] == '2', 'sector_leave_time'] = lasts.loc[lasts['sector'] == '2', 'time'] + ((lasts.loc[lasts['sector'] == '2', 'sector_leave_lon'] - lasts.loc[lasts['sector'] == '2', 'Longitude']) / (lasts.loc[lasts['sector'] == '2', 'next_lon'] - lasts.loc[lasts['sector'] == '2', 'Longitude'])) * (lasts.loc[lasts['sector'] == '2', 'next_time'] - lasts.loc[lasts['sector'] == '2', 'time'])\n",
    "\n",
    "lasts.loc[lasts['sector'] == '0', 'sector_leave_sog'] = lasts.loc[lasts['sector'] == '0', 'SOG'] + ((lasts.loc[lasts['sector'] == '0', 'sector_leave_lon'] - lasts.loc[lasts['sector'] == '0', 'Longitude']) / (lasts.loc[lasts['sector'] == '0', 'next_lon'] - lasts.loc[lasts['sector'] == '0', 'Longitude'])) * (lasts.loc[lasts['sector'] == '0', 'next_sog'] - lasts.loc[lasts['sector'] == '0', 'SOG'])\n",
    "lasts.loc[lasts['sector'] == '1', 'sector_leave_sog'] = lasts.loc[lasts['sector'] == '1', 'SOG'] + ((lasts.loc[lasts['sector'] == '1', 'sector_leave_lon'] - lasts.loc[lasts['sector'] == '1', 'Longitude']) / (lasts.loc[lasts['sector'] == '1', 'next_lon'] - lasts.loc[lasts['sector'] == '1', 'Longitude'])) * (lasts.loc[lasts['sector'] == '1', 'next_sog'] - lasts.loc[lasts['sector'] == '1', 'SOG'])\n",
    "lasts.loc[lasts['sector'] == '2', 'sector_leave_sog'] = lasts.loc[lasts['sector'] == '2', 'SOG'] + ((lasts.loc[lasts['sector'] == '2', 'sector_leave_lon'] - lasts.loc[lasts['sector'] == '2', 'Longitude']) / (lasts.loc[lasts['sector'] == '2', 'next_lon'] - lasts.loc[lasts['sector'] == '2', 'Longitude'])) * (lasts.loc[lasts['sector'] == '2', 'next_sog'] - lasts.loc[lasts['sector'] == '2', 'SOG'])\n",
    "\n",
    "lasts.loc[lasts['sector'] == '0', 'sector_leave_cog'] = lasts.loc[lasts['sector'] == '0', 'COG'] + ((lasts.loc[lasts['sector'] == '0', 'sector_leave_lon'] - lasts.loc[lasts['sector'] == '0', 'Longitude']) / (lasts.loc[lasts['sector'] == '0', 'next_lon'] - lasts.loc[lasts['sector'] == '0', 'Longitude'])) * (lasts.loc[lasts['sector'] == '0', 'next_cog'] - lasts.loc[lasts['sector'] == '0', 'COG'])\n",
    "lasts.loc[lasts['sector'] == '1', 'sector_leave_cog'] = lasts.loc[lasts['sector'] == '1', 'COG'] + ((lasts.loc[lasts['sector'] == '1', 'sector_leave_lon'] - lasts.loc[lasts['sector'] == '1', 'Longitude']) / (lasts.loc[lasts['sector'] == '1', 'next_lon'] - lasts.loc[lasts['sector'] == '1', 'Longitude'])) * (lasts.loc[lasts['sector'] == '1', 'next_cog'] - lasts.loc[lasts['sector'] == '1', 'COG'])\n",
    "lasts.loc[lasts['sector'] == '2', 'sector_leave_cog'] = lasts.loc[lasts['sector'] == '2', 'COG'] + ((lasts.loc[lasts['sector'] == '2', 'sector_leave_lon'] - lasts.loc[lasts['sector'] == '2', 'Longitude']) / (lasts.loc[lasts['sector'] == '2', 'next_lon'] - lasts.loc[lasts['sector'] == '2', 'Longitude'])) * (lasts.loc[lasts['sector'] == '2', 'next_cog'] - lasts.loc[lasts['sector'] == '2', 'COG'])\n",
    "\n",
    "ais_secleav['sector_leave_lat'] = lasts['sector_leave_lat']\n",
    "ais_secleav['sector_leave_lon'] = lasts['sector_leave_lon']\n",
    "ais_secleav['sector_leave_time'] = lasts['sector_leave_time']\n",
    "ais_secleav['sector_leave_sog'] = lasts['sector_leave_sog']\n",
    "ais_secleav['sector_leave_cog'] = lasts['sector_leave_cog']\n",
    "\n",
    "ais_secleav['sector_leave_lat'] = ais_secleav.groupby(['TripID', 'sector'])['sector_leave_lat'].transform('last')\n",
    "ais_secleav['sector_leave_lon'] = ais_secleav.groupby(['TripID', 'sector'])['sector_leave_lon'].transform('last')\n",
    "ais_secleav['sector_leave_time'] = ais_secleav.groupby(['TripID', 'sector'])['sector_leave_time'].transform('last')\n",
    "ais_secleav['sector_leave_sog'] = ais_secleav.groupby(['TripID', 'sector'])['sector_leave_sog'].transform('last')\n",
    "ais_secleav['sector_leave_cog'] = ais_secleav.groupby(['TripID', 'sector'])['sector_leave_cog'].transform('last')\n",
    "\n",
    "# Drop temporary variables\n",
    "ais_secleav = ais_secleav.drop(['next_lat', 'next_lon', 'next_time', 'next_sog', 'next_cog', 'next_sector_id', 'next_trip_id'], axis = 1)"
   ]
  },
  {
   "cell_type": "code",
   "execution_count": 30,
   "metadata": {},
   "outputs": [],
   "source": [
    "# Calculate remaining minutes til a trip leaves a sector\n",
    "ais_secleav_ts = ais_secleav.copy()\n",
    "ais_secleav_ts['time_to_sector_leave'] = ais_secleav_ts['sector_leave_time'] - ais_secleav_ts['time']\n",
    "ais_secleav_ts['mins_to_sector_leave'] = ais_secleav_ts['time_to_sector_leave'].transform(lambda x: x.total_seconds() / 60)"
   ]
  },
  {
   "cell_type": "code",
   "execution_count": 31,
   "metadata": {},
   "outputs": [],
   "source": [
    "# ais_secleav_ts.columns"
   ]
  },
  {
   "cell_type": "code",
   "execution_count": 32,
   "metadata": {},
   "outputs": [],
   "source": [
    "# Set a macro to export potential machine learning input values\n",
    "learners = ['TripID', 'time', 'Length', 'Breadth', 'Draught', 'Latitude', 'Longitude',\n",
    "            'SOG', 'COG', 'TH', 'TravelTimeMins', 'remainingMins', 'hour_of_day',\n",
    "            'weekday', 'day_of_month', 'month', 'sector', 'mins_to_sector_leave', 'sector_leave_lat',\n",
    "            'sector_leave_lon', 'sector_leave_sog', 'sector_leave_cog']"
   ]
  },
  {
   "cell_type": "code",
   "execution_count": 33,
   "metadata": {},
   "outputs": [],
   "source": [
    "ais_learners = ais_secleav_ts[learners]\n",
    "ais_learners = ais_learners.dropna()\n",
    "# ais_learners.head()"
   ]
  },
  {
   "cell_type": "code",
   "execution_count": 34,
   "metadata": {},
   "outputs": [],
   "source": [
    "# Function to export the dataset, seperated to the corresponding sector\n",
    "def save_by_sectors(ais_data, name):\n",
    "    sectors = ais_data['sector'].unique()\n",
    "    for s in sectors:\n",
    "        ais_to_save = ais_data[ais_data['sector'] == s]\n",
    "        ais_to_save.to_pickle('%s_s%s.pkl' % (name, s))"
   ]
  },
  {
   "cell_type": "code",
   "execution_count": 39,
   "metadata": {},
   "outputs": [],
   "source": [
    "# Export without downsampling\n",
    "ais_learners = ais_secleav_ts[learners]\n",
    "ais_learners = ais_learners.dropna()\n",
    "\n",
    "# save train set\n",
    "save_by_sectors(ais_learners, 'FEL-ROT_learners_01min')\n",
    "\n",
    "# save test set, only for presentation\n",
    "# save_by_sectors(ais_learners, 'FEL-ROT_test_01min')"
   ]
  },
  {
   "cell_type": "code",
   "execution_count": null,
   "metadata": {},
   "outputs": [],
   "source": [
    "# Export downsampled to 5 minutes\n",
    "\n",
    "# ais_downsampled = ais_secleav_ts.copy()\n",
    "# ais_downsampled.index = ais_downsampled['time']\n",
    "# ais_downsampled = ais_downsampled.groupby('TripID').apply(lambda x : x.resample('5T').mean()).reset_index()\n",
    "# ais_downsampled = assign_sectors(ais_downsampled)\n",
    "\n",
    "# ais_learners = ais_downsampled[learners]\n",
    "# ais_learners = ais_learners.dropna()\n",
    "# ais_learners.to_pickle('FEL-ROT_learners_05min.pkl')"
   ]
  },
  {
   "cell_type": "code",
   "execution_count": null,
   "metadata": {},
   "outputs": [],
   "source": [
    "# Export downsampled to 10 minutes\n",
    "\n",
    "# ais_downsampled = ais_secleav_ts.copy()\n",
    "# ais_downsampled.index = ais_downsampled['time']\n",
    "# ais_downsampled = ais_downsampled.groupby('TripID').apply(lambda x : x.resample('10T').mean()).reset_index()\n",
    "# ais_downsampled = assign_sectors(ais_downsampled)\n",
    "\n",
    "# ais_learners = ais_downsampled[learners]\n",
    "# ais_learners = ais_learners.dropna()\n",
    "# save_by_sectors(ais_learners, 'FEL-ROT_learners_10min')"
   ]
  },
  {
   "cell_type": "code",
   "execution_count": null,
   "metadata": {},
   "outputs": [],
   "source": [
    "# Export downsampled to 15 minutes\n",
    "\n",
    "# ais_downsampled = ais_secleav_ts.copy()\n",
    "# ais_downsampled.index = ais_downsampled['time']\n",
    "# ais_downsampled = ais_downsampled.groupby('TripID').apply(lambda x : x.resample('15T').mean()).reset_index()\n",
    "# ais_downsampled = assign_sectors(ais_downsampled)\n",
    "\n",
    "# ais_learners = ais_downsampled[learners]\n",
    "# ais_learners = ais_learners.dropna()\n",
    "# ais_learners.to_pickle('FEL-ROT_learners_15min.pkl')"
   ]
  },
  {
   "cell_type": "code",
   "execution_count": null,
   "metadata": {},
   "outputs": [],
   "source": [
    "# Export downsampled to 30 minutes\n",
    "\n",
    "# ais_downsampled = ais_secleav_ts.copy()\n",
    "# ais_downsampled.index = ais_downsampled['time']\n",
    "# ais_downsampled = ais_downsampled.groupby('TripID').apply(lambda x : x.resample('30T').mean()).reset_index()\n",
    "# ais_downsampled = assign_sectors(ais_downsampled)\n",
    "\n",
    "# ais_learners = ais_downsampled[learners]\n",
    "# ais_learners = ais_learners.dropna()\n",
    "# ais_learners.to_pickle('FEL-ROT_learners_30min.pkl')"
   ]
  },
  {
   "cell_type": "code",
   "execution_count": null,
   "metadata": {},
   "outputs": [],
   "source": [
    "# Export downsampled to 60 minutes\n",
    "\n",
    "# ais_downsampled = ais_secleav_ts.copy()\n",
    "# ais_downsampled.index = ais_downsampled['time']\n",
    "# ais_downsampled = ais_downsampled.groupby('TripID').apply(lambda x : x.resample('60T').mean()).reset_index()\n",
    "# ais_downsampled = assign_sectors(ais_downsampled)\n",
    "\n",
    "# ais_learners = ais_downsampled[learners]\n",
    "# ais_learners = ais_learners.dropna()\n",
    "# save_by_sectors(ais_learners, 'FEL-ROT_learners_60min')"
   ]
  }
 ],
 "metadata": {
  "kernelspec": {
   "display_name": "Python 3",
   "language": "python",
   "name": "python3"
  },
  "language_info": {
   "codemirror_mode": {
    "name": "ipython",
    "version": 3
   },
   "file_extension": ".py",
   "mimetype": "text/x-python",
   "name": "python",
   "nbconvert_exporter": "python",
   "pygments_lexer": "ipython3",
   "version": "3.6.4"
  }
 },
 "nbformat": 4,
 "nbformat_minor": 2
}
