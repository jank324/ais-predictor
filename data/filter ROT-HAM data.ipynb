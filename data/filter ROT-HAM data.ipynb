{
 "cells": [
  {
   "cell_type": "code",
   "execution_count": 1,
   "metadata": {},
   "outputs": [],
   "source": [
    "import pandas as pd\n",
    "import numpy as np\n",
    "\n",
    "import matplotlib.pyplot as plt\n",
    "% matplotlib inline\n",
    "plt.style.use('ggplot')\n",
    "\n",
    "import cartopy.crs as ccrs\n",
    "import cartopy.feature as cfeat\n",
    "import cartopy.io.img_tiles as cimgt"
   ]
  },
  {
   "cell_type": "code",
   "execution_count": 2,
   "metadata": {},
   "outputs": [],
   "source": [
    "def plot_to_map(size, longitude, latitude) :\n",
    "    stamen_terrain = cimgt.StamenTerrain()\n",
    "    \n",
    "    plt.figure(figsize = size)\n",
    "    ax = plt.axes(projection = stamen_terrain.crs)\n",
    "    \n",
    "    min_long = longitude.min() - 0.5\n",
    "    max_long = longitude.max() + 0.5\n",
    "    min_lat = latitude.min() - 0.5\n",
    "    max_lat = latitude.max() + 0.5\n",
    "    ax.set_extent([min_long, max_long, min_lat, max_lat])\n",
    "    \n",
    "    ax.add_image(stamen_terrain, 8)\n",
    "    #ax.add_feature(cfeat.LAND.with_scale('50m'))\n",
    "    #ax.add_feature(cfeat.OCEAN.with_scale('50m'))\n",
    "    #ax.add_feature(cfeat.COASTLINE.with_scale('50m'))\n",
    "    #ax.add_feature(cfeat.BORDERS.with_scale('50m'))\n",
    "    #ax.add_feature(cfeat.RIVERS.with_scale('50m'))\n",
    "    \n",
    "    ax.scatter(x = longitude, y = latitude, transform = ccrs.Geodetic())\n",
    "    \n",
    "    return"
   ]
  },
  {
   "cell_type": "code",
   "execution_count": 3,
   "metadata": {},
   "outputs": [],
   "source": [
    "# Load the data\n",
    "names = ['TripID', 'MMSI', 'StartLatitude', 'StartLongitude', 'StartTime', 'EndLatitude', 'EndLongitude', 'EndTime',\n",
    "         'StartPort', 'EndPort', 'ID', 'time', 'shiptype', 'Length', 'Breadth', 'Draught', 'Latitude', 'Longitude',\n",
    "         'SOG', 'COG', 'TH', 'Destination', 'Name', 'Callsign', 'AisSourcen']\n",
    "ais = pd.read_csv('rotterdam_hamburg.arff', names = names, skiprows = 27, parse_dates = True, index_col = 'ID',\n",
    "                  na_values = ['?'], dtype = {'TripID': str, 'MMSI': str, 'shiptype': str})"
   ]
  },
  {
   "cell_type": "code",
   "execution_count": 4,
   "metadata": {},
   "outputs": [
    {
     "data": {
      "text/html": [
       "<div>\n",
       "<style scoped>\n",
       "    .dataframe tbody tr th:only-of-type {\n",
       "        vertical-align: middle;\n",
       "    }\n",
       "\n",
       "    .dataframe tbody tr th {\n",
       "        vertical-align: top;\n",
       "    }\n",
       "\n",
       "    .dataframe thead th {\n",
       "        text-align: right;\n",
       "    }\n",
       "</style>\n",
       "<table border=\"1\" class=\"dataframe\">\n",
       "  <thead>\n",
       "    <tr style=\"text-align: right;\">\n",
       "      <th></th>\n",
       "      <th>TripID</th>\n",
       "      <th>MMSI</th>\n",
       "      <th>StartLatitude</th>\n",
       "      <th>StartLongitude</th>\n",
       "      <th>StartTime</th>\n",
       "      <th>EndLatitude</th>\n",
       "      <th>EndLongitude</th>\n",
       "      <th>EndTime</th>\n",
       "      <th>StartPort</th>\n",
       "      <th>EndPort</th>\n",
       "      <th>...</th>\n",
       "      <th>Draught</th>\n",
       "      <th>Latitude</th>\n",
       "      <th>Longitude</th>\n",
       "      <th>SOG</th>\n",
       "      <th>COG</th>\n",
       "      <th>TH</th>\n",
       "      <th>Destination</th>\n",
       "      <th>Name</th>\n",
       "      <th>Callsign</th>\n",
       "      <th>AisSourcen</th>\n",
       "    </tr>\n",
       "    <tr>\n",
       "      <th>ID</th>\n",
       "      <th></th>\n",
       "      <th></th>\n",
       "      <th></th>\n",
       "      <th></th>\n",
       "      <th></th>\n",
       "      <th></th>\n",
       "      <th></th>\n",
       "      <th></th>\n",
       "      <th></th>\n",
       "      <th></th>\n",
       "      <th></th>\n",
       "      <th></th>\n",
       "      <th></th>\n",
       "      <th></th>\n",
       "      <th></th>\n",
       "      <th></th>\n",
       "      <th></th>\n",
       "      <th></th>\n",
       "      <th></th>\n",
       "      <th></th>\n",
       "      <th></th>\n",
       "    </tr>\n",
       "  </thead>\n",
       "  <tbody>\n",
       "    <tr>\n",
       "      <th>39110154</th>\n",
       "      <td>21109</td>\n",
       "      <td>210481000</td>\n",
       "      <td>51.94</td>\n",
       "      <td>4.05</td>\n",
       "      <td>'2016-1-21 04:32'</td>\n",
       "      <td>53.53</td>\n",
       "      <td>9.91</td>\n",
       "      <td>'2016-1-22 06:04'</td>\n",
       "      <td>ROTTERDAM</td>\n",
       "      <td>HAMBURG</td>\n",
       "      <td>...</td>\n",
       "      <td>10.64</td>\n",
       "      <td>53.95</td>\n",
       "      <td>7.82</td>\n",
       "      <td>14.7</td>\n",
       "      <td>81.0</td>\n",
       "      <td>80.0</td>\n",
       "      <td>HAMBURG</td>\n",
       "      <td>CMA.CGM.SAMBHAR</td>\n",
       "      <td>5BND2</td>\n",
       "      <td>H7001.DAIS1.81b.71.71a</td>\n",
       "    </tr>\n",
       "    <tr>\n",
       "      <th>39112959</th>\n",
       "      <td>21109</td>\n",
       "      <td>210481000</td>\n",
       "      <td>51.94</td>\n",
       "      <td>4.05</td>\n",
       "      <td>'2016-1-21 04:32'</td>\n",
       "      <td>53.53</td>\n",
       "      <td>9.91</td>\n",
       "      <td>'2016-1-22 06:04'</td>\n",
       "      <td>ROTTERDAM</td>\n",
       "      <td>HAMBURG</td>\n",
       "      <td>...</td>\n",
       "      <td>10.64</td>\n",
       "      <td>53.95</td>\n",
       "      <td>7.83</td>\n",
       "      <td>14.7</td>\n",
       "      <td>80.0</td>\n",
       "      <td>80.0</td>\n",
       "      <td>HAMBURG</td>\n",
       "      <td>CMA.CGM.SAMBHAR</td>\n",
       "      <td>5BND2</td>\n",
       "      <td>H7001.DAIS1.81b.71.71a</td>\n",
       "    </tr>\n",
       "    <tr>\n",
       "      <th>39118599</th>\n",
       "      <td>21109</td>\n",
       "      <td>210481000</td>\n",
       "      <td>51.94</td>\n",
       "      <td>4.05</td>\n",
       "      <td>'2016-1-21 04:32'</td>\n",
       "      <td>53.53</td>\n",
       "      <td>9.91</td>\n",
       "      <td>'2016-1-22 06:04'</td>\n",
       "      <td>ROTTERDAM</td>\n",
       "      <td>HAMBURG</td>\n",
       "      <td>...</td>\n",
       "      <td>10.64</td>\n",
       "      <td>53.95</td>\n",
       "      <td>7.83</td>\n",
       "      <td>14.7</td>\n",
       "      <td>81.0</td>\n",
       "      <td>80.0</td>\n",
       "      <td>HAMBURG</td>\n",
       "      <td>CMA.CGM.SAMBHAR</td>\n",
       "      <td>5BND2</td>\n",
       "      <td>H7001.DAIS1.81b.71.71a</td>\n",
       "    </tr>\n",
       "    <tr>\n",
       "      <th>39123728</th>\n",
       "      <td>21109</td>\n",
       "      <td>210481000</td>\n",
       "      <td>51.94</td>\n",
       "      <td>4.05</td>\n",
       "      <td>'2016-1-21 04:32'</td>\n",
       "      <td>53.53</td>\n",
       "      <td>9.91</td>\n",
       "      <td>'2016-1-22 06:04'</td>\n",
       "      <td>ROTTERDAM</td>\n",
       "      <td>HAMBURG</td>\n",
       "      <td>...</td>\n",
       "      <td>10.64</td>\n",
       "      <td>53.95</td>\n",
       "      <td>7.84</td>\n",
       "      <td>14.7</td>\n",
       "      <td>80.0</td>\n",
       "      <td>80.0</td>\n",
       "      <td>HAMBURG</td>\n",
       "      <td>CMA.CGM.SAMBHAR</td>\n",
       "      <td>5BND2</td>\n",
       "      <td>H7001.DAIS1.81b.71.71a</td>\n",
       "    </tr>\n",
       "    <tr>\n",
       "      <th>39127583</th>\n",
       "      <td>21109</td>\n",
       "      <td>210481000</td>\n",
       "      <td>51.94</td>\n",
       "      <td>4.05</td>\n",
       "      <td>'2016-1-21 04:32'</td>\n",
       "      <td>53.53</td>\n",
       "      <td>9.91</td>\n",
       "      <td>'2016-1-22 06:04'</td>\n",
       "      <td>ROTTERDAM</td>\n",
       "      <td>HAMBURG</td>\n",
       "      <td>...</td>\n",
       "      <td>10.64</td>\n",
       "      <td>53.95</td>\n",
       "      <td>7.85</td>\n",
       "      <td>14.7</td>\n",
       "      <td>81.0</td>\n",
       "      <td>80.0</td>\n",
       "      <td>HAMBURG</td>\n",
       "      <td>CMA.CGM.SAMBHAR</td>\n",
       "      <td>5BND2</td>\n",
       "      <td>H7001.DAIS1.81b.71.71a</td>\n",
       "    </tr>\n",
       "  </tbody>\n",
       "</table>\n",
       "<p>5 rows × 24 columns</p>\n",
       "</div>"
      ],
      "text/plain": [
       "         TripID       MMSI  StartLatitude  StartLongitude          StartTime  \\\n",
       "ID                                                                             \n",
       "39110154  21109  210481000          51.94            4.05  '2016-1-21 04:32'   \n",
       "39112959  21109  210481000          51.94            4.05  '2016-1-21 04:32'   \n",
       "39118599  21109  210481000          51.94            4.05  '2016-1-21 04:32'   \n",
       "39123728  21109  210481000          51.94            4.05  '2016-1-21 04:32'   \n",
       "39127583  21109  210481000          51.94            4.05  '2016-1-21 04:32'   \n",
       "\n",
       "          EndLatitude  EndLongitude            EndTime  StartPort  EndPort  \\\n",
       "ID                                                                           \n",
       "39110154        53.53          9.91  '2016-1-22 06:04'  ROTTERDAM  HAMBURG   \n",
       "39112959        53.53          9.91  '2016-1-22 06:04'  ROTTERDAM  HAMBURG   \n",
       "39118599        53.53          9.91  '2016-1-22 06:04'  ROTTERDAM  HAMBURG   \n",
       "39123728        53.53          9.91  '2016-1-22 06:04'  ROTTERDAM  HAMBURG   \n",
       "39127583        53.53          9.91  '2016-1-22 06:04'  ROTTERDAM  HAMBURG   \n",
       "\n",
       "                   ...           Draught Latitude  Longitude   SOG   COG  \\\n",
       "ID                 ...                                                     \n",
       "39110154           ...             10.64    53.95       7.82  14.7  81.0   \n",
       "39112959           ...             10.64    53.95       7.83  14.7  80.0   \n",
       "39118599           ...             10.64    53.95       7.83  14.7  81.0   \n",
       "39123728           ...             10.64    53.95       7.84  14.7  80.0   \n",
       "39127583           ...             10.64    53.95       7.85  14.7  81.0   \n",
       "\n",
       "            TH  Destination             Name  Callsign              AisSourcen  \n",
       "ID                                                                              \n",
       "39110154  80.0      HAMBURG  CMA.CGM.SAMBHAR     5BND2  H7001.DAIS1.81b.71.71a  \n",
       "39112959  80.0      HAMBURG  CMA.CGM.SAMBHAR     5BND2  H7001.DAIS1.81b.71.71a  \n",
       "39118599  80.0      HAMBURG  CMA.CGM.SAMBHAR     5BND2  H7001.DAIS1.81b.71.71a  \n",
       "39123728  80.0      HAMBURG  CMA.CGM.SAMBHAR     5BND2  H7001.DAIS1.81b.71.71a  \n",
       "39127583  80.0      HAMBURG  CMA.CGM.SAMBHAR     5BND2  H7001.DAIS1.81b.71.71a  \n",
       "\n",
       "[5 rows x 24 columns]"
      ]
     },
     "execution_count": 4,
     "metadata": {},
     "output_type": "execute_result"
    }
   ],
   "source": [
    "ais.head()"
   ]
  },
  {
   "cell_type": "code",
   "execution_count": 5,
   "metadata": {},
   "outputs": [],
   "source": [
    "# Delete AisSourcen column\n",
    "ais = ais.drop(['AisSourcen'], axis = 1)"
   ]
  },
  {
   "cell_type": "code",
   "execution_count": 6,
   "metadata": {},
   "outputs": [],
   "source": [
    "# Convert time columns to correct dtype\n",
    "ais['StartTime'] = pd.to_datetime(ais['StartTime'], format = '\\'%Y-%m-%d %H:%M\\'')\n",
    "ais['EndTime'] = pd.to_datetime(ais['EndTime'], format = '\\'%Y-%m-%d %H:%M\\'')\n",
    "ais['time'] = pd.to_datetime(ais['time'], format = '\\'%Y-%m-%d %H:%M\\'')"
   ]
  },
  {
   "cell_type": "code",
   "execution_count": 7,
   "metadata": {},
   "outputs": [
    {
     "name": "stderr",
     "output_type": "stream",
     "text": [
      "/Users/jankaiser/anaconda2/lib/python2.7/site-packages/ipykernel_launcher.py:3: SettingWithCopyWarning: \n",
      "A value is trying to be set on a copy of a slice from a DataFrame\n",
      "\n",
      "See the caveats in the documentation: http://pandas.pydata.org/pandas-docs/stable/indexing.html#indexing-view-versus-copy\n",
      "  This is separate from the ipykernel package so we can avoid doing imports until\n"
     ]
    }
   ],
   "source": [
    "# Convert all headings that are 511 (>= 360) to NaN\n",
    "bad_th_mask = ais['TH'] >= 360\n",
    "ais['TH'][bad_th_mask] = np.nan"
   ]
  },
  {
   "cell_type": "code",
   "execution_count": 8,
   "metadata": {},
   "outputs": [
    {
     "name": "stderr",
     "output_type": "stream",
     "text": [
      "/Users/jankaiser/anaconda2/lib/python2.7/site-packages/ipykernel_launcher.py:3: SettingWithCopyWarning: \n",
      "A value is trying to be set on a copy of a slice from a DataFrame\n",
      "\n",
      "See the caveats in the documentation: http://pandas.pydata.org/pandas-docs/stable/indexing.html#indexing-view-versus-copy\n",
      "  This is separate from the ipykernel package so we can avoid doing imports until\n"
     ]
    }
   ],
   "source": [
    "# Convert courses >= 360 to NaN\n",
    "bad_cog_mask = ais['COG'] >= 360\n",
    "ais['COG'][bad_cog_mask] = np.nan"
   ]
  },
  {
   "cell_type": "code",
   "execution_count": 9,
   "metadata": {},
   "outputs": [
    {
     "name": "stderr",
     "output_type": "stream",
     "text": [
      "/Users/jankaiser/anaconda2/lib/python2.7/site-packages/ipykernel_launcher.py:5: SettingWithCopyWarning: \n",
      "A value is trying to be set on a copy of a slice from a DataFrame\n",
      "\n",
      "See the caveats in the documentation: http://pandas.pydata.org/pandas-docs/stable/indexing.html#indexing-view-versus-copy\n",
      "  \"\"\"\n"
     ]
    }
   ],
   "source": [
    "# Set invalid shiptypes to NaN\n",
    "# Invalid shiptypes in the data set are '0' and '159'\n",
    "bad_shiptypes = ['0', '159']\n",
    "bad_shiptype_mask = (ais['shiptype'] == '0') | (ais['shiptype'] == '159')\n",
    "ais['shiptype'][bad_shiptype_mask] = np.nan"
   ]
  },
  {
   "cell_type": "code",
   "execution_count": 10,
   "metadata": {},
   "outputs": [
    {
     "data": {
      "text/plain": [
       "[<matplotlib.lines.Line2D at 0x1054c2250>]"
      ]
     },
     "execution_count": 10,
     "metadata": {},
     "output_type": "execute_result"
    },
    {
     "data": {
      "image/png": "[encoded data removed]",
      "text/plain": [
       "<matplotlib.figure.Figure at 0x1134250d0>"
      ]
     },
     "metadata": {},
     "output_type": "display_data"
    }
   ],
   "source": [
    "lengths = ais['Length'].value_counts()\n",
    "plt.figure(figsize = (15, 5))\n",
    "plt.plot(lengths.sort_index())"
   ]
  },
  {
   "cell_type": "code",
   "execution_count": 11,
   "metadata": {},
   "outputs": [
    {
     "name": "stderr",
     "output_type": "stream",
     "text": [
      "/Users/jankaiser/anaconda2/lib/python2.7/site-packages/ipykernel_launcher.py:2: SettingWithCopyWarning: \n",
      "A value is trying to be set on a copy of a slice from a DataFrame\n",
      "\n",
      "See the caveats in the documentation: http://pandas.pydata.org/pandas-docs/stable/indexing.html#indexing-view-versus-copy\n",
      "  \n"
     ]
    }
   ],
   "source": [
    "# Set invalid lengths (0 or > 400) to NaN\n",
    "bad_length_mask = (ais['Length'] <= 0) | (ais['Length'] > 400)\n",
    "ais['Length'][bad_length_mask] = np.nan"
   ]
  },
  {
   "cell_type": "code",
   "execution_count": 12,
   "metadata": {},
   "outputs": [
    {
     "data": {
      "text/plain": [
       "[<matplotlib.lines.Line2D at 0x115628c50>]"
      ]
     },
     "execution_count": 12,
     "metadata": {},
     "output_type": "execute_result"
    },
    {
     "data": {
      "image/png": "[encoded data removed]",
      "text/plain": [
       "<matplotlib.figure.Figure at 0x109328350>"
      ]
     },
     "metadata": {},
     "output_type": "display_data"
    }
   ],
   "source": [
    "lengths = ais['Length'].value_counts()\n",
    "plt.figure(figsize = (15, 5))\n",
    "plt.plot(lengths.sort_index())"
   ]
  },
  {
   "cell_type": "code",
   "execution_count": null,
   "metadata": {},
   "outputs": [],
   "source": [
    "# Plot all positions in the data before any filters are applied\n",
    "plot_to_map(size = (13, 13), longitude = ais['Longitude'], latitude = ais['Latitude'])\n",
    "plt.title(\"All Positions Before Filtering\")"
   ]
  },
  {
   "cell_type": "code",
   "execution_count": null,
   "metadata": {},
   "outputs": [],
   "source": [
    "# Plot start positions before any filtering to map\n",
    "plot_to_map(size = (8, 8), longitude = ais['StartLongitude'], latitude = ais['StartLatitude'])\n",
    "plt.title(\"Start Positions Before Filtering\")"
   ]
  },
  {
   "cell_type": "code",
   "execution_count": null,
   "metadata": {},
   "outputs": [],
   "source": [
    "# Plot end positions before any filtering to map\n",
    "plot_to_map(size = (8, 8), longitude = ais['EndLongitude'], latitude = ais['EndLatitude'])\n",
    "plt.title(\"End Positions Before Filtering\")"
   ]
  }
 ],
 "metadata": {
  "kernelspec": {
   "display_name": "Python 2",
   "language": "python",
   "name": "python2"
  },
  "language_info": {
   "codemirror_mode": {
    "name": "ipython",
    "version": 2
   },
   "file_extension": ".py",
   "mimetype": "text/x-python",
   "name": "python",
   "nbconvert_exporter": "python",
   "pygments_lexer": "ipython2",
   "version": "2.7.14"
  }
 },
 "nbformat": 4,
 "nbformat_minor": 2
}
