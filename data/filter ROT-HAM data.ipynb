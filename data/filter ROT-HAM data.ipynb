{
 "cells": [
  {
   "cell_type": "code",
   "execution_count": 1,
   "metadata": {},
   "outputs": [],
   "source": [
    "import pandas as pd\n",
    "import numpy as np\n",
    "\n",
    "import matplotlib.pyplot as plt\n",
    "% matplotlib inline\n",
    "plt.style.use('ggplot')\n",
    "\n",
    "import seaborn as sns\n",
    "\n",
    "import cartopy.crs as ccrs\n",
    "import cartopy.feature as cfeat\n",
    "import cartopy.io.img_tiles as cimgt\n",
    "\n",
    "import AISMapPlot as aismap"
   ]
  },
  {
   "cell_type": "code",
   "execution_count": 2,
   "metadata": {},
   "outputs": [],
   "source": [
    "# Load the data\n",
    "names = ['TripID', 'MMSI', 'StartLatitude', 'StartLongitude', 'StartTime', 'EndLatitude', 'EndLongitude', 'EndTime',\n",
    "         'StartPort', 'EndPort', 'ID', 'time', 'shiptype', 'Length', 'Breadth', 'Draught', 'Latitude', 'Longitude',\n",
    "         'SOG', 'COG', 'TH', 'Destination', 'Name', 'Callsign', 'AisSourcen']\n",
    "ais = pd.read_csv('rotterdam_hamburg.arff', names = names, skiprows = 27, parse_dates = True,\n",
    "                  na_values = ['?'], dtype = {'TripID': str, 'MMSI': str, 'shiptype': str})"
   ]
  },
  {
   "cell_type": "code",
   "execution_count": 3,
   "metadata": {},
   "outputs": [
    {
     "data": {
      "text/html": [
       "<div>\n",
       "<style scoped>\n",
       "    .dataframe tbody tr th:only-of-type {\n",
       "        vertical-align: middle;\n",
       "    }\n",
       "\n",
       "    .dataframe tbody tr th {\n",
       "        vertical-align: top;\n",
       "    }\n",
       "\n",
       "    .dataframe thead th {\n",
       "        text-align: right;\n",
       "    }\n",
       "</style>\n",
       "<table border=\"1\" class=\"dataframe\">\n",
       "  <thead>\n",
       "    <tr style=\"text-align: right;\">\n",
       "      <th></th>\n",
       "      <th>TripID</th>\n",
       "      <th>MMSI</th>\n",
       "      <th>StartLatitude</th>\n",
       "      <th>StartLongitude</th>\n",
       "      <th>StartTime</th>\n",
       "      <th>EndLatitude</th>\n",
       "      <th>EndLongitude</th>\n",
       "      <th>EndTime</th>\n",
       "      <th>StartPort</th>\n",
       "      <th>EndPort</th>\n",
       "      <th>...</th>\n",
       "      <th>Draught</th>\n",
       "      <th>Latitude</th>\n",
       "      <th>Longitude</th>\n",
       "      <th>SOG</th>\n",
       "      <th>COG</th>\n",
       "      <th>TH</th>\n",
       "      <th>Destination</th>\n",
       "      <th>Name</th>\n",
       "      <th>Callsign</th>\n",
       "      <th>AisSourcen</th>\n",
       "    </tr>\n",
       "  </thead>\n",
       "  <tbody>\n",
       "    <tr>\n",
       "      <th>0</th>\n",
       "      <td>21109</td>\n",
       "      <td>210481000</td>\n",
       "      <td>51.94</td>\n",
       "      <td>4.05</td>\n",
       "      <td>'2016-1-21 04:32'</td>\n",
       "      <td>53.53</td>\n",
       "      <td>9.91</td>\n",
       "      <td>'2016-1-22 06:04'</td>\n",
       "      <td>ROTTERDAM</td>\n",
       "      <td>HAMBURG</td>\n",
       "      <td>...</td>\n",
       "      <td>10.64</td>\n",
       "      <td>53.95</td>\n",
       "      <td>7.82</td>\n",
       "      <td>14.7</td>\n",
       "      <td>81.0</td>\n",
       "      <td>80.0</td>\n",
       "      <td>HAMBURG</td>\n",
       "      <td>CMA.CGM.SAMBHAR</td>\n",
       "      <td>5BND2</td>\n",
       "      <td>H7001.DAIS1.81b.71.71a</td>\n",
       "    </tr>\n",
       "    <tr>\n",
       "      <th>1</th>\n",
       "      <td>21109</td>\n",
       "      <td>210481000</td>\n",
       "      <td>51.94</td>\n",
       "      <td>4.05</td>\n",
       "      <td>'2016-1-21 04:32'</td>\n",
       "      <td>53.53</td>\n",
       "      <td>9.91</td>\n",
       "      <td>'2016-1-22 06:04'</td>\n",
       "      <td>ROTTERDAM</td>\n",
       "      <td>HAMBURG</td>\n",
       "      <td>...</td>\n",
       "      <td>10.64</td>\n",
       "      <td>53.95</td>\n",
       "      <td>7.83</td>\n",
       "      <td>14.7</td>\n",
       "      <td>80.0</td>\n",
       "      <td>80.0</td>\n",
       "      <td>HAMBURG</td>\n",
       "      <td>CMA.CGM.SAMBHAR</td>\n",
       "      <td>5BND2</td>\n",
       "      <td>H7001.DAIS1.81b.71.71a</td>\n",
       "    </tr>\n",
       "    <tr>\n",
       "      <th>2</th>\n",
       "      <td>21109</td>\n",
       "      <td>210481000</td>\n",
       "      <td>51.94</td>\n",
       "      <td>4.05</td>\n",
       "      <td>'2016-1-21 04:32'</td>\n",
       "      <td>53.53</td>\n",
       "      <td>9.91</td>\n",
       "      <td>'2016-1-22 06:04'</td>\n",
       "      <td>ROTTERDAM</td>\n",
       "      <td>HAMBURG</td>\n",
       "      <td>...</td>\n",
       "      <td>10.64</td>\n",
       "      <td>53.95</td>\n",
       "      <td>7.83</td>\n",
       "      <td>14.7</td>\n",
       "      <td>81.0</td>\n",
       "      <td>80.0</td>\n",
       "      <td>HAMBURG</td>\n",
       "      <td>CMA.CGM.SAMBHAR</td>\n",
       "      <td>5BND2</td>\n",
       "      <td>H7001.DAIS1.81b.71.71a</td>\n",
       "    </tr>\n",
       "    <tr>\n",
       "      <th>3</th>\n",
       "      <td>21109</td>\n",
       "      <td>210481000</td>\n",
       "      <td>51.94</td>\n",
       "      <td>4.05</td>\n",
       "      <td>'2016-1-21 04:32'</td>\n",
       "      <td>53.53</td>\n",
       "      <td>9.91</td>\n",
       "      <td>'2016-1-22 06:04'</td>\n",
       "      <td>ROTTERDAM</td>\n",
       "      <td>HAMBURG</td>\n",
       "      <td>...</td>\n",
       "      <td>10.64</td>\n",
       "      <td>53.95</td>\n",
       "      <td>7.84</td>\n",
       "      <td>14.7</td>\n",
       "      <td>80.0</td>\n",
       "      <td>80.0</td>\n",
       "      <td>HAMBURG</td>\n",
       "      <td>CMA.CGM.SAMBHAR</td>\n",
       "      <td>5BND2</td>\n",
       "      <td>H7001.DAIS1.81b.71.71a</td>\n",
       "    </tr>\n",
       "    <tr>\n",
       "      <th>4</th>\n",
       "      <td>21109</td>\n",
       "      <td>210481000</td>\n",
       "      <td>51.94</td>\n",
       "      <td>4.05</td>\n",
       "      <td>'2016-1-21 04:32'</td>\n",
       "      <td>53.53</td>\n",
       "      <td>9.91</td>\n",
       "      <td>'2016-1-22 06:04'</td>\n",
       "      <td>ROTTERDAM</td>\n",
       "      <td>HAMBURG</td>\n",
       "      <td>...</td>\n",
       "      <td>10.64</td>\n",
       "      <td>53.95</td>\n",
       "      <td>7.85</td>\n",
       "      <td>14.7</td>\n",
       "      <td>81.0</td>\n",
       "      <td>80.0</td>\n",
       "      <td>HAMBURG</td>\n",
       "      <td>CMA.CGM.SAMBHAR</td>\n",
       "      <td>5BND2</td>\n",
       "      <td>H7001.DAIS1.81b.71.71a</td>\n",
       "    </tr>\n",
       "  </tbody>\n",
       "</table>\n",
       "<p>5 rows × 25 columns</p>\n",
       "</div>"
      ],
      "text/plain": [
       "  TripID       MMSI  StartLatitude  StartLongitude          StartTime  \\\n",
       "0  21109  210481000          51.94            4.05  '2016-1-21 04:32'   \n",
       "1  21109  210481000          51.94            4.05  '2016-1-21 04:32'   \n",
       "2  21109  210481000          51.94            4.05  '2016-1-21 04:32'   \n",
       "3  21109  210481000          51.94            4.05  '2016-1-21 04:32'   \n",
       "4  21109  210481000          51.94            4.05  '2016-1-21 04:32'   \n",
       "\n",
       "   EndLatitude  EndLongitude            EndTime  StartPort  EndPort  \\\n",
       "0        53.53          9.91  '2016-1-22 06:04'  ROTTERDAM  HAMBURG   \n",
       "1        53.53          9.91  '2016-1-22 06:04'  ROTTERDAM  HAMBURG   \n",
       "2        53.53          9.91  '2016-1-22 06:04'  ROTTERDAM  HAMBURG   \n",
       "3        53.53          9.91  '2016-1-22 06:04'  ROTTERDAM  HAMBURG   \n",
       "4        53.53          9.91  '2016-1-22 06:04'  ROTTERDAM  HAMBURG   \n",
       "\n",
       "            ...            Draught Latitude Longitude   SOG   COG    TH  \\\n",
       "0           ...              10.64    53.95      7.82  14.7  81.0  80.0   \n",
       "1           ...              10.64    53.95      7.83  14.7  80.0  80.0   \n",
       "2           ...              10.64    53.95      7.83  14.7  81.0  80.0   \n",
       "3           ...              10.64    53.95      7.84  14.7  80.0  80.0   \n",
       "4           ...              10.64    53.95      7.85  14.7  81.0  80.0   \n",
       "\n",
       "   Destination             Name  Callsign              AisSourcen  \n",
       "0      HAMBURG  CMA.CGM.SAMBHAR     5BND2  H7001.DAIS1.81b.71.71a  \n",
       "1      HAMBURG  CMA.CGM.SAMBHAR     5BND2  H7001.DAIS1.81b.71.71a  \n",
       "2      HAMBURG  CMA.CGM.SAMBHAR     5BND2  H7001.DAIS1.81b.71.71a  \n",
       "3      HAMBURG  CMA.CGM.SAMBHAR     5BND2  H7001.DAIS1.81b.71.71a  \n",
       "4      HAMBURG  CMA.CGM.SAMBHAR     5BND2  H7001.DAIS1.81b.71.71a  \n",
       "\n",
       "[5 rows x 25 columns]"
      ]
     },
     "execution_count": 3,
     "metadata": {},
     "output_type": "execute_result"
    }
   ],
   "source": [
    "ais.head()"
   ]
  },
  {
   "cell_type": "code",
   "execution_count": 4,
   "metadata": {},
   "outputs": [],
   "source": [
    "ais_nan = ais"
   ]
  },
  {
   "cell_type": "code",
   "execution_count": 5,
   "metadata": {},
   "outputs": [],
   "source": [
    "# Convert time columns to correct dtype\n",
    "ais_nan['StartTime'] = pd.to_datetime(ais_nan['StartTime'], format = '\\'%Y-%m-%d %H:%M\\'')\n",
    "ais_nan['EndTime'] = pd.to_datetime(ais_nan['EndTime'], format = '\\'%Y-%m-%d %H:%M\\'')\n",
    "ais_nan['time'] = pd.to_datetime(ais_nan['time'], format = '\\'%Y-%m-%d %H:%M\\'')"
   ]
  },
  {
   "cell_type": "code",
   "execution_count": 6,
   "metadata": {},
   "outputs": [],
   "source": [
    "# Convert all headings that are 511 (>= 360) to NaN\n",
    "ais_nan.loc[ais_nan['TH'] >= 360, 'TH'] = np.nan"
   ]
  },
  {
   "cell_type": "code",
   "execution_count": 7,
   "metadata": {},
   "outputs": [],
   "source": [
    "# Convert courses >= 360 to NaN\n",
    "ais_nan.loc[ais_nan['COG'] >= 360, 'COG'] = np.nan"
   ]
  },
  {
   "cell_type": "code",
   "execution_count": 8,
   "metadata": {},
   "outputs": [],
   "source": [
    "# Set invalid shiptypes to NaN\n",
    "# Invalid shiptypes existing in the data set are '0' and '159'\n",
    "ais_nan.loc[(ais_nan['shiptype'] == '0') | (ais_nan['shiptype'] == '159'), 'shiptype'] = np.nan"
   ]
  },
  {
   "cell_type": "code",
   "execution_count": 9,
   "metadata": {},
   "outputs": [],
   "source": [
    "# Set invalid lengths (0 or > 400) to NaN\n",
    "ais_nan.loc[(ais_nan['Length'] <= 0) | (ais_nan['Length'] > 400), 'Length'] = np.nan"
   ]
  },
  {
   "cell_type": "code",
   "execution_count": 10,
   "metadata": {},
   "outputs": [],
   "source": [
    "# Set invalid breadths (0 or > 59) to NaN\n",
    "ais_nan.loc[(ais_nan['Breadth'] <= 0) | (ais_nan['Breadth'] > 59), 'Breadth'] = np.nan"
   ]
  },
  {
   "cell_type": "code",
   "execution_count": 11,
   "metadata": {},
   "outputs": [],
   "source": [
    "# Set speeds that are unrealisticly high to NaN\n",
    "ais_nan.loc[ais_nan['SOG'] > 25.6, 'SOG'] = np.nan"
   ]
  },
  {
   "cell_type": "code",
   "execution_count": 12,
   "metadata": {},
   "outputs": [],
   "source": [
    "ais_dropped = ais_nan.drop(['AisSourcen', 'ID', 'StartPort', 'EndPort', 'Name', 'MMSI', 'shiptype'], axis = 1)"
   ]
  },
  {
   "cell_type": "code",
   "execution_count": null,
   "metadata": {},
   "outputs": [],
   "source": [
    "# Plot all positions in the data before any filters are applied\n",
    "#aismap.plot_to_map(size = (13, 13), longitude = ais_dropped['Longitude'], latitude = ais_dropped['Latitude'])\n",
    "#plt.title(\"All Positions Before Filtering\")"
   ]
  },
  {
   "cell_type": "code",
   "execution_count": null,
   "metadata": {},
   "outputs": [],
   "source": [
    "# Plot start positions before any filtering to map\n",
    "#aismap.plot_to_map(size = (8, 8), longitude = ais_dropped['StartLongitude'], latitude = ais_dropped['StartLatitude'])\n",
    "#plt.title(\"Start Positions Before Filtering\")"
   ]
  },
  {
   "cell_type": "code",
   "execution_count": null,
   "metadata": {},
   "outputs": [],
   "source": [
    "# Plot end positions before any filtering to map\n",
    "#aismap.plot_to_map(size = (8, 8), longitude = ais_dropped['EndLongitude'], latitude = ais_dropped['EndLatitude'])\n",
    "#plt.title(\"End Positions Before Filtering\")"
   ]
  },
  {
   "cell_type": "code",
   "execution_count": 13,
   "metadata": {},
   "outputs": [],
   "source": [
    "# Get rid of trips that leave our zone (2.45 - 10.66 / 51.49 - 55.06)\n",
    "\n",
    "outside_long_mask = (ais_dropped['Longitude'] < 2.45) | (ais_dropped['Longitude'] > 10.66)\n",
    "outside_lat_mask = (ais_dropped['Latitude'] < 51.49) | (ais_dropped['Latitude'] > 55.06)\n",
    "\n",
    "outside_rec_mask = outside_long_mask | outside_lat_mask\n",
    "\n",
    "outside_trip_ids = ais_dropped['TripID'][outside_rec_mask].unique()\n",
    "outside_trip_mask = ~ais_dropped['TripID'].isin(outside_trip_ids)\n",
    "ais_zoned = ais_dropped[outside_trip_mask]"
   ]
  },
  {
   "cell_type": "code",
   "execution_count": null,
   "metadata": {},
   "outputs": [],
   "source": [
    "#aismap.plot_to_map(size = (13, 13), longitude = ais_zoned['Longitude'], latitude = ais_zoned['Latitude'])\n",
    "#plt.title(\"All Positions After Filtering to Our Zone\")"
   ]
  },
  {
   "cell_type": "code",
   "execution_count": null,
   "metadata": {},
   "outputs": [],
   "source": [
    "#minlat = ais_zoned['EndLatitude'].min() - 0.2\n",
    "#maxlat = ais_zoned['EndLatitude'].max() + 0.2\n",
    "#minlong = ais_zoned['EndLongitude'].min() - 0.2\n",
    "#maxlong = ais_zoned['EndLongitude'].max() + 0.2\n",
    "\n",
    "#aismap.plot_google_map((minlong, maxlong, minlat, maxlat))\n",
    "#plt.scatter(x = ais_zoned['EndLongitude'], y = ais_zoned['EndLatitude'] , transform = ccrs.PlateCarree(), s = 1)"
   ]
  },
  {
   "cell_type": "code",
   "execution_count": 14,
   "metadata": {},
   "outputs": [
    {
     "name": "stderr",
     "output_type": "stream",
     "text": [
      "/Users/jankaiser/anaconda2/lib/python2.7/site-packages/pandas/core/indexing.py:537: SettingWithCopyWarning: \n",
      "A value is trying to be set on a copy of a slice from a DataFrame.\n",
      "Try using .loc[row_indexer,col_indexer] = value instead\n",
      "\n",
      "See the caveats in the documentation: http://pandas.pydata.org/pandas-docs/stable/indexing.html#indexing-view-versus-copy\n",
      "  self.obj[item] = s\n"
     ]
    }
   ],
   "source": [
    "# Get times finish line is crossed, by trips that do cross it\n",
    "finish_line_ts = ais_zoned[ais_zoned['Longitude'] > 9.81].groupby('TripID')['time'].min()\n",
    "\n",
    "# Only keep trips that do cross the finish line\n",
    "ais_ham_zoned = ais_zoned[ais_zoned['TripID'].isin(finish_line_ts.index)]\n",
    "\n",
    "#Set EndTime to the time the ship first appears behind the finish line\n",
    "for tripid in finish_line_ts.index :\n",
    "    ais_ham_zoned.loc[ais_ham_zoned['TripID'] == tripid, 'EndTime'] = finish_line_ts.loc[tripid]\n",
    "\n",
    "# Throw out all records after the finish line was crossed\n",
    "ais_ham_zoned = ais_ham_zoned[ais_ham_zoned['time'] <= ais_ham_zoned['EndTime']]"
   ]
  },
  {
   "cell_type": "code",
   "execution_count": null,
   "metadata": {},
   "outputs": [],
   "source": [
    "#aismap.plot_to_map(size = (13, 13), longitude = ais_ham_zoned['Longitude'], latitude = ais_ham_zoned['Latitude'])"
   ]
  },
  {
   "cell_type": "code",
   "execution_count": 15,
   "metadata": {},
   "outputs": [],
   "source": [
    "ais_tts = ais_ham_zoned\n",
    "ais_tts.is_copy = False   # Hack to silence SettingWithCopyWarning\n",
    "\n",
    "# Add time for the entire trip to the data\n",
    "ais_tts['TravelTime'] = ais_tts['EndTime'] - ais_tts['StartTime']\n",
    "ais_tts['TravelTimeMins'] = ais_tts['TravelTime'].transform(lambda x : x.total_seconds() / 60)\n",
    "\n",
    "# Add time remaining until arrival at destination\n",
    "ais_tts['remainingTT'] = ais_tts['EndTime'] - ais_tts['time']\n",
    "ais_tts['remainingMins'] = ais_tts['remainingTT'].transform(lambda x : x.total_seconds() / 60)"
   ]
  },
  {
   "cell_type": "code",
   "execution_count": null,
   "metadata": {},
   "outputs": [],
   "source": [
    "#travel_times = ais_tts.groupby('TripID')['TravelTime'].max()\n",
    "#travel_times = travel_times.transform(lambda x : x.total_seconds() // 3600)\n",
    "#travel_times.value_counts().sort_index().plot.bar(figsize = (25, 10))"
   ]
  },
  {
   "cell_type": "code",
   "execution_count": null,
   "metadata": {},
   "outputs": [],
   "source": [
    "#travel_times[travel_times < travel_times.quantile(.75)].value_counts().sort_index().plot.bar(figsize = (25, 10))"
   ]
  },
  {
   "cell_type": "code",
   "execution_count": 16,
   "metadata": {},
   "outputs": [],
   "source": [
    "# Only keep majority of shorter trips\n",
    "ais_shortmaj = ais_tts[ais_tts['TravelTime'] < ais_tts['TravelTime'].quantile(.75)]"
   ]
  },
  {
   "cell_type": "code",
   "execution_count": null,
   "metadata": {},
   "outputs": [],
   "source": [
    "#aismap.col_plot_to_map(size = (13, 13), longitude = ais_shortmaj['Longitude'], latitude = ais_shortmaj['Latitude'], col= ais_shortmaj['remainingMins'])"
   ]
  },
  {
   "cell_type": "code",
   "execution_count": null,
   "metadata": {},
   "outputs": [],
   "source": [
    "# Get and plot the longest trip in the data set\n",
    "#longest_trip = ais_shortmaj[ais_shortmaj['TravelTime'] == ais_shortmaj['TravelTime'].max()]\n",
    "#longest_trip.head()"
   ]
  },
  {
   "cell_type": "code",
   "execution_count": null,
   "metadata": {},
   "outputs": [],
   "source": [
    "#aismap.col_plot_to_map(size = (13, 13), longitude = longest_trip['Longitude'], latitude = longest_trip['Latitude'], col = longest_trip['remainingMins'])\n",
    "#plt.title(\"Longest Trip in the Data Set\")"
   ]
  },
  {
   "cell_type": "code",
   "execution_count": 17,
   "metadata": {},
   "outputs": [],
   "source": [
    "ais_tfeats = ais_shortmaj\n",
    "ais_tfeats.is_copy = False\n",
    "\n",
    "ais_tfeats['hour_of_day'] = ais_tfeats['time'].dt.hour\n",
    "ais_tfeats['weekday'] = ais_tfeats['time'].dt.dayofweek\n",
    "ais_tfeats['day_of_month'] = ais_tfeats['time'].dt.day\n",
    "ais_tfeats['month'] = ais_tfeats['time'].dt.month"
   ]
  },
  {
   "cell_type": "code",
   "execution_count": null,
   "metadata": {},
   "outputs": [],
   "source": [
    "#ais_tfeats.groupby('weekday')['TravelTimeMins'].mean().plot(figsize = (15, 5))"
   ]
  },
  {
   "cell_type": "code",
   "execution_count": 38,
   "metadata": {},
   "outputs": [],
   "source": [
    "# Assign sector IDs according to Longitude ranges (5 sectors for ROT-HAM route)\n",
    "ais_sectors = ais_tfeats.copy()\n",
    "ais_sectors.loc[(ais_sectors['Longitude'] <= 4.8) & (ais_sectors['Latitude'] <= 52.8), 'sector_id'] = '0'\n",
    "ais_sectors.loc[(ais_sectors['Longitude'] <= 4.8) & (ais_sectors['Latitude'] > 52.8), 'sector_id'] = '1'\n",
    "ais_sectors.loc[(ais_sectors['Longitude'] > 4.8) & (ais_sectors['Longitude'] <= 6.0), 'sector_id'] = '2'\n",
    "ais_sectors.loc[(ais_sectors['Longitude'] > 6.0) & (ais_sectors['Longitude'] <= 7.2), 'sector_id'] = '3'\n",
    "ais_sectors.loc[(ais_sectors['Longitude'] > 7.2) & (ais_sectors['Longitude'] <= 8.6), 'sector_id'] = '4'\n",
    "ais_sectors.loc[(ais_sectors['Longitude'] > 8.6) & (ais_sectors['Longitude'] <= 9.81), 'sector_id'] = '5'\n",
    "ais_sectors.loc[ais_sectors['Longitude'] > 9.81, 'sector_id'] = np.nan"
   ]
  },
  {
   "cell_type": "code",
   "execution_count": null,
   "metadata": {},
   "outputs": [],
   "source": [
    "#aismap.col_plot_to_map(size = (13, 13), longitude = ais_sectors['Longitude'], latitude = ais_sectors['Latitude'], col = ais_sectors['sector_id'])"
   ]
  },
  {
   "cell_type": "code",
   "execution_count": 39,
   "metadata": {},
   "outputs": [],
   "source": [
    "ais_secleav = ais_sectors.copy()\n",
    "ais_secleav = ais_secleav.sort_values('time')\n",
    "\n",
    "ais_secleav['next_lat'] = ais_secleav.groupby('TripID')['Latitude'].shift(-1)\n",
    "ais_secleav['next_lon'] = ais_secleav.groupby('TripID')['Longitude'].shift(-1)\n",
    "ais_secleav['next_time'] = ais_secleav.groupby('TripID')['time'].shift(-1)\n",
    "ais_secleav['next_sector_id'] = ais_secleav.groupby('TripID')['sector_id'].shift(-1)\n",
    "ais_secleav = ais_secleav.sort_values(['TripID', 'time'])\n",
    "ais_secleav['next_trip_id'] = ais_secleav['TripID'].shift(-1)\n",
    "\n",
    "lasts = ais_secleav[ais_secleav['sector_id'] != ais_secleav['next_sector_id']]\n",
    "\n",
    "lasts.loc[lasts['sector_id'] == '0', 'sector_leave_lat'] = 52.8\n",
    "lasts.loc[lasts['sector_id'] == '1', 'sector_leave_lon'] = 4.8\n",
    "lasts.loc[lasts['sector_id'] == '2', 'sector_leave_lon'] = 6.0\n",
    "lasts.loc[lasts['sector_id'] == '3', 'sector_leave_lon'] = 7.2\n",
    "lasts.loc[lasts['sector_id'] == '4', 'sector_leave_lon'] = 8.6\n",
    "lasts.loc[lasts['sector_id'] == '5', 'sector_leave_lon'] = 9.81\n",
    "\n",
    "lasts.loc[lasts['sector_id'] == '0', 'sector_leave_lon'] = lasts.loc[lasts['sector_id'] == '0', 'Longitude'] + ((lasts.loc[lasts['sector_id'] == '0', 'sector_leave_lat'] - lasts.loc[lasts['sector_id'] == '0', 'Latitude']) / (lasts.loc[lasts['sector_id'] == '0', 'next_lat'] - lasts.loc[lasts['sector_id'] == '0', 'Latitude'])) * (lasts.loc[lasts['sector_id'] == '0', 'next_lat'] - lasts.loc[lasts['sector_id'] == '0', 'Latitude'])\n",
    "lasts.loc[lasts['sector_id'] == '1', 'sector_leave_lat'] = lasts.loc[lasts['sector_id'] == '1', 'Latitude'] + ((lasts.loc[lasts['sector_id'] == '1', 'sector_leave_lon'] - lasts.loc[lasts['sector_id'] == '1', 'Longitude']) / (lasts.loc[lasts['sector_id'] == '1', 'next_lon'] - lasts.loc[lasts['sector_id'] == '1', 'Longitude'])) * (lasts.loc[lasts['sector_id'] == '1', 'next_lon'] - lasts.loc[lasts['sector_id'] == '1', 'Longitude'])\n",
    "lasts.loc[lasts['sector_id'] == '2', 'sector_leave_lat'] = lasts.loc[lasts['sector_id'] == '2', 'Latitude'] + ((lasts.loc[lasts['sector_id'] == '2', 'sector_leave_lon'] - lasts.loc[lasts['sector_id'] == '2', 'Longitude']) / (lasts.loc[lasts['sector_id'] == '2', 'next_lon'] - lasts.loc[lasts['sector_id'] == '2', 'Longitude'])) * (lasts.loc[lasts['sector_id'] == '2', 'next_lon'] - lasts.loc[lasts['sector_id'] == '2', 'Longitude'])\n",
    "lasts.loc[lasts['sector_id'] == '3', 'sector_leave_lat'] = lasts.loc[lasts['sector_id'] == '3', 'Latitude'] + ((lasts.loc[lasts['sector_id'] == '3', 'sector_leave_lon'] - lasts.loc[lasts['sector_id'] == '3', 'Longitude']) / (lasts.loc[lasts['sector_id'] == '3', 'next_lon'] - lasts.loc[lasts['sector_id'] == '3', 'Longitude'])) * (lasts.loc[lasts['sector_id'] == '3', 'next_lon'] - lasts.loc[lasts['sector_id'] == '3', 'Longitude'])\n",
    "lasts.loc[lasts['sector_id'] == '4', 'sector_leave_lat'] = lasts.loc[lasts['sector_id'] == '4', 'Latitude'] + ((lasts.loc[lasts['sector_id'] == '4', 'sector_leave_lon'] - lasts.loc[lasts['sector_id'] == '4', 'Longitude']) / (lasts.loc[lasts['sector_id'] == '4', 'next_lon'] - lasts.loc[lasts['sector_id'] == '4', 'Longitude'])) * (lasts.loc[lasts['sector_id'] == '4', 'next_lon'] - lasts.loc[lasts['sector_id'] == '4', 'Longitude'])\n",
    "lasts.loc[lasts['sector_id'] == '5', 'sector_leave_lat'] = lasts.loc[lasts['sector_id'] == '5', 'Latitude'] + ((lasts.loc[lasts['sector_id'] == '5', 'sector_leave_lon'] - lasts.loc[lasts['sector_id'] == '5', 'Longitude']) / (lasts.loc[lasts['sector_id'] == '5', 'next_lon'] - lasts.loc[lasts['sector_id'] == '5', 'Longitude'])) * (lasts.loc[lasts['sector_id'] == '5', 'next_lon'] - lasts.loc[lasts['sector_id'] == '5', 'Longitude'])\n",
    "\n",
    "lasts.loc[lasts['sector_id'] == '0', 'sector_leave_time'] = lasts.loc[lasts['sector_id'] == '0', 'time'] + ((lasts.loc[lasts['sector_id'] == '0', 'sector_leave_lat'] - lasts.loc[lasts['sector_id'] == '0', 'Latitude']) / (lasts.loc[lasts['sector_id'] == '0', 'next_lat'] - lasts.loc[lasts['sector_id'] == '0', 'Latitude'])) * (lasts.loc[lasts['sector_id'] == '0', 'next_time'] - lasts.loc[lasts['sector_id'] == '0', 'time'])\n",
    "lasts.loc[lasts['sector_id'] == '1', 'sector_leave_time'] = lasts.loc[lasts['sector_id'] == '1', 'time'] + ((lasts.loc[lasts['sector_id'] == '1', 'sector_leave_lon'] - lasts.loc[lasts['sector_id'] == '1', 'Longitude']) / (lasts.loc[lasts['sector_id'] == '1', 'next_lon'] - lasts.loc[lasts['sector_id'] == '1', 'Longitude'])) * (lasts.loc[lasts['sector_id'] == '1', 'next_time'] - lasts.loc[lasts['sector_id'] == '1', 'time'])\n",
    "lasts.loc[lasts['sector_id'] == '2', 'sector_leave_time'] = lasts.loc[lasts['sector_id'] == '2', 'time'] + ((lasts.loc[lasts['sector_id'] == '2', 'sector_leave_lon'] - lasts.loc[lasts['sector_id'] == '2', 'Longitude']) / (lasts.loc[lasts['sector_id'] == '2', 'next_lon'] - lasts.loc[lasts['sector_id'] == '2', 'Longitude'])) * (lasts.loc[lasts['sector_id'] == '2', 'next_time'] - lasts.loc[lasts['sector_id'] == '2', 'time'])\n",
    "lasts.loc[lasts['sector_id'] == '3', 'sector_leave_time'] = lasts.loc[lasts['sector_id'] == '3', 'time'] + ((lasts.loc[lasts['sector_id'] == '3', 'sector_leave_lon'] - lasts.loc[lasts['sector_id'] == '3', 'Longitude']) / (lasts.loc[lasts['sector_id'] == '3', 'next_lon'] - lasts.loc[lasts['sector_id'] == '3', 'Longitude'])) * (lasts.loc[lasts['sector_id'] == '3', 'next_time'] - lasts.loc[lasts['sector_id'] == '3', 'time'])\n",
    "lasts.loc[lasts['sector_id'] == '4', 'sector_leave_time'] = lasts.loc[lasts['sector_id'] == '4', 'time'] + ((lasts.loc[lasts['sector_id'] == '4', 'sector_leave_lon'] - lasts.loc[lasts['sector_id'] == '4', 'Longitude']) / (lasts.loc[lasts['sector_id'] == '4', 'next_lon'] - lasts.loc[lasts['sector_id'] == '4', 'Longitude'])) * (lasts.loc[lasts['sector_id'] == '4', 'next_time'] - lasts.loc[lasts['sector_id'] == '4', 'time'])\n",
    "lasts.loc[lasts['sector_id'] == '5', 'sector_leave_time'] = lasts.loc[lasts['sector_id'] == '5', 'time'] + ((lasts.loc[lasts['sector_id'] == '5', 'sector_leave_lon'] - lasts.loc[lasts['sector_id'] == '5', 'Longitude']) / (lasts.loc[lasts['sector_id'] == '5', 'next_lon'] - lasts.loc[lasts['sector_id'] == '5', 'Longitude'])) * (lasts.loc[lasts['sector_id'] == '5', 'next_time'] - lasts.loc[lasts['sector_id'] == '5', 'time'])\n",
    "\n",
    "ais_secleav['sector_leave_lat'] = lasts['sector_leave_lat']\n",
    "ais_secleav['sector_leave_lon'] = lasts['sector_leave_lon']\n",
    "ais_secleav['sector_leave_time'] = lasts['sector_leave_time']\n",
    "\n",
    "ais_secleav['sector_leave_lat'] = ais_secleav.groupby(['TripID', 'sector_id'])['sector_leave_lat'].transform('last')\n",
    "ais_secleav['sector_leave_lon'] = ais_secleav.groupby(['TripID', 'sector_id'])['sector_leave_lon'].transform('last')\n",
    "ais_secleav['sector_leave_time'] = ais_secleav.groupby(['TripID', 'sector_id'])['sector_leave_time'].transform('last')\n",
    "\n",
    "ais_secleav = ais_secleav.drop(['next_lat', 'next_lon', 'next_time', 'next_sector_id', 'next_trip_id'], axis = 1)"
   ]
  },
  {
   "cell_type": "code",
   "execution_count": 44,
   "metadata": {},
   "outputs": [
    {
     "data": {
      "text/html": [
       "<div>\n",
       "<style scoped>\n",
       "    .dataframe tbody tr th:only-of-type {\n",
       "        vertical-align: middle;\n",
       "    }\n",
       "\n",
       "    .dataframe tbody tr th {\n",
       "        vertical-align: top;\n",
       "    }\n",
       "\n",
       "    .dataframe thead th {\n",
       "        text-align: right;\n",
       "    }\n",
       "</style>\n",
       "<table border=\"1\" class=\"dataframe\">\n",
       "  <thead>\n",
       "    <tr style=\"text-align: right;\">\n",
       "      <th></th>\n",
       "      <th>TripID</th>\n",
       "      <th>Latitude</th>\n",
       "      <th>time</th>\n",
       "      <th>Longitude</th>\n",
       "      <th>sector_id</th>\n",
       "      <th>sector_leave_time</th>\n",
       "      <th>sector_leave_lat</th>\n",
       "      <th>sector_leave_lon</th>\n",
       "    </tr>\n",
       "  </thead>\n",
       "  <tbody>\n",
       "    <tr>\n",
       "      <th>837368</th>\n",
       "      <td>993359</td>\n",
       "      <td>53.55</td>\n",
       "      <td>2016-07-01 03:51:00</td>\n",
       "      <td>9.80</td>\n",
       "      <td>5</td>\n",
       "      <td>2016-07-01 03:54:00</td>\n",
       "      <td>53.55</td>\n",
       "      <td>9.81</td>\n",
       "    </tr>\n",
       "    <tr>\n",
       "      <th>837189</th>\n",
       "      <td>993359</td>\n",
       "      <td>53.55</td>\n",
       "      <td>2016-07-01 03:52:00</td>\n",
       "      <td>9.81</td>\n",
       "      <td>5</td>\n",
       "      <td>2016-07-01 03:54:00</td>\n",
       "      <td>53.55</td>\n",
       "      <td>9.81</td>\n",
       "    </tr>\n",
       "    <tr>\n",
       "      <th>837545</th>\n",
       "      <td>993359</td>\n",
       "      <td>53.55</td>\n",
       "      <td>2016-07-01 03:53:00</td>\n",
       "      <td>9.81</td>\n",
       "      <td>5</td>\n",
       "      <td>2016-07-01 03:54:00</td>\n",
       "      <td>53.55</td>\n",
       "      <td>9.81</td>\n",
       "    </tr>\n",
       "    <tr>\n",
       "      <th>837150</th>\n",
       "      <td>993359</td>\n",
       "      <td>53.55</td>\n",
       "      <td>2016-07-01 03:54:00</td>\n",
       "      <td>9.81</td>\n",
       "      <td>5</td>\n",
       "      <td>2016-07-01 03:54:00</td>\n",
       "      <td>53.55</td>\n",
       "      <td>9.81</td>\n",
       "    </tr>\n",
       "    <tr>\n",
       "      <th>837574</th>\n",
       "      <td>993359</td>\n",
       "      <td>53.55</td>\n",
       "      <td>2016-07-01 03:55:00</td>\n",
       "      <td>9.82</td>\n",
       "      <td>NaN</td>\n",
       "      <td>NaT</td>\n",
       "      <td>NaN</td>\n",
       "      <td>NaN</td>\n",
       "    </tr>\n",
       "  </tbody>\n",
       "</table>\n",
       "</div>"
      ],
      "text/plain": [
       "        TripID  Latitude                time  Longitude sector_id  \\\n",
       "837368  993359     53.55 2016-07-01 03:51:00       9.80         5   \n",
       "837189  993359     53.55 2016-07-01 03:52:00       9.81         5   \n",
       "837545  993359     53.55 2016-07-01 03:53:00       9.81         5   \n",
       "837150  993359     53.55 2016-07-01 03:54:00       9.81         5   \n",
       "837574  993359     53.55 2016-07-01 03:55:00       9.82       NaN   \n",
       "\n",
       "         sector_leave_time  sector_leave_lat  sector_leave_lon  \n",
       "837368 2016-07-01 03:54:00             53.55              9.81  \n",
       "837189 2016-07-01 03:54:00             53.55              9.81  \n",
       "837545 2016-07-01 03:54:00             53.55              9.81  \n",
       "837150 2016-07-01 03:54:00             53.55              9.81  \n",
       "837574                 NaT               NaN               NaN  "
      ]
     },
     "execution_count": 44,
     "metadata": {},
     "output_type": "execute_result"
    }
   ],
   "source": [
    "ais_secleav[['TripID', 'Latitude', 'time', 'Longitude', 'sector_id', 'sector_leave_time', 'sector_leave_lat', 'sector_leave_lon']].tail()"
   ]
  },
  {
   "cell_type": "code",
   "execution_count": 53,
   "metadata": {},
   "outputs": [
    {
     "data": {
      "image/png": "[encoded data removed]",
      "text/plain": [
       "<matplotlib.figure.Figure at 0x10cc0d290>"
      ]
     },
     "metadata": {},
     "output_type": "display_data"
    }
   ],
   "source": [
    "aismap.plot_to_map(size = (13, 13), longitude = ais_secleav['Longitude'], latitude = ais_secleav['Latitude'])"
   ]
  },
  {
   "cell_type": "code",
   "execution_count": 51,
   "metadata": {},
   "outputs": [
    {
     "data": {
      "image/png": "[encoded data removed]",
      "text/plain": [
       "<matplotlib.figure.Figure at 0x10cb52c10>"
      ]
     },
     "metadata": {},
     "output_type": "display_data"
    }
   ],
   "source": [
    "aismap.plot_to_map(size = (13, 13), longitude = ais_secleav['sector_leave_lon'], latitude = ais_secleav['sector_leave_lat'])"
   ]
  },
  {
   "cell_type": "code",
   "execution_count": 45,
   "metadata": {},
   "outputs": [
    {
     "data": {
      "text/plain": [
       "Index([u'TripID', u'StartLatitude', u'StartLongitude', u'StartTime',\n",
       "       u'EndLatitude', u'EndLongitude', u'EndTime', u'time', u'Length',\n",
       "       u'Breadth', u'Draught', u'Latitude', u'Longitude', u'SOG', u'COG',\n",
       "       u'TH', u'Destination', u'Callsign', u'TravelTime', u'TravelTimeMins',\n",
       "       u'remainingTT', u'remainingMins', u'hour_of_day', u'weekday',\n",
       "       u'day_of_month', u'month', u'sector_id', u'sector_leave_lat',\n",
       "       u'sector_leave_lon', u'sector_leave_time'],\n",
       "      dtype='object')"
      ]
     },
     "execution_count": 45,
     "metadata": {},
     "output_type": "execute_result"
    }
   ],
   "source": [
    "ais_secleav.columns"
   ]
  },
  {
   "cell_type": "code",
   "execution_count": 47,
   "metadata": {},
   "outputs": [],
   "source": [
    "learners = ['TripID', 'time', 'Length', 'Breadth', 'Draught', 'Latitude', 'Longitude',\n",
    "            'SOG', 'COG', 'TH', 'TravelTimeMins', 'remainingMins', 'hour_of_day',\n",
    "            'weekday', 'day_of_month', 'month', 'sector_id', 'sector_leave_time', 'sector_leave_lat',\n",
    "            'sector_leave_lon']"
   ]
  },
  {
   "cell_type": "code",
   "execution_count": 50,
   "metadata": {},
   "outputs": [
    {
     "data": {
      "text/html": [
       "<div>\n",
       "<style scoped>\n",
       "    .dataframe tbody tr th:only-of-type {\n",
       "        vertical-align: middle;\n",
       "    }\n",
       "\n",
       "    .dataframe tbody tr th {\n",
       "        vertical-align: top;\n",
       "    }\n",
       "\n",
       "    .dataframe thead th {\n",
       "        text-align: right;\n",
       "    }\n",
       "</style>\n",
       "<table border=\"1\" class=\"dataframe\">\n",
       "  <thead>\n",
       "    <tr style=\"text-align: right;\">\n",
       "      <th></th>\n",
       "      <th>TripID</th>\n",
       "      <th>time</th>\n",
       "      <th>Length</th>\n",
       "      <th>Breadth</th>\n",
       "      <th>Draught</th>\n",
       "      <th>Latitude</th>\n",
       "      <th>Longitude</th>\n",
       "      <th>SOG</th>\n",
       "      <th>COG</th>\n",
       "      <th>TH</th>\n",
       "      <th>TravelTimeMins</th>\n",
       "      <th>remainingMins</th>\n",
       "      <th>hour_of_day</th>\n",
       "      <th>weekday</th>\n",
       "      <th>day_of_month</th>\n",
       "      <th>month</th>\n",
       "      <th>sector_id</th>\n",
       "      <th>sector_leave_time</th>\n",
       "      <th>sector_leave_lat</th>\n",
       "      <th>sector_leave_lon</th>\n",
       "    </tr>\n",
       "  </thead>\n",
       "  <tbody>\n",
       "    <tr>\n",
       "      <th>834543</th>\n",
       "      <td>1000226</td>\n",
       "      <td>2016-06-15 14:57:00</td>\n",
       "      <td>369.0</td>\n",
       "      <td>51.0</td>\n",
       "      <td>13.8</td>\n",
       "      <td>51.97</td>\n",
       "      <td>4.03</td>\n",
       "      <td>5.4</td>\n",
       "      <td>112.3</td>\n",
       "      <td>112.0</td>\n",
       "      <td>1494.0</td>\n",
       "      <td>1494.0</td>\n",
       "      <td>14</td>\n",
       "      <td>2</td>\n",
       "      <td>15</td>\n",
       "      <td>6</td>\n",
       "      <td>0</td>\n",
       "      <td>2016-06-15 19:58:00</td>\n",
       "      <td>52.8</td>\n",
       "      <td>4.2</td>\n",
       "    </tr>\n",
       "    <tr>\n",
       "      <th>834550</th>\n",
       "      <td>1000226</td>\n",
       "      <td>2016-06-15 14:58:00</td>\n",
       "      <td>369.0</td>\n",
       "      <td>51.0</td>\n",
       "      <td>13.8</td>\n",
       "      <td>51.97</td>\n",
       "      <td>4.03</td>\n",
       "      <td>5.2</td>\n",
       "      <td>112.4</td>\n",
       "      <td>112.0</td>\n",
       "      <td>1494.0</td>\n",
       "      <td>1493.0</td>\n",
       "      <td>14</td>\n",
       "      <td>2</td>\n",
       "      <td>15</td>\n",
       "      <td>6</td>\n",
       "      <td>0</td>\n",
       "      <td>2016-06-15 19:58:00</td>\n",
       "      <td>52.8</td>\n",
       "      <td>4.2</td>\n",
       "    </tr>\n",
       "    <tr>\n",
       "      <th>834566</th>\n",
       "      <td>1000226</td>\n",
       "      <td>2016-06-15 14:59:00</td>\n",
       "      <td>369.0</td>\n",
       "      <td>51.0</td>\n",
       "      <td>13.8</td>\n",
       "      <td>51.97</td>\n",
       "      <td>4.04</td>\n",
       "      <td>5.0</td>\n",
       "      <td>113.2</td>\n",
       "      <td>112.0</td>\n",
       "      <td>1494.0</td>\n",
       "      <td>1492.0</td>\n",
       "      <td>14</td>\n",
       "      <td>2</td>\n",
       "      <td>15</td>\n",
       "      <td>6</td>\n",
       "      <td>0</td>\n",
       "      <td>2016-06-15 19:58:00</td>\n",
       "      <td>52.8</td>\n",
       "      <td>4.2</td>\n",
       "    </tr>\n",
       "    <tr>\n",
       "      <th>834343</th>\n",
       "      <td>1000226</td>\n",
       "      <td>2016-06-15 15:00:00</td>\n",
       "      <td>369.0</td>\n",
       "      <td>51.0</td>\n",
       "      <td>13.8</td>\n",
       "      <td>51.96</td>\n",
       "      <td>4.04</td>\n",
       "      <td>4.8</td>\n",
       "      <td>112.8</td>\n",
       "      <td>112.0</td>\n",
       "      <td>1494.0</td>\n",
       "      <td>1491.0</td>\n",
       "      <td>15</td>\n",
       "      <td>2</td>\n",
       "      <td>15</td>\n",
       "      <td>6</td>\n",
       "      <td>0</td>\n",
       "      <td>2016-06-15 19:58:00</td>\n",
       "      <td>52.8</td>\n",
       "      <td>4.2</td>\n",
       "    </tr>\n",
       "    <tr>\n",
       "      <th>834348</th>\n",
       "      <td>1000226</td>\n",
       "      <td>2016-06-15 15:01:00</td>\n",
       "      <td>369.0</td>\n",
       "      <td>51.0</td>\n",
       "      <td>13.8</td>\n",
       "      <td>51.96</td>\n",
       "      <td>4.04</td>\n",
       "      <td>4.8</td>\n",
       "      <td>111.2</td>\n",
       "      <td>111.0</td>\n",
       "      <td>1494.0</td>\n",
       "      <td>1490.0</td>\n",
       "      <td>15</td>\n",
       "      <td>2</td>\n",
       "      <td>15</td>\n",
       "      <td>6</td>\n",
       "      <td>0</td>\n",
       "      <td>2016-06-15 19:58:00</td>\n",
       "      <td>52.8</td>\n",
       "      <td>4.2</td>\n",
       "    </tr>\n",
       "  </tbody>\n",
       "</table>\n",
       "</div>"
      ],
      "text/plain": [
       "         TripID                time  Length  Breadth  Draught  Latitude  \\\n",
       "834543  1000226 2016-06-15 14:57:00   369.0     51.0     13.8     51.97   \n",
       "834550  1000226 2016-06-15 14:58:00   369.0     51.0     13.8     51.97   \n",
       "834566  1000226 2016-06-15 14:59:00   369.0     51.0     13.8     51.97   \n",
       "834343  1000226 2016-06-15 15:00:00   369.0     51.0     13.8     51.96   \n",
       "834348  1000226 2016-06-15 15:01:00   369.0     51.0     13.8     51.96   \n",
       "\n",
       "        Longitude  SOG    COG     TH  TravelTimeMins  remainingMins  \\\n",
       "834543       4.03  5.4  112.3  112.0          1494.0         1494.0   \n",
       "834550       4.03  5.2  112.4  112.0          1494.0         1493.0   \n",
       "834566       4.04  5.0  113.2  112.0          1494.0         1492.0   \n",
       "834343       4.04  4.8  112.8  112.0          1494.0         1491.0   \n",
       "834348       4.04  4.8  111.2  111.0          1494.0         1490.0   \n",
       "\n",
       "        hour_of_day  weekday  day_of_month  month sector_id  \\\n",
       "834543           14        2            15      6         0   \n",
       "834550           14        2            15      6         0   \n",
       "834566           14        2            15      6         0   \n",
       "834343           15        2            15      6         0   \n",
       "834348           15        2            15      6         0   \n",
       "\n",
       "         sector_leave_time  sector_leave_lat  sector_leave_lon  \n",
       "834543 2016-06-15 19:58:00              52.8               4.2  \n",
       "834550 2016-06-15 19:58:00              52.8               4.2  \n",
       "834566 2016-06-15 19:58:00              52.8               4.2  \n",
       "834343 2016-06-15 19:58:00              52.8               4.2  \n",
       "834348 2016-06-15 19:58:00              52.8               4.2  "
      ]
     },
     "execution_count": 50,
     "metadata": {},
     "output_type": "execute_result"
    }
   ],
   "source": [
    "ais_learners = ais_secleav[learners]\n",
    "ais_learners = ais_learners.dropna()\n",
    "ais_learners.head()"
   ]
  },
  {
   "cell_type": "code",
   "execution_count": 55,
   "metadata": {},
   "outputs": [],
   "source": [
    "# Export without downsampling\n",
    "ais_learners = ais_secleav[learners]\n",
    "ais_learners = ais_learners.dropna()\n",
    "ais_learners.to_pickle('ROT-HAM_learners_01min.pkl')"
   ]
  },
  {
   "cell_type": "code",
   "execution_count": 58,
   "metadata": {},
   "outputs": [
    {
     "ename": "KeyError",
     "evalue": "\"['sector_id' 'sector_leave_time'] not in index\"",
     "output_type": "error",
     "traceback": [
      "\u001b[0;31m---------------------------------------------------------------------------\u001b[0m",
      "\u001b[0;31mKeyError\u001b[0m                                  Traceback (most recent call last)",
      "\u001b[0;32m<ipython-input-58-20c08af8974b>\u001b[0m in \u001b[0;36m<module>\u001b[0;34m()\u001b[0m\n\u001b[1;32m      4\u001b[0m \u001b[0mais_downsampled\u001b[0m \u001b[0;34m=\u001b[0m \u001b[0mais_downsampled\u001b[0m\u001b[0;34m.\u001b[0m\u001b[0mgroupby\u001b[0m\u001b[0;34m(\u001b[0m\u001b[0;34m'TripID'\u001b[0m\u001b[0;34m)\u001b[0m\u001b[0;34m.\u001b[0m\u001b[0mapply\u001b[0m\u001b[0;34m(\u001b[0m\u001b[0;32mlambda\u001b[0m \u001b[0mx\u001b[0m \u001b[0;34m:\u001b[0m \u001b[0mx\u001b[0m\u001b[0;34m.\u001b[0m\u001b[0mresample\u001b[0m\u001b[0;34m(\u001b[0m\u001b[0;34m'5T'\u001b[0m\u001b[0;34m)\u001b[0m\u001b[0;34m.\u001b[0m\u001b[0mmean\u001b[0m\u001b[0;34m(\u001b[0m\u001b[0;34m)\u001b[0m\u001b[0;34m)\u001b[0m\u001b[0;34m.\u001b[0m\u001b[0mreset_index\u001b[0m\u001b[0;34m(\u001b[0m\u001b[0;34m)\u001b[0m\u001b[0;34m\u001b[0m\u001b[0m\n\u001b[1;32m      5\u001b[0m \u001b[0;34m\u001b[0m\u001b[0m\n\u001b[0;32m----> 6\u001b[0;31m \u001b[0mais_learners\u001b[0m \u001b[0;34m=\u001b[0m \u001b[0mais_downsampled\u001b[0m\u001b[0;34m[\u001b[0m\u001b[0mlearners\u001b[0m\u001b[0;34m]\u001b[0m\u001b[0;34m\u001b[0m\u001b[0m\n\u001b[0m\u001b[1;32m      7\u001b[0m \u001b[0mais_learners\u001b[0m \u001b[0;34m=\u001b[0m \u001b[0mais_learners\u001b[0m\u001b[0;34m.\u001b[0m\u001b[0mdropna\u001b[0m\u001b[0;34m(\u001b[0m\u001b[0;34m)\u001b[0m\u001b[0;34m\u001b[0m\u001b[0m\n\u001b[1;32m      8\u001b[0m \u001b[0mais_learners\u001b[0m\u001b[0;34m.\u001b[0m\u001b[0mhead\u001b[0m\u001b[0;34m(\u001b[0m\u001b[0;34m)\u001b[0m\u001b[0;34m\u001b[0m\u001b[0m\n",
      "\u001b[0;32m/Users/jankaiser/anaconda2/lib/python2.7/site-packages/pandas/core/frame.pyc\u001b[0m in \u001b[0;36m__getitem__\u001b[0;34m(self, key)\u001b[0m\n\u001b[1;32m   2131\u001b[0m         \u001b[0;32mif\u001b[0m \u001b[0misinstance\u001b[0m\u001b[0;34m(\u001b[0m\u001b[0mkey\u001b[0m\u001b[0;34m,\u001b[0m \u001b[0;34m(\u001b[0m\u001b[0mSeries\u001b[0m\u001b[0;34m,\u001b[0m \u001b[0mnp\u001b[0m\u001b[0;34m.\u001b[0m\u001b[0mndarray\u001b[0m\u001b[0;34m,\u001b[0m \u001b[0mIndex\u001b[0m\u001b[0;34m,\u001b[0m \u001b[0mlist\u001b[0m\u001b[0;34m)\u001b[0m\u001b[0;34m)\u001b[0m\u001b[0;34m:\u001b[0m\u001b[0;34m\u001b[0m\u001b[0m\n\u001b[1;32m   2132\u001b[0m             \u001b[0;31m# either boolean or fancy integer index\u001b[0m\u001b[0;34m\u001b[0m\u001b[0;34m\u001b[0m\u001b[0m\n\u001b[0;32m-> 2133\u001b[0;31m             \u001b[0;32mreturn\u001b[0m \u001b[0mself\u001b[0m\u001b[0;34m.\u001b[0m\u001b[0m_getitem_array\u001b[0m\u001b[0;34m(\u001b[0m\u001b[0mkey\u001b[0m\u001b[0;34m)\u001b[0m\u001b[0;34m\u001b[0m\u001b[0m\n\u001b[0m\u001b[1;32m   2134\u001b[0m         \u001b[0;32melif\u001b[0m \u001b[0misinstance\u001b[0m\u001b[0;34m(\u001b[0m\u001b[0mkey\u001b[0m\u001b[0;34m,\u001b[0m \u001b[0mDataFrame\u001b[0m\u001b[0;34m)\u001b[0m\u001b[0;34m:\u001b[0m\u001b[0;34m\u001b[0m\u001b[0m\n\u001b[1;32m   2135\u001b[0m             \u001b[0;32mreturn\u001b[0m \u001b[0mself\u001b[0m\u001b[0;34m.\u001b[0m\u001b[0m_getitem_frame\u001b[0m\u001b[0;34m(\u001b[0m\u001b[0mkey\u001b[0m\u001b[0;34m)\u001b[0m\u001b[0;34m\u001b[0m\u001b[0m\n",
      "\u001b[0;32m/Users/jankaiser/anaconda2/lib/python2.7/site-packages/pandas/core/frame.pyc\u001b[0m in \u001b[0;36m_getitem_array\u001b[0;34m(self, key)\u001b[0m\n\u001b[1;32m   2175\u001b[0m             \u001b[0;32mreturn\u001b[0m \u001b[0mself\u001b[0m\u001b[0;34m.\u001b[0m\u001b[0m_take\u001b[0m\u001b[0;34m(\u001b[0m\u001b[0mindexer\u001b[0m\u001b[0;34m,\u001b[0m \u001b[0maxis\u001b[0m\u001b[0;34m=\u001b[0m\u001b[0;36m0\u001b[0m\u001b[0;34m,\u001b[0m \u001b[0mconvert\u001b[0m\u001b[0;34m=\u001b[0m\u001b[0mFalse\u001b[0m\u001b[0;34m)\u001b[0m\u001b[0;34m\u001b[0m\u001b[0m\n\u001b[1;32m   2176\u001b[0m         \u001b[0;32melse\u001b[0m\u001b[0;34m:\u001b[0m\u001b[0;34m\u001b[0m\u001b[0m\n\u001b[0;32m-> 2177\u001b[0;31m             \u001b[0mindexer\u001b[0m \u001b[0;34m=\u001b[0m \u001b[0mself\u001b[0m\u001b[0;34m.\u001b[0m\u001b[0mloc\u001b[0m\u001b[0;34m.\u001b[0m\u001b[0m_convert_to_indexer\u001b[0m\u001b[0;34m(\u001b[0m\u001b[0mkey\u001b[0m\u001b[0;34m,\u001b[0m \u001b[0maxis\u001b[0m\u001b[0;34m=\u001b[0m\u001b[0;36m1\u001b[0m\u001b[0;34m)\u001b[0m\u001b[0;34m\u001b[0m\u001b[0m\n\u001b[0m\u001b[1;32m   2178\u001b[0m             \u001b[0;32mreturn\u001b[0m \u001b[0mself\u001b[0m\u001b[0;34m.\u001b[0m\u001b[0m_take\u001b[0m\u001b[0;34m(\u001b[0m\u001b[0mindexer\u001b[0m\u001b[0;34m,\u001b[0m \u001b[0maxis\u001b[0m\u001b[0;34m=\u001b[0m\u001b[0;36m1\u001b[0m\u001b[0;34m,\u001b[0m \u001b[0mconvert\u001b[0m\u001b[0;34m=\u001b[0m\u001b[0mTrue\u001b[0m\u001b[0;34m)\u001b[0m\u001b[0;34m\u001b[0m\u001b[0m\n\u001b[1;32m   2179\u001b[0m \u001b[0;34m\u001b[0m\u001b[0m\n",
      "\u001b[0;32m/Users/jankaiser/anaconda2/lib/python2.7/site-packages/pandas/core/indexing.pyc\u001b[0m in \u001b[0;36m_convert_to_indexer\u001b[0;34m(self, obj, axis, is_setter)\u001b[0m\n\u001b[1;32m   1267\u001b[0m                 \u001b[0;32mif\u001b[0m \u001b[0mmask\u001b[0m\u001b[0;34m.\u001b[0m\u001b[0many\u001b[0m\u001b[0;34m(\u001b[0m\u001b[0;34m)\u001b[0m\u001b[0;34m:\u001b[0m\u001b[0;34m\u001b[0m\u001b[0m\n\u001b[1;32m   1268\u001b[0m                     raise KeyError('{mask} not in index'\n\u001b[0;32m-> 1269\u001b[0;31m                                    .format(mask=objarr[mask]))\n\u001b[0m\u001b[1;32m   1270\u001b[0m \u001b[0;34m\u001b[0m\u001b[0m\n\u001b[1;32m   1271\u001b[0m                 \u001b[0;32mreturn\u001b[0m \u001b[0m_values_from_object\u001b[0m\u001b[0;34m(\u001b[0m\u001b[0mindexer\u001b[0m\u001b[0;34m)\u001b[0m\u001b[0;34m\u001b[0m\u001b[0m\n",
      "\u001b[0;31mKeyError\u001b[0m: \"['sector_id' 'sector_leave_time'] not in index\""
     ]
    }
   ],
   "source": [
    "# Export downsampled to 5 minutes\n",
    "ais_downsampled = ais_secleav.copy()\n",
    "ais_downsampled.index = ais_downsampled['time']\n",
    "ais_downsampled = ais_downsampled.groupby('TripID').apply(lambda x : x.resample('5T').mean()).reset_index()\n",
    "\n",
    "ais_learners = ais_downsampled[learners]\n",
    "ais_learners = ais_learners.dropna()\n",
    "ais_learners.head()\n",
    "#ais_learners.to_pickle('ROT-HAM_learners_05min.pkl')\n",
    "#ais_learners.head()"
   ]
  },
  {
   "cell_type": "code",
   "execution_count": null,
   "metadata": {},
   "outputs": [],
   "source": [
    "ais_secleav['sector_leave_time'].dtype"
   ]
  },
  {
   "cell_type": "code",
   "execution_count": null,
   "metadata": {},
   "outputs": [],
   "source": [
    "# Export downsampled to 10 minutes\n",
    "ais_downsampled = ais_secleav.copy()\n",
    "ais_downsampled.index = ais_downsampled['time']\n",
    "ais_downsampled = ais_downsampled.groupby('TripID').apply(lambda x : x.resample('10T').mean()).reset_index()\n",
    "\n",
    "ais_learners = ais_downsampled[learners]\n",
    "ais_learners = ais_learners.dropna()\n",
    "ais_learners.to_pickle('ROT-HAM_learners_10min.pkl')\n",
    "ais_learners.head()"
   ]
  },
  {
   "cell_type": "code",
   "execution_count": null,
   "metadata": {},
   "outputs": [],
   "source": [
    "# Export downsampled to 15 minutes\n",
    "ais_downsampled = ais_tfeats.copy()\n",
    "ais_downsampled.index = ais_downsampled['time']\n",
    "ais_downsampled = ais_downsampled.groupby('TripID').apply(lambda x : x.resample('15T').mean()).reset_index()\n",
    "\n",
    "ais_learners = ais_downsampled[learners]\n",
    "ais_learners = ais_learners.dropna()\n",
    "ais_learners.to_pickle('ROT-HAM_learners_15min.pkl')\n",
    "ais_learners.head()"
   ]
  },
  {
   "cell_type": "code",
   "execution_count": null,
   "metadata": {},
   "outputs": [],
   "source": [
    "# Export downsampled to 30 minutes\n",
    "ais_downsampled = ais_tfeats.copy()\n",
    "ais_downsampled.index = ais_downsampled['time']\n",
    "ais_downsampled = ais_downsampled.groupby('TripID').apply(lambda x : x.resample('30T').mean()).reset_index()\n",
    "\n",
    "ais_learners = ais_downsampled[learners]\n",
    "ais_learners = ais_learners.dropna()\n",
    "ais_learners.to_pickle('ROT-HAM_learners_30min.pkl')\n",
    "ais_learners.head()"
   ]
  },
  {
   "cell_type": "code",
   "execution_count": null,
   "metadata": {},
   "outputs": [],
   "source": [
    "# Export downsampled to 60 minutes\n",
    "ais_downsampled = ais_tfeats.copy()\n",
    "ais_downsampled.index = ais_downsampled['time']\n",
    "ais_downsampled = ais_downsampled.groupby('TripID').apply(lambda x : x.resample('60T').mean()).reset_index()\n",
    "\n",
    "ais_learners = ais_downsampled[learners]\n",
    "ais_learners = ais_learners.dropna()\n",
    "ais_learners.to_pickle('ROT-HAM_learners_60min.pkl')\n",
    "ais_learners.head()"
   ]
  }
 ],
 "metadata": {
  "kernelspec": {
   "display_name": "Python 2",
   "language": "python",
   "name": "python2"
  },
  "language_info": {
   "codemirror_mode": {
    "name": "ipython",
    "version": 2
   },
   "file_extension": ".py",
   "mimetype": "text/x-python",
   "name": "python",
   "nbconvert_exporter": "python",
   "pygments_lexer": "ipython2",
   "version": "2.7.14"
  }
 },
 "nbformat": 4,
 "nbformat_minor": 2
}
