{
 "cells": [
  {
   "cell_type": "code",
   "execution_count": null,
   "metadata": {},
   "outputs": [],
   "source": [
    "import pandas as pd\n",
    "import numpy as np\n",
    "\n",
    "import matplotlib.pyplot as plt\n",
    "% matplotlib inline\n",
    "plt.style.use('ggplot')\n",
    "\n",
    "import seaborn as sns\n",
    "\n",
    "import cartopy.crs as ccrs\n",
    "import cartopy.feature as cfeat\n",
    "import cartopy.io.img_tiles as cimgt"
   ]
  },
  {
   "cell_type": "code",
   "execution_count": null,
   "metadata": {},
   "outputs": [],
   "source": [
    "def plot_google_map(extent, size = (13, 13)) :\n",
    "    plt.figure(figsize = size)\n",
    "    \n",
    "    img = cimgt.GoogleTiles()\n",
    "\n",
    "    ax = plt.axes(projection = img.crs)\n",
    "    ax.set_extent(extent)\n",
    "    \n",
    "    ax.add_image(img, 7, interpolation = 'bicubic')"
   ]
  },
  {
   "cell_type": "code",
   "execution_count": null,
   "metadata": {},
   "outputs": [],
   "source": [
    "def plot_osm_map(extent, size = (13, 13)) :\n",
    "    plt.figure(figsize = size)\n",
    "    \n",
    "    img = cimgt.OSM()\n",
    "\n",
    "    ax = plt.axes(projection = img.crs)\n",
    "    ax.set_extent(extent)\n",
    "    \n",
    "    ax.add_image(img, 7, interpolation = 'bicubic')"
   ]
  },
  {
   "cell_type": "code",
   "execution_count": null,
   "metadata": {},
   "outputs": [],
   "source": [
    "def plot_carto_map(extent, size = (13, 13)) :\n",
    "    plt.figure(figsize = size)\n",
    "    \n",
    "    ax = plt.axes(projection = ccrs.Mercator())\n",
    "    ax.set_extent(extent)\n",
    "    \n",
    "    ax.add_feature(cfeat.LAND.with_scale('50m'))\n",
    "    ax.add_feature(cfeat.OCEAN.with_scale('50m'))\n",
    "    ax.add_feature(cfeat.COASTLINE.with_scale('50m'))\n",
    "    ax.add_feature(cfeat.BORDERS.with_scale('50m'))\n",
    "    ax.add_feature(cfeat.RIVERS.with_scale('50m'))\n",
    "    \n",
    "    # Draw Rotterdam marker\n",
    "    ax.scatter(x = 4.47917, y = 51.9225, transform = ccrs.PlateCarree(), marker = '*', c = 'C1', s = 500)\n",
    "    # Draw Hamburg marker\n",
    "    ax.scatter(x = 10.01534, y = 53.57532, transform = ccrs.PlateCarree(), marker = '*', c = 'C1', s = 500)"
   ]
  },
  {
   "cell_type": "code",
   "execution_count": null,
   "metadata": {},
   "outputs": [],
   "source": [
    "def plot_to_map(size, longitude, latitude) :\n",
    "    min_long = longitude.min() - 0.5\n",
    "    max_long = longitude.max() + 0.5\n",
    "    min_lat = latitude.min() - 0.5\n",
    "    max_lat = latitude.max() + 0.5\n",
    "    \n",
    "    plot_carto_map((min_long, max_long, min_lat, max_lat), size = size)\n",
    "    \n",
    "    plt.scatter(x = longitude, y = latitude, transform = ccrs.PlateCarree(), s = 1)"
   ]
  },
  {
   "cell_type": "code",
   "execution_count": null,
   "metadata": {},
   "outputs": [],
   "source": [
    "# Load the data\n",
    "names = ['TripID', 'MMSI', 'StartLatitude', 'StartLongitude', 'StartTime', 'EndLatitude', 'EndLongitude', 'EndTime',\n",
    "         'StartPort', 'EndPort', 'ID', 'time', 'shiptype', 'Length', 'Breadth', 'Draught', 'Latitude', 'Longitude',\n",
    "         'SOG', 'COG', 'TH', 'Destination', 'Name', 'Callsign', 'AisSourcen']\n",
    "ais = pd.read_csv('rotterdam_hamburg.arff', names = names, skiprows = 27, parse_dates = True, index_col = 'ID',\n",
    "                  na_values = ['?'], dtype = {'TripID': str, 'MMSI': str, 'shiptype': str})"
   ]
  },
  {
   "cell_type": "code",
   "execution_count": null,
   "metadata": {},
   "outputs": [],
   "source": [
    "ais.head()"
   ]
  },
  {
   "cell_type": "code",
   "execution_count": null,
   "metadata": {},
   "outputs": [],
   "source": [
    "ais_nan = ais"
   ]
  },
  {
   "cell_type": "code",
   "execution_count": null,
   "metadata": {},
   "outputs": [],
   "source": [
    "# Convert time columns to correct dtype\n",
    "ais_nan['StartTime'] = pd.to_datetime(ais_nan['StartTime'], format = '\\'%Y-%m-%d %H:%M\\'')\n",
    "ais_nan['EndTime'] = pd.to_datetime(ais_nan['EndTime'], format = '\\'%Y-%m-%d %H:%M\\'')\n",
    "ais_nan['time'] = pd.to_datetime(ais_nan['time'], format = '\\'%Y-%m-%d %H:%M\\'')"
   ]
  },
  {
   "cell_type": "code",
   "execution_count": null,
   "metadata": {},
   "outputs": [],
   "source": [
    "# Convert all headings that are 511 (>= 360) to NaN\n",
    "ais_nan.loc[ais_nan['TH'] >= 360, 'TH'] = np.nan"
   ]
  },
  {
   "cell_type": "code",
   "execution_count": null,
   "metadata": {},
   "outputs": [],
   "source": [
    "# Convert courses >= 360 to NaN\n",
    "ais_nan.loc[ais_nan['COG'] >= 360, 'COG'] = np.nan"
   ]
  },
  {
   "cell_type": "code",
   "execution_count": null,
   "metadata": {},
   "outputs": [],
   "source": [
    "# Set invalid shiptypes to NaN\n",
    "# Invalid shiptypes existing in the data set are '0' and '159'\n",
    "ais_nan.loc[(ais_nan['shiptype'] == '0') | (ais_nan['shiptype'] == '159'), 'shiptype'] = np.nan"
   ]
  },
  {
   "cell_type": "code",
   "execution_count": null,
   "metadata": {},
   "outputs": [],
   "source": [
    "# Set invalid lengths (0 or > 400) to NaN\n",
    "ais_nan.loc[(ais_nan['Length'] <= 0) | (ais_nan['Length'] > 400), 'Length'] = np.nan"
   ]
  },
  {
   "cell_type": "code",
   "execution_count": null,
   "metadata": {},
   "outputs": [],
   "source": [
    "# Set speeds that are unrealisticly high to NaN\n",
    "ais_nan.loc[ais_nan['SOG'] > 25.6, 'SOG'] = np.nan"
   ]
  },
  {
   "cell_type": "code",
   "execution_count": null,
   "metadata": {},
   "outputs": [],
   "source": [
    "ais_dropped = ais_nan.drop(['AisSourcen', 'StartPort', 'EndPort', 'Name', 'MMSI', 'shiptype'], axis = 1)"
   ]
  },
  {
   "cell_type": "code",
   "execution_count": null,
   "metadata": {},
   "outputs": [],
   "source": [
    "ais_dropped.head()"
   ]
  },
  {
   "cell_type": "code",
   "execution_count": null,
   "metadata": {},
   "outputs": [],
   "source": [
    "# Plot all positions in the data before any filters are applied\n",
    "plot_to_map(size = (13, 13), longitude = ais_dropped['Longitude'], latitude = ais_dropped['Latitude'])\n",
    "plt.title(\"All Positions Before Filtering\")"
   ]
  },
  {
   "cell_type": "code",
   "execution_count": null,
   "metadata": {},
   "outputs": [],
   "source": [
    "# Plot start positions before any filtering to map\n",
    "plot_to_map(size = (8, 8), longitude = ais_dropped['StartLongitude'], latitude = ais_dropped['StartLatitude'])\n",
    "plt.title(\"Start Positions Before Filtering\")"
   ]
  },
  {
   "cell_type": "code",
   "execution_count": null,
   "metadata": {},
   "outputs": [],
   "source": [
    "# Plot end positions before any filtering to map\n",
    "plot_to_map(size = (8, 8), longitude = ais_dropped['EndLongitude'], latitude = ais_dropped['EndLatitude'])\n",
    "plt.title(\"End Positions Before Filtering\")"
   ]
  },
  {
   "cell_type": "code",
   "execution_count": null,
   "metadata": {},
   "outputs": [],
   "source": [
    "# Get rid of trips that leave our zone (2.45 - 10.66 / 51.49 - 55.06)\n",
    "\n",
    "outside_long_mask = (ais_dropped['Longitude'] < 2.45) | (ais_dropped['Longitude'] > 10.66)\n",
    "outside_lat_mask = (ais_dropped['Latitude'] < 51.49) | (ais_dropped['Latitude'] > 55.06)\n",
    "\n",
    "outside_rec_mask = outside_long_mask | outside_lat_mask\n",
    "\n",
    "outside_trip_ids = ais_dropped['TripID'][outside_rec_mask].unique()\n",
    "outside_trip_mask = ~ais_dropped['TripID'].isin(outside_trip_ids)\n",
    "ais_zoned = ais_dropped[outside_trip_mask]"
   ]
  },
  {
   "cell_type": "code",
   "execution_count": null,
   "metadata": {},
   "outputs": [],
   "source": [
    "plot_to_map(size = (13, 13), longitude = ais_zoned['Longitude'], latitude = ais_zoned['Latitude'])\n",
    "plt.title(\"All Positions After Filtering to Our Zone\")"
   ]
  },
  {
   "cell_type": "code",
   "execution_count": null,
   "metadata": {},
   "outputs": [],
   "source": [
    "ais_tts = ais_zoned\n",
    "\n",
    "# Add time for the entire trip to the data\n",
    "ais_tts['TravelTime'] = ais_tts['EndTime'] - ais_tts['StartTime']\n",
    "ais_tts['TravelTimeMins'] = ais_tts['TravelTime'].transform(lambda x : x.total_seconds() / 60)\n",
    "\n",
    "# Add time remaining until arrival at destination\n",
    "ais_tts['remainingTT'] = ais_tts['EndTime'] - ais_tts['time']\n",
    "ais_tts['remainingMins'] = ais_tts['remainingTT'].transform(lambda x : x.total_seconds() / 60)"
   ]
  },
  {
   "cell_type": "code",
   "execution_count": null,
   "metadata": {},
   "outputs": [],
   "source": [
    "travel_times = ais_tts.groupby('TripID')['TravelTime'].max()\n",
    "travel_times = travel_times.transform(lambda x : x.total_seconds() // 3600)\n",
    "travel_times.value_counts().sort_index().plot.bar(figsize = (25, 10))"
   ]
  },
  {
   "cell_type": "code",
   "execution_count": null,
   "metadata": {},
   "outputs": [],
   "source": [
    "travel_times[travel_times < travel_times.quantile(.75)].value_counts().sort_index().plot.bar(figsize = (25, 10))"
   ]
  },
  {
   "cell_type": "code",
   "execution_count": null,
   "metadata": {},
   "outputs": [],
   "source": [
    "# Only keep majority of shorter trips\n",
    "ais_shortmaj = ais_tts[ais_tts['TravelTime'] < ais_tts['TravelTime'].quantile(.75)]\n",
    "ais_shortmaj['TravelTime'].describe()"
   ]
  },
  {
   "cell_type": "code",
   "execution_count": null,
   "metadata": {},
   "outputs": [],
   "source": [
    "plot_to_map(size = (13, 13), longitude = ais_shortmaj['Longitude'], latitude = ais_shortmaj['Latitude'])"
   ]
  },
  {
   "cell_type": "code",
   "execution_count": null,
   "metadata": {},
   "outputs": [],
   "source": [
    "# Get and plot the longest trip in the data set\n",
    "longest_trip = ais_shortmaj[ais_shortmaj['TravelTime'] == ais_shortmaj['TravelTime'].max()]\n",
    "longest_trip.head()"
   ]
  },
  {
   "cell_type": "code",
   "execution_count": null,
   "metadata": {},
   "outputs": [],
   "source": [
    "plot_to_map(size = (13, 13), longitude = longest_trip['Longitude'], latitude = longest_trip['Latitude'])\n",
    "plt.title(\"Longest Trip in the Data Set\")"
   ]
  },
  {
   "cell_type": "code",
   "execution_count": null,
   "metadata": {},
   "outputs": [],
   "source": [
    "from math import sin, cos, sqrt, atan2, radians\n",
    "\n",
    "def dist(a_lat, a_long, b_lat, b_long) :\n",
    "    R = 6373.0\n",
    "    \n",
    "    lat1 = radians(a_lat)\n",
    "    lon1 = radians(a_long)\n",
    "    lat2 = radians(b_lat)\n",
    "    lon2 = radians(b_long)\n",
    "\n",
    "    dlon = lon2 - lon1\n",
    "    dlat = lat2 - lat1\n",
    "\n",
    "    a = sin(dlat / 2) ** 2 + cos(lat1) * cos(lat2) * sin(dlon / 2) ** 2\n",
    "    c = 2 * atan2(sqrt(a), sqrt(1 - a))\n",
    "\n",
    "    distance = R * c\n",
    "    return distance"
   ]
  },
  {
   "cell_type": "code",
   "execution_count": null,
   "metadata": {},
   "outputs": [],
   "source": [
    "sns.pairplot(ais_shortmaj, x_vars = ['Latitude', 'Longitude'], y_vars = 'remainingMins', size = 7)"
   ]
  },
  {
   "cell_type": "code",
   "execution_count": null,
   "metadata": {},
   "outputs": [],
   "source": [
    "from sklearn.model_selection import train_test_split\n",
    "from sklearn.linear_model import LinearRegression\n",
    "from sklearn.neighbors import KNeighborsRegressor\n",
    "from sklearn import metrics"
   ]
  },
  {
   "cell_type": "code",
   "execution_count": null,
   "metadata": {},
   "outputs": [],
   "source": [
    "X = ais_shortmaj[['Latitude', 'Longitude']]\n",
    "y = ais_shortmaj['remainingTT']\n",
    "y = y.transform(lambda x : x.total_seconds() / 60)\n",
    "\n",
    "X_train, X_test, y_train, y_test = train_test_split(X, y, test_size = .1)"
   ]
  },
  {
   "cell_type": "code",
   "execution_count": null,
   "metadata": {},
   "outputs": [],
   "source": [
    "lin = LinearRegression()\n",
    "lin.fit(X_train, y_train)"
   ]
  },
  {
   "cell_type": "code",
   "execution_count": null,
   "metadata": {},
   "outputs": [],
   "source": [
    "lin_pred = lin.predict(X_test)\n",
    "sqrt(metrics.mean_squared_error(y_test, lin_pred))"
   ]
  },
  {
   "cell_type": "code",
   "execution_count": null,
   "metadata": {},
   "outputs": [],
   "source": [
    "knn = KNeighborsRegressor(n_neighbors = 100)\n",
    "knn.fit(X_train, y_train)"
   ]
  },
  {
   "cell_type": "code",
   "execution_count": null,
   "metadata": {},
   "outputs": [],
   "source": [
    "knn_pred = knn.predict(X_test)\n",
    "sqrt(metrics.mean_squared_error(y_test, knn_pred))"
   ]
  },
  {
   "cell_type": "code",
   "execution_count": null,
   "metadata": {},
   "outputs": [],
   "source": [
    "import math\n",
    "\n",
    "k_range = range(1, 30)\n",
    "scores = []\n",
    "\n",
    "for k in k_range :\n",
    "    kknn = KNeighborsRegressor(n_neighbors = k)\n",
    "    kknn.fit(X_train, y_train)\n",
    "    kknn_pred = kknn.predict(X_test)\n",
    "    scores.append(sqrt(metrics.mean_squared_error(y_test, kknn_pred)))"
   ]
  },
  {
   "cell_type": "code",
   "execution_count": null,
   "metadata": {},
   "outputs": [],
   "source": [
    "plt.figure(figsize = (15, 5))\n",
    "plt.plot(k_range, scores)"
   ]
  }
 ],
 "metadata": {
  "kernelspec": {
   "display_name": "Python 2",
   "language": "python",
   "name": "python2"
  },
  "language_info": {
   "codemirror_mode": {
    "name": "ipython",
    "version": 2
   },
   "file_extension": ".py",
   "mimetype": "text/x-python",
   "name": "python",
   "nbconvert_exporter": "python",
   "pygments_lexer": "ipython2",
   "version": "2.7.14"
  }
 },
 "nbformat": 4,
 "nbformat_minor": 2
}
