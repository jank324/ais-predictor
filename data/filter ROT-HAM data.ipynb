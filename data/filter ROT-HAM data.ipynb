{
 "cells": [
  {
   "cell_type": "code",
   "execution_count": 1,
   "metadata": {},
   "outputs": [],
   "source": [
    "import pandas as pd\n",
    "import numpy as np\n",
    "\n",
    "import matplotlib.pyplot as plt\n",
    "% matplotlib inline\n",
    "plt.style.use('ggplot')\n",
    "\n",
    "import seaborn as sns\n",
    "\n",
    "import cartopy.crs as ccrs\n",
    "import cartopy.feature as cfeat\n",
    "import cartopy.io.img_tiles as cimgt\n",
    "\n",
    "import AISMapPlot as aismap"
   ]
  },
  {
   "cell_type": "code",
   "execution_count": 2,
   "metadata": {},
   "outputs": [],
   "source": [
    "# Load the data\n",
    "names = ['TripID', 'MMSI', 'StartLatitude', 'StartLongitude', 'StartTime', 'EndLatitude', 'EndLongitude', 'EndTime',\n",
    "         'StartPort', 'EndPort', 'ID', 'time', 'shiptype', 'Length', 'Breadth', 'Draught', 'Latitude', 'Longitude',\n",
    "         'SOG', 'COG', 'TH', 'Destination', 'Name', 'Callsign', 'AisSourcen']\n",
    "ais = pd.read_csv('rotterdam_hamburg.arff', names = names, skiprows = 27, parse_dates = True,\n",
    "                  na_values = ['?'], dtype = {'TripID': str, 'MMSI': str, 'shiptype': str})"
   ]
  },
  {
   "cell_type": "code",
   "execution_count": 3,
   "metadata": {},
   "outputs": [
    {
     "data": {
      "text/html": [
       "<div>\n",
       "<style scoped>\n",
       "    .dataframe tbody tr th:only-of-type {\n",
       "        vertical-align: middle;\n",
       "    }\n",
       "\n",
       "    .dataframe tbody tr th {\n",
       "        vertical-align: top;\n",
       "    }\n",
       "\n",
       "    .dataframe thead th {\n",
       "        text-align: right;\n",
       "    }\n",
       "</style>\n",
       "<table border=\"1\" class=\"dataframe\">\n",
       "  <thead>\n",
       "    <tr style=\"text-align: right;\">\n",
       "      <th></th>\n",
       "      <th>TripID</th>\n",
       "      <th>MMSI</th>\n",
       "      <th>StartLatitude</th>\n",
       "      <th>StartLongitude</th>\n",
       "      <th>StartTime</th>\n",
       "      <th>EndLatitude</th>\n",
       "      <th>EndLongitude</th>\n",
       "      <th>EndTime</th>\n",
       "      <th>StartPort</th>\n",
       "      <th>EndPort</th>\n",
       "      <th>...</th>\n",
       "      <th>Draught</th>\n",
       "      <th>Latitude</th>\n",
       "      <th>Longitude</th>\n",
       "      <th>SOG</th>\n",
       "      <th>COG</th>\n",
       "      <th>TH</th>\n",
       "      <th>Destination</th>\n",
       "      <th>Name</th>\n",
       "      <th>Callsign</th>\n",
       "      <th>AisSourcen</th>\n",
       "    </tr>\n",
       "  </thead>\n",
       "  <tbody>\n",
       "    <tr>\n",
       "      <th>0</th>\n",
       "      <td>21109</td>\n",
       "      <td>210481000</td>\n",
       "      <td>51.94</td>\n",
       "      <td>4.05</td>\n",
       "      <td>'2016-1-21 04:32'</td>\n",
       "      <td>53.53</td>\n",
       "      <td>9.91</td>\n",
       "      <td>'2016-1-22 06:04'</td>\n",
       "      <td>ROTTERDAM</td>\n",
       "      <td>HAMBURG</td>\n",
       "      <td>...</td>\n",
       "      <td>10.64</td>\n",
       "      <td>53.95</td>\n",
       "      <td>7.82</td>\n",
       "      <td>14.7</td>\n",
       "      <td>81.0</td>\n",
       "      <td>80.0</td>\n",
       "      <td>HAMBURG</td>\n",
       "      <td>CMA.CGM.SAMBHAR</td>\n",
       "      <td>5BND2</td>\n",
       "      <td>H7001.DAIS1.81b.71.71a</td>\n",
       "    </tr>\n",
       "    <tr>\n",
       "      <th>1</th>\n",
       "      <td>21109</td>\n",
       "      <td>210481000</td>\n",
       "      <td>51.94</td>\n",
       "      <td>4.05</td>\n",
       "      <td>'2016-1-21 04:32'</td>\n",
       "      <td>53.53</td>\n",
       "      <td>9.91</td>\n",
       "      <td>'2016-1-22 06:04'</td>\n",
       "      <td>ROTTERDAM</td>\n",
       "      <td>HAMBURG</td>\n",
       "      <td>...</td>\n",
       "      <td>10.64</td>\n",
       "      <td>53.95</td>\n",
       "      <td>7.83</td>\n",
       "      <td>14.7</td>\n",
       "      <td>80.0</td>\n",
       "      <td>80.0</td>\n",
       "      <td>HAMBURG</td>\n",
       "      <td>CMA.CGM.SAMBHAR</td>\n",
       "      <td>5BND2</td>\n",
       "      <td>H7001.DAIS1.81b.71.71a</td>\n",
       "    </tr>\n",
       "    <tr>\n",
       "      <th>2</th>\n",
       "      <td>21109</td>\n",
       "      <td>210481000</td>\n",
       "      <td>51.94</td>\n",
       "      <td>4.05</td>\n",
       "      <td>'2016-1-21 04:32'</td>\n",
       "      <td>53.53</td>\n",
       "      <td>9.91</td>\n",
       "      <td>'2016-1-22 06:04'</td>\n",
       "      <td>ROTTERDAM</td>\n",
       "      <td>HAMBURG</td>\n",
       "      <td>...</td>\n",
       "      <td>10.64</td>\n",
       "      <td>53.95</td>\n",
       "      <td>7.83</td>\n",
       "      <td>14.7</td>\n",
       "      <td>81.0</td>\n",
       "      <td>80.0</td>\n",
       "      <td>HAMBURG</td>\n",
       "      <td>CMA.CGM.SAMBHAR</td>\n",
       "      <td>5BND2</td>\n",
       "      <td>H7001.DAIS1.81b.71.71a</td>\n",
       "    </tr>\n",
       "    <tr>\n",
       "      <th>3</th>\n",
       "      <td>21109</td>\n",
       "      <td>210481000</td>\n",
       "      <td>51.94</td>\n",
       "      <td>4.05</td>\n",
       "      <td>'2016-1-21 04:32'</td>\n",
       "      <td>53.53</td>\n",
       "      <td>9.91</td>\n",
       "      <td>'2016-1-22 06:04'</td>\n",
       "      <td>ROTTERDAM</td>\n",
       "      <td>HAMBURG</td>\n",
       "      <td>...</td>\n",
       "      <td>10.64</td>\n",
       "      <td>53.95</td>\n",
       "      <td>7.84</td>\n",
       "      <td>14.7</td>\n",
       "      <td>80.0</td>\n",
       "      <td>80.0</td>\n",
       "      <td>HAMBURG</td>\n",
       "      <td>CMA.CGM.SAMBHAR</td>\n",
       "      <td>5BND2</td>\n",
       "      <td>H7001.DAIS1.81b.71.71a</td>\n",
       "    </tr>\n",
       "    <tr>\n",
       "      <th>4</th>\n",
       "      <td>21109</td>\n",
       "      <td>210481000</td>\n",
       "      <td>51.94</td>\n",
       "      <td>4.05</td>\n",
       "      <td>'2016-1-21 04:32'</td>\n",
       "      <td>53.53</td>\n",
       "      <td>9.91</td>\n",
       "      <td>'2016-1-22 06:04'</td>\n",
       "      <td>ROTTERDAM</td>\n",
       "      <td>HAMBURG</td>\n",
       "      <td>...</td>\n",
       "      <td>10.64</td>\n",
       "      <td>53.95</td>\n",
       "      <td>7.85</td>\n",
       "      <td>14.7</td>\n",
       "      <td>81.0</td>\n",
       "      <td>80.0</td>\n",
       "      <td>HAMBURG</td>\n",
       "      <td>CMA.CGM.SAMBHAR</td>\n",
       "      <td>5BND2</td>\n",
       "      <td>H7001.DAIS1.81b.71.71a</td>\n",
       "    </tr>\n",
       "  </tbody>\n",
       "</table>\n",
       "<p>5 rows × 25 columns</p>\n",
       "</div>"
      ],
      "text/plain": [
       "  TripID       MMSI  StartLatitude  StartLongitude          StartTime  \\\n",
       "0  21109  210481000          51.94            4.05  '2016-1-21 04:32'   \n",
       "1  21109  210481000          51.94            4.05  '2016-1-21 04:32'   \n",
       "2  21109  210481000          51.94            4.05  '2016-1-21 04:32'   \n",
       "3  21109  210481000          51.94            4.05  '2016-1-21 04:32'   \n",
       "4  21109  210481000          51.94            4.05  '2016-1-21 04:32'   \n",
       "\n",
       "   EndLatitude  EndLongitude            EndTime  StartPort  EndPort  \\\n",
       "0        53.53          9.91  '2016-1-22 06:04'  ROTTERDAM  HAMBURG   \n",
       "1        53.53          9.91  '2016-1-22 06:04'  ROTTERDAM  HAMBURG   \n",
       "2        53.53          9.91  '2016-1-22 06:04'  ROTTERDAM  HAMBURG   \n",
       "3        53.53          9.91  '2016-1-22 06:04'  ROTTERDAM  HAMBURG   \n",
       "4        53.53          9.91  '2016-1-22 06:04'  ROTTERDAM  HAMBURG   \n",
       "\n",
       "            ...            Draught Latitude Longitude   SOG   COG    TH  \\\n",
       "0           ...              10.64    53.95      7.82  14.7  81.0  80.0   \n",
       "1           ...              10.64    53.95      7.83  14.7  80.0  80.0   \n",
       "2           ...              10.64    53.95      7.83  14.7  81.0  80.0   \n",
       "3           ...              10.64    53.95      7.84  14.7  80.0  80.0   \n",
       "4           ...              10.64    53.95      7.85  14.7  81.0  80.0   \n",
       "\n",
       "   Destination             Name  Callsign              AisSourcen  \n",
       "0      HAMBURG  CMA.CGM.SAMBHAR     5BND2  H7001.DAIS1.81b.71.71a  \n",
       "1      HAMBURG  CMA.CGM.SAMBHAR     5BND2  H7001.DAIS1.81b.71.71a  \n",
       "2      HAMBURG  CMA.CGM.SAMBHAR     5BND2  H7001.DAIS1.81b.71.71a  \n",
       "3      HAMBURG  CMA.CGM.SAMBHAR     5BND2  H7001.DAIS1.81b.71.71a  \n",
       "4      HAMBURG  CMA.CGM.SAMBHAR     5BND2  H7001.DAIS1.81b.71.71a  \n",
       "\n",
       "[5 rows x 25 columns]"
      ]
     },
     "execution_count": 3,
     "metadata": {},
     "output_type": "execute_result"
    }
   ],
   "source": [
    "ais.head()"
   ]
  },
  {
   "cell_type": "code",
   "execution_count": 4,
   "metadata": {},
   "outputs": [],
   "source": [
    "ais_nan = ais"
   ]
  },
  {
   "cell_type": "code",
   "execution_count": 5,
   "metadata": {},
   "outputs": [],
   "source": [
    "# Convert time columns to correct dtype\n",
    "ais_nan['StartTime'] = pd.to_datetime(ais_nan['StartTime'], format = '\\'%Y-%m-%d %H:%M\\'')\n",
    "ais_nan['EndTime'] = pd.to_datetime(ais_nan['EndTime'], format = '\\'%Y-%m-%d %H:%M\\'')\n",
    "ais_nan['time'] = pd.to_datetime(ais_nan['time'], format = '\\'%Y-%m-%d %H:%M\\'')"
   ]
  },
  {
   "cell_type": "code",
   "execution_count": 6,
   "metadata": {},
   "outputs": [],
   "source": [
    "# Convert all headings that are 511 (>= 360) to NaN\n",
    "ais_nan.loc[ais_nan['TH'] >= 360, 'TH'] = np.nan"
   ]
  },
  {
   "cell_type": "code",
   "execution_count": 7,
   "metadata": {},
   "outputs": [],
   "source": [
    "# Convert courses >= 360 to NaN\n",
    "ais_nan.loc[ais_nan['COG'] >= 360, 'COG'] = np.nan"
   ]
  },
  {
   "cell_type": "code",
   "execution_count": 8,
   "metadata": {},
   "outputs": [],
   "source": [
    "# Set invalid shiptypes to NaN\n",
    "# Invalid shiptypes existing in the data set are '0' and '159'\n",
    "ais_nan.loc[(ais_nan['shiptype'] == '0') | (ais_nan['shiptype'] == '159'), 'shiptype'] = np.nan"
   ]
  },
  {
   "cell_type": "code",
   "execution_count": 9,
   "metadata": {},
   "outputs": [],
   "source": [
    "# Set invalid lengths (0 or > 400) to NaN\n",
    "ais_nan.loc[(ais_nan['Length'] <= 0) | (ais_nan['Length'] > 400), 'Length'] = np.nan"
   ]
  },
  {
   "cell_type": "code",
   "execution_count": 10,
   "metadata": {},
   "outputs": [],
   "source": [
    "# Set invalid lengths (0 or > 59) to NaN\n",
    "ais_nan.loc[(ais_nan['Breadth'] <= 0) | (ais_nan['Breadth'] > 59), 'Breadth'] = np.nan"
   ]
  },
  {
   "cell_type": "code",
   "execution_count": 11,
   "metadata": {},
   "outputs": [],
   "source": [
    "# Set speeds that are unrealisticly high to NaN\n",
    "ais_nan.loc[ais_nan['SOG'] > 25.6, 'SOG'] = np.nan"
   ]
  },
  {
   "cell_type": "code",
   "execution_count": 12,
   "metadata": {},
   "outputs": [],
   "source": [
    "ais_dropped = ais_nan.drop(['AisSourcen', 'ID', 'StartPort', 'EndPort', 'Name', 'MMSI', 'shiptype'], axis = 1)"
   ]
  },
  {
   "cell_type": "code",
   "execution_count": 13,
   "metadata": {},
   "outputs": [
    {
     "data": {
      "text/html": [
       "<div>\n",
       "<style scoped>\n",
       "    .dataframe tbody tr th:only-of-type {\n",
       "        vertical-align: middle;\n",
       "    }\n",
       "\n",
       "    .dataframe tbody tr th {\n",
       "        vertical-align: top;\n",
       "    }\n",
       "\n",
       "    .dataframe thead th {\n",
       "        text-align: right;\n",
       "    }\n",
       "</style>\n",
       "<table border=\"1\" class=\"dataframe\">\n",
       "  <thead>\n",
       "    <tr style=\"text-align: right;\">\n",
       "      <th></th>\n",
       "      <th>TripID</th>\n",
       "      <th>StartLatitude</th>\n",
       "      <th>StartLongitude</th>\n",
       "      <th>StartTime</th>\n",
       "      <th>EndLatitude</th>\n",
       "      <th>EndLongitude</th>\n",
       "      <th>EndTime</th>\n",
       "      <th>time</th>\n",
       "      <th>Length</th>\n",
       "      <th>Breadth</th>\n",
       "      <th>Draught</th>\n",
       "      <th>Latitude</th>\n",
       "      <th>Longitude</th>\n",
       "      <th>SOG</th>\n",
       "      <th>COG</th>\n",
       "      <th>TH</th>\n",
       "      <th>Destination</th>\n",
       "      <th>Callsign</th>\n",
       "    </tr>\n",
       "  </thead>\n",
       "  <tbody>\n",
       "    <tr>\n",
       "      <th>0</th>\n",
       "      <td>21109</td>\n",
       "      <td>51.94</td>\n",
       "      <td>4.05</td>\n",
       "      <td>2016-01-21 04:32:00</td>\n",
       "      <td>53.53</td>\n",
       "      <td>9.91</td>\n",
       "      <td>2016-01-22 06:04:00</td>\n",
       "      <td>2016-01-21 22:04:00</td>\n",
       "      <td>269.0</td>\n",
       "      <td>32.0</td>\n",
       "      <td>10.64</td>\n",
       "      <td>53.95</td>\n",
       "      <td>7.82</td>\n",
       "      <td>14.7</td>\n",
       "      <td>81.0</td>\n",
       "      <td>80.0</td>\n",
       "      <td>HAMBURG</td>\n",
       "      <td>5BND2</td>\n",
       "    </tr>\n",
       "    <tr>\n",
       "      <th>1</th>\n",
       "      <td>21109</td>\n",
       "      <td>51.94</td>\n",
       "      <td>4.05</td>\n",
       "      <td>2016-01-21 04:32:00</td>\n",
       "      <td>53.53</td>\n",
       "      <td>9.91</td>\n",
       "      <td>2016-01-22 06:04:00</td>\n",
       "      <td>2016-01-21 22:05:00</td>\n",
       "      <td>269.0</td>\n",
       "      <td>32.0</td>\n",
       "      <td>10.64</td>\n",
       "      <td>53.95</td>\n",
       "      <td>7.83</td>\n",
       "      <td>14.7</td>\n",
       "      <td>80.0</td>\n",
       "      <td>80.0</td>\n",
       "      <td>HAMBURG</td>\n",
       "      <td>5BND2</td>\n",
       "    </tr>\n",
       "    <tr>\n",
       "      <th>2</th>\n",
       "      <td>21109</td>\n",
       "      <td>51.94</td>\n",
       "      <td>4.05</td>\n",
       "      <td>2016-01-21 04:32:00</td>\n",
       "      <td>53.53</td>\n",
       "      <td>9.91</td>\n",
       "      <td>2016-01-22 06:04:00</td>\n",
       "      <td>2016-01-21 22:06:00</td>\n",
       "      <td>269.0</td>\n",
       "      <td>32.0</td>\n",
       "      <td>10.64</td>\n",
       "      <td>53.95</td>\n",
       "      <td>7.83</td>\n",
       "      <td>14.7</td>\n",
       "      <td>81.0</td>\n",
       "      <td>80.0</td>\n",
       "      <td>HAMBURG</td>\n",
       "      <td>5BND2</td>\n",
       "    </tr>\n",
       "    <tr>\n",
       "      <th>3</th>\n",
       "      <td>21109</td>\n",
       "      <td>51.94</td>\n",
       "      <td>4.05</td>\n",
       "      <td>2016-01-21 04:32:00</td>\n",
       "      <td>53.53</td>\n",
       "      <td>9.91</td>\n",
       "      <td>2016-01-22 06:04:00</td>\n",
       "      <td>2016-01-21 22:07:00</td>\n",
       "      <td>269.0</td>\n",
       "      <td>32.0</td>\n",
       "      <td>10.64</td>\n",
       "      <td>53.95</td>\n",
       "      <td>7.84</td>\n",
       "      <td>14.7</td>\n",
       "      <td>80.0</td>\n",
       "      <td>80.0</td>\n",
       "      <td>HAMBURG</td>\n",
       "      <td>5BND2</td>\n",
       "    </tr>\n",
       "    <tr>\n",
       "      <th>4</th>\n",
       "      <td>21109</td>\n",
       "      <td>51.94</td>\n",
       "      <td>4.05</td>\n",
       "      <td>2016-01-21 04:32:00</td>\n",
       "      <td>53.53</td>\n",
       "      <td>9.91</td>\n",
       "      <td>2016-01-22 06:04:00</td>\n",
       "      <td>2016-01-21 22:08:00</td>\n",
       "      <td>269.0</td>\n",
       "      <td>32.0</td>\n",
       "      <td>10.64</td>\n",
       "      <td>53.95</td>\n",
       "      <td>7.85</td>\n",
       "      <td>14.7</td>\n",
       "      <td>81.0</td>\n",
       "      <td>80.0</td>\n",
       "      <td>HAMBURG</td>\n",
       "      <td>5BND2</td>\n",
       "    </tr>\n",
       "  </tbody>\n",
       "</table>\n",
       "</div>"
      ],
      "text/plain": [
       "  TripID  StartLatitude  StartLongitude           StartTime  EndLatitude  \\\n",
       "0  21109          51.94            4.05 2016-01-21 04:32:00        53.53   \n",
       "1  21109          51.94            4.05 2016-01-21 04:32:00        53.53   \n",
       "2  21109          51.94            4.05 2016-01-21 04:32:00        53.53   \n",
       "3  21109          51.94            4.05 2016-01-21 04:32:00        53.53   \n",
       "4  21109          51.94            4.05 2016-01-21 04:32:00        53.53   \n",
       "\n",
       "   EndLongitude             EndTime                time  Length  Breadth  \\\n",
       "0          9.91 2016-01-22 06:04:00 2016-01-21 22:04:00   269.0     32.0   \n",
       "1          9.91 2016-01-22 06:04:00 2016-01-21 22:05:00   269.0     32.0   \n",
       "2          9.91 2016-01-22 06:04:00 2016-01-21 22:06:00   269.0     32.0   \n",
       "3          9.91 2016-01-22 06:04:00 2016-01-21 22:07:00   269.0     32.0   \n",
       "4          9.91 2016-01-22 06:04:00 2016-01-21 22:08:00   269.0     32.0   \n",
       "\n",
       "   Draught  Latitude  Longitude   SOG   COG    TH Destination Callsign  \n",
       "0    10.64     53.95       7.82  14.7  81.0  80.0     HAMBURG    5BND2  \n",
       "1    10.64     53.95       7.83  14.7  80.0  80.0     HAMBURG    5BND2  \n",
       "2    10.64     53.95       7.83  14.7  81.0  80.0     HAMBURG    5BND2  \n",
       "3    10.64     53.95       7.84  14.7  80.0  80.0     HAMBURG    5BND2  \n",
       "4    10.64     53.95       7.85  14.7  81.0  80.0     HAMBURG    5BND2  "
      ]
     },
     "execution_count": 13,
     "metadata": {},
     "output_type": "execute_result"
    }
   ],
   "source": [
    "ais_dropped.head()"
   ]
  },
  {
   "cell_type": "code",
   "execution_count": null,
   "metadata": {},
   "outputs": [],
   "source": [
    "# Plot all positions in the data before any filters are applied\n",
    "aismap.plot_to_map(size = (13, 13), longitude = ais_dropped['Longitude'], latitude = ais_dropped['Latitude'])\n",
    "plt.title(\"All Positions Before Filtering\")"
   ]
  },
  {
   "cell_type": "code",
   "execution_count": null,
   "metadata": {},
   "outputs": [],
   "source": [
    "# Plot start positions before any filtering to map\n",
    "aismap.plot_to_map(size = (8, 8), longitude = ais_dropped['StartLongitude'], latitude = ais_dropped['StartLatitude'])\n",
    "plt.title(\"Start Positions Before Filtering\")"
   ]
  },
  {
   "cell_type": "code",
   "execution_count": null,
   "metadata": {},
   "outputs": [],
   "source": [
    "# Plot end positions before any filtering to map\n",
    "aismap.plot_to_map(size = (8, 8), longitude = ais_dropped['EndLongitude'], latitude = ais_dropped['EndLatitude'])\n",
    "plt.title(\"End Positions Before Filtering\")"
   ]
  },
  {
   "cell_type": "code",
   "execution_count": null,
   "metadata": {},
   "outputs": [],
   "source": [
    "# Get rid of trips that leave our zone (2.45 - 10.66 / 51.49 - 55.06)\n",
    "\n",
    "outside_long_mask = (ais_dropped['Longitude'] < 2.45) | (ais_dropped['Longitude'] > 10.66)\n",
    "outside_lat_mask = (ais_dropped['Latitude'] < 51.49) | (ais_dropped['Latitude'] > 55.06)\n",
    "\n",
    "outside_rec_mask = outside_long_mask | outside_lat_mask\n",
    "\n",
    "outside_trip_ids = ais_dropped['TripID'][outside_rec_mask].unique()\n",
    "outside_trip_mask = ~ais_dropped['TripID'].isin(outside_trip_ids)\n",
    "ais_zoned = ais_dropped[outside_trip_mask]"
   ]
  },
  {
   "cell_type": "code",
   "execution_count": null,
   "metadata": {},
   "outputs": [],
   "source": [
    "aismap.plot_to_map(size = (13, 13), longitude = ais_zoned['Longitude'], latitude = ais_zoned['Latitude'])\n",
    "plt.title(\"All Positions After Filtering to Our Zone\")"
   ]
  },
  {
   "cell_type": "code",
   "execution_count": null,
   "metadata": {},
   "outputs": [],
   "source": [
    "minlat = ais_zoned['EndLatitude'].min() - 0.2\n",
    "maxlat = ais_zoned['EndLatitude'].max() + 0.2\n",
    "minlong = ais_zoned['EndLongitude'].min() - 0.2\n",
    "maxlong = ais_zoned['EndLongitude'].max() + 0.2\n",
    "\n",
    "aismap.plot_google_map((minlong, maxlong, minlat, maxlat))\n",
    "plt.scatter(x = ais_zoned['EndLongitude'], y = ais_zoned['EndLatitude'] , transform = ccrs.PlateCarree(), s = 1)"
   ]
  },
  {
   "cell_type": "code",
   "execution_count": null,
   "metadata": {},
   "outputs": [],
   "source": [
    "ais_zoned['EndTime'].describe()"
   ]
  },
  {
   "cell_type": "code",
   "execution_count": null,
   "metadata": {},
   "outputs": [],
   "source": [
    "# Get times finish line is crossed, by trips that do cross it\n",
    "finish_line_ts = ais_zoned[ais_zoned['Longitude'] > 9.81].groupby('TripID')['time'].min()\n",
    "\n",
    "# Only keep trips that do cross the finish line\n",
    "ais_ham_zoned = ais_zoned[ais_zoned['TripID'].isin(finish_line_ts.index)]\n",
    "\n",
    "#Set EndTime to the time the ship first appears behind the finish line\n",
    "for tripid in finish_line_ts.index :\n",
    "    ais_ham_zoned.loc[ais_ham_zoned['TripID'] == tripid, 'EndTime'] = finish_line_ts.loc[tripid]\n",
    "\n",
    "ais_ham_zoned.head()"
   ]
  },
  {
   "cell_type": "code",
   "execution_count": null,
   "metadata": {},
   "outputs": [],
   "source": [
    "ais_ham_zoned['EndTime'].describe()"
   ]
  },
  {
   "cell_type": "code",
   "execution_count": null,
   "metadata": {},
   "outputs": [],
   "source": [
    "ais_tts = ais_ham_zoned\n",
    "ais_tts.is_copy = False   # Hack to silence SettingWithCopyWarning\n",
    "\n",
    "# Add time for the entire trip to the data\n",
    "ais_tts['TravelTime'] = ais_tts['EndTime'] - ais_tts['StartTime']\n",
    "ais_tts['TravelTimeMins'] = ais_tts['TravelTime'].transform(lambda x : x.total_seconds() / 60)\n",
    "\n",
    "# Add time remaining until arrival at destination\n",
    "ais_tts['remainingTT'] = ais_tts['EndTime'] - ais_tts['time']\n",
    "ais_tts['remainingMins'] = ais_tts['remainingTT'].transform(lambda x : x.total_seconds() / 60)"
   ]
  },
  {
   "cell_type": "code",
   "execution_count": null,
   "metadata": {},
   "outputs": [],
   "source": [
    "aismap.plot_trips(ais_tts, 'TravelTime')"
   ]
  },
  {
   "cell_type": "code",
   "execution_count": null,
   "metadata": {},
   "outputs": [],
   "source": [
    "travel_times = ais_tts.groupby('TripID')['TravelTime'].max()\n",
    "travel_times = travel_times.transform(lambda x : x.total_seconds() // 3600)\n",
    "travel_times.value_counts().sort_index().plot.bar(figsize = (25, 10))"
   ]
  },
  {
   "cell_type": "code",
   "execution_count": null,
   "metadata": {},
   "outputs": [],
   "source": [
    "travel_times[travel_times < travel_times.quantile(.75)].value_counts().sort_index().plot.bar(figsize = (25, 10))"
   ]
  },
  {
   "cell_type": "code",
   "execution_count": null,
   "metadata": {},
   "outputs": [],
   "source": [
    "# Only keep majority of shorter trips\n",
    "ais_shortmaj = ais_tts[ais_tts['TravelTime'] < ais_tts['TravelTime'].quantile(.75)]\n",
    "ais_shortmaj['TravelTime'].describe()"
   ]
  },
  {
   "cell_type": "code",
   "execution_count": null,
   "metadata": {
    "scrolled": true
   },
   "outputs": [],
   "source": [
    "#ais_shortmaj['Cur_Pos'] = list(zip(ais_shortmaj['Latitude'], ais_shortmaj['Longitude']))\n",
    "#ais_shortmaj['End_Pos'] = list(zip(ais_shortmaj['EndLatitude'], ais_shortmaj['EndLongitude']))"
   ]
  },
  {
   "cell_type": "code",
   "execution_count": null,
   "metadata": {},
   "outputs": [],
   "source": [
    "#ais_shortmaj['Distance'] =  ais_shortmaj.apply(lambda r: pandasVincenty(r), axis=1)\n",
    "#ais_shortmaj.head()"
   ]
  },
  {
   "cell_type": "code",
   "execution_count": null,
   "metadata": {},
   "outputs": [],
   "source": [
    "aismap.col_plot_to_map(size = (13, 13), longitude = ais_shortmaj['Longitude'], latitude = ais_shortmaj['Latitude'], col= ais_shortmaj['remainingMins'])"
   ]
  },
  {
   "cell_type": "code",
   "execution_count": null,
   "metadata": {},
   "outputs": [],
   "source": [
    "# Get and plot the longest trip in the data set\n",
    "longest_trip = ais_shortmaj[ais_shortmaj['TravelTime'] == ais_shortmaj['TravelTime'].max()]\n",
    "longest_trip.head()"
   ]
  },
  {
   "cell_type": "code",
   "execution_count": null,
   "metadata": {},
   "outputs": [],
   "source": [
    "aismap.col_plot_to_map(size = (13, 13), longitude = longest_trip['Longitude'], latitude = longest_trip['Latitude'], col = longest_trip['remainingMins'])\n",
    "plt.title(\"Longest Trip in the Data Set\")"
   ]
  },
  {
   "cell_type": "code",
   "execution_count": null,
   "metadata": {},
   "outputs": [],
   "source": [
    "sns.pairplot(ais_shortmaj, x_vars = ['Latitude', 'Longitude'], y_vars = 'remainingMins', size = 7)"
   ]
  },
  {
   "cell_type": "code",
   "execution_count": null,
   "metadata": {},
   "outputs": [],
   "source": [
    "from sklearn.model_selection import train_test_split\n",
    "from sklearn.linear_model import LinearRegression\n",
    "from sklearn.neighbors import KNeighborsRegressor\n",
    "from sklearn import metrics\n",
    "from sklearn.grid_search import RandomizedSearchCV\n",
    "\n",
    "import math"
   ]
  },
  {
   "cell_type": "code",
   "execution_count": null,
   "metadata": {},
   "outputs": [],
   "source": [
    "X = ais_shortmaj[['Latitude', 'Longitude']]\n",
    "y = ais_shortmaj['remainingTT']\n",
    "y = y.transform(lambda x : x.total_seconds() / 60)"
   ]
  },
  {
   "cell_type": "code",
   "execution_count": null,
   "metadata": {},
   "outputs": [],
   "source": [
    "lin = LinearRegression()\n",
    "lin.fit(X_train, y_train)\n",
    "\n",
    "lin_pred = lin.predict(X_test)\n",
    "sqrt(metrics.mean_squared_error(y_test, lin_pred))"
   ]
  },
  {
   "cell_type": "code",
   "execution_count": null,
   "metadata": {},
   "outputs": [],
   "source": [
    "knn = KNeighborsRegressor(n_neighbors = 100)\n",
    "knn.fit(X_train, y_train)"
   ]
  },
  {
   "cell_type": "code",
   "execution_count": null,
   "metadata": {},
   "outputs": [],
   "source": [
    "knn_pred = knn.predict(X_test)\n",
    "sqrt(metrics.mean_squared_error(y_test, knn_pred))"
   ]
  },
  {
   "cell_type": "code",
   "execution_count": null,
   "metadata": {},
   "outputs": [],
   "source": [
    "k_range = range(1, 30)\n",
    "scores = []\n",
    "\n",
    "for k in k_range :\n",
    "    kknn = KNeighborsRegressor(n_neighbors = k)\n",
    "    kknn.fit(X_train, y_train)\n",
    "    kknn_pred = kknn.predict(X_test)\n",
    "    scores.append(sqrt(metrics.mean_squared_error(y_test, kknn_pred)))"
   ]
  },
  {
   "cell_type": "code",
   "execution_count": null,
   "metadata": {},
   "outputs": [],
   "source": [
    "plt.figure(figsize = (15, 5))\n",
    "plt.plot(k_range, scores)"
   ]
  }
 ],
 "metadata": {
  "kernelspec": {
   "display_name": "Python 2",
   "language": "python",
   "name": "python2"
  },
  "language_info": {
   "codemirror_mode": {
    "name": "ipython",
    "version": 2
   },
   "file_extension": ".py",
   "mimetype": "text/x-python",
   "name": "python",
   "nbconvert_exporter": "python",
   "pygments_lexer": "ipython2",
   "version": "2.7.14"
  }
 },
 "nbformat": 4,
 "nbformat_minor": 2
}
