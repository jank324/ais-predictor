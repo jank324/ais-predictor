{
 "cells": [
  {
   "cell_type": "code",
   "execution_count": 1,
   "metadata": {},
   "outputs": [],
   "source": [
    "import pandas as pd\n",
    "import numpy as np\n",
    "\n",
    "import matplotlib.pyplot as plt\n",
    "% matplotlib inline\n",
    "plt.style.use('ggplot')\n",
    "\n",
    "import seaborn as sns\n",
    "\n",
    "import cartopy.crs as ccrs\n",
    "import cartopy.feature as cfeat\n",
    "import cartopy.io.img_tiles as cimgt\n",
    "\n",
    "import AISMapPlot as aismap"
   ]
  },
  {
   "cell_type": "code",
   "execution_count": 2,
   "metadata": {},
   "outputs": [],
   "source": [
    "ais_learners = []\n",
    "sectors = [0, 1, 2]\n",
    "sector_borders = [2.2, 3.20, 3.94]\n",
    "positions = pd.DataFrame([[np.nan, 2.2], [np.nan, 3.2], [np.nan, 3.94]],\n",
    "                         columns = ['Latitude', 'Longitude'])\n",
    "\n",
    "\n",
    "for s in sectors:\n",
    "    ais_learners.append(pd.read_pickle('FEL-ROT_learners_01min_s%d.pkl' % (s)))"
   ]
  },
  {
   "cell_type": "code",
   "execution_count": 3,
   "metadata": {},
   "outputs": [
    {
     "data": {
      "text/html": [
       "<div>\n",
       "<style scoped>\n",
       "    .dataframe tbody tr th:only-of-type {\n",
       "        vertical-align: middle;\n",
       "    }\n",
       "\n",
       "    .dataframe tbody tr th {\n",
       "        vertical-align: top;\n",
       "    }\n",
       "\n",
       "    .dataframe thead th {\n",
       "        text-align: right;\n",
       "    }\n",
       "</style>\n",
       "<table border=\"1\" class=\"dataframe\">\n",
       "  <thead>\n",
       "    <tr style=\"text-align: right;\">\n",
       "      <th></th>\n",
       "      <th>Latitude</th>\n",
       "      <th>Longitude</th>\n",
       "    </tr>\n",
       "  </thead>\n",
       "  <tbody>\n",
       "    <tr>\n",
       "      <th>0</th>\n",
       "      <td>NaN</td>\n",
       "      <td>2.20</td>\n",
       "    </tr>\n",
       "    <tr>\n",
       "      <th>1</th>\n",
       "      <td>NaN</td>\n",
       "      <td>3.20</td>\n",
       "    </tr>\n",
       "    <tr>\n",
       "      <th>2</th>\n",
       "      <td>NaN</td>\n",
       "      <td>3.94</td>\n",
       "    </tr>\n",
       "  </tbody>\n",
       "</table>\n",
       "</div>"
      ],
      "text/plain": [
       "   Latitude  Longitude\n",
       "0       NaN       2.20\n",
       "1       NaN       3.20\n",
       "2       NaN       3.94"
      ]
     },
     "execution_count": 3,
     "metadata": {},
     "output_type": "execute_result"
    }
   ],
   "source": [
    "positions"
   ]
  },
  {
   "cell_type": "code",
   "execution_count": 4,
   "metadata": {},
   "outputs": [],
   "source": [
    "complete= ais_learners[0]\n",
    "complete= complete.append([ais_learners[1]])\n",
    "complete= complete.append([ais_learners[2]])"
   ]
  },
  {
   "cell_type": "code",
   "execution_count": 5,
   "metadata": {},
   "outputs": [
    {
     "data": {
      "text/html": [
       "<div>\n",
       "<style scoped>\n",
       "    .dataframe tbody tr th:only-of-type {\n",
       "        vertical-align: middle;\n",
       "    }\n",
       "\n",
       "    .dataframe tbody tr th {\n",
       "        vertical-align: top;\n",
       "    }\n",
       "\n",
       "    .dataframe thead th {\n",
       "        text-align: right;\n",
       "    }\n",
       "</style>\n",
       "<table border=\"1\" class=\"dataframe\">\n",
       "  <thead>\n",
       "    <tr style=\"text-align: right;\">\n",
       "      <th></th>\n",
       "      <th>TripID</th>\n",
       "      <th>time</th>\n",
       "      <th>Length</th>\n",
       "      <th>Breadth</th>\n",
       "      <th>Draught</th>\n",
       "      <th>Latitude</th>\n",
       "      <th>Longitude</th>\n",
       "      <th>SOG</th>\n",
       "      <th>COG</th>\n",
       "      <th>TH</th>\n",
       "      <th>...</th>\n",
       "      <th>hour_of_day</th>\n",
       "      <th>weekday</th>\n",
       "      <th>day_of_month</th>\n",
       "      <th>month</th>\n",
       "      <th>sector</th>\n",
       "      <th>mins_to_sector_leave</th>\n",
       "      <th>sector_leave_lat</th>\n",
       "      <th>sector_leave_lon</th>\n",
       "      <th>sector_leave_sog</th>\n",
       "      <th>sector_leave_cog</th>\n",
       "    </tr>\n",
       "  </thead>\n",
       "  <tbody>\n",
       "    <tr>\n",
       "      <th>336698</th>\n",
       "      <td>1000064</td>\n",
       "      <td>2016-03-14 23:40:00</td>\n",
       "      <td>82.0</td>\n",
       "      <td>11.0</td>\n",
       "      <td>3.04</td>\n",
       "      <td>52.03</td>\n",
       "      <td>1.69</td>\n",
       "      <td>8.1</td>\n",
       "      <td>88.0</td>\n",
       "      <td>76.0</td>\n",
       "      <td>...</td>\n",
       "      <td>23</td>\n",
       "      <td>0</td>\n",
       "      <td>14</td>\n",
       "      <td>3</td>\n",
       "      <td>0</td>\n",
       "      <td>136.615385</td>\n",
       "      <td>52.0</td>\n",
       "      <td>2.2</td>\n",
       "      <td>9.130769</td>\n",
       "      <td>99.1</td>\n",
       "    </tr>\n",
       "    <tr>\n",
       "      <th>336699</th>\n",
       "      <td>1000064</td>\n",
       "      <td>2016-03-14 23:41:00</td>\n",
       "      <td>82.0</td>\n",
       "      <td>11.0</td>\n",
       "      <td>3.04</td>\n",
       "      <td>52.03</td>\n",
       "      <td>1.70</td>\n",
       "      <td>8.2</td>\n",
       "      <td>88.1</td>\n",
       "      <td>77.0</td>\n",
       "      <td>...</td>\n",
       "      <td>23</td>\n",
       "      <td>0</td>\n",
       "      <td>14</td>\n",
       "      <td>3</td>\n",
       "      <td>0</td>\n",
       "      <td>135.615385</td>\n",
       "      <td>52.0</td>\n",
       "      <td>2.2</td>\n",
       "      <td>9.130769</td>\n",
       "      <td>99.1</td>\n",
       "    </tr>\n",
       "    <tr>\n",
       "      <th>336700</th>\n",
       "      <td>1000064</td>\n",
       "      <td>2016-03-14 23:42:00</td>\n",
       "      <td>82.0</td>\n",
       "      <td>11.0</td>\n",
       "      <td>3.04</td>\n",
       "      <td>52.03</td>\n",
       "      <td>1.70</td>\n",
       "      <td>8.3</td>\n",
       "      <td>90.1</td>\n",
       "      <td>78.0</td>\n",
       "      <td>...</td>\n",
       "      <td>23</td>\n",
       "      <td>0</td>\n",
       "      <td>14</td>\n",
       "      <td>3</td>\n",
       "      <td>0</td>\n",
       "      <td>134.615385</td>\n",
       "      <td>52.0</td>\n",
       "      <td>2.2</td>\n",
       "      <td>9.130769</td>\n",
       "      <td>99.1</td>\n",
       "    </tr>\n",
       "    <tr>\n",
       "      <th>336701</th>\n",
       "      <td>1000064</td>\n",
       "      <td>2016-03-14 23:43:00</td>\n",
       "      <td>82.0</td>\n",
       "      <td>11.0</td>\n",
       "      <td>3.04</td>\n",
       "      <td>52.03</td>\n",
       "      <td>1.70</td>\n",
       "      <td>8.5</td>\n",
       "      <td>88.7</td>\n",
       "      <td>76.0</td>\n",
       "      <td>...</td>\n",
       "      <td>23</td>\n",
       "      <td>0</td>\n",
       "      <td>14</td>\n",
       "      <td>3</td>\n",
       "      <td>0</td>\n",
       "      <td>133.615385</td>\n",
       "      <td>52.0</td>\n",
       "      <td>2.2</td>\n",
       "      <td>9.130769</td>\n",
       "      <td>99.1</td>\n",
       "    </tr>\n",
       "    <tr>\n",
       "      <th>336533</th>\n",
       "      <td>1000064</td>\n",
       "      <td>2016-03-14 23:44:00</td>\n",
       "      <td>82.0</td>\n",
       "      <td>11.0</td>\n",
       "      <td>3.04</td>\n",
       "      <td>52.03</td>\n",
       "      <td>1.71</td>\n",
       "      <td>8.2</td>\n",
       "      <td>87.9</td>\n",
       "      <td>77.0</td>\n",
       "      <td>...</td>\n",
       "      <td>23</td>\n",
       "      <td>0</td>\n",
       "      <td>14</td>\n",
       "      <td>3</td>\n",
       "      <td>0</td>\n",
       "      <td>132.615385</td>\n",
       "      <td>52.0</td>\n",
       "      <td>2.2</td>\n",
       "      <td>9.130769</td>\n",
       "      <td>99.1</td>\n",
       "    </tr>\n",
       "  </tbody>\n",
       "</table>\n",
       "<p>5 rows × 22 columns</p>\n",
       "</div>"
      ],
      "text/plain": [
       "         TripID                time  Length  Breadth  Draught  Latitude  \\\n",
       "336698  1000064 2016-03-14 23:40:00    82.0     11.0     3.04     52.03   \n",
       "336699  1000064 2016-03-14 23:41:00    82.0     11.0     3.04     52.03   \n",
       "336700  1000064 2016-03-14 23:42:00    82.0     11.0     3.04     52.03   \n",
       "336701  1000064 2016-03-14 23:43:00    82.0     11.0     3.04     52.03   \n",
       "336533  1000064 2016-03-14 23:44:00    82.0     11.0     3.04     52.03   \n",
       "\n",
       "        Longitude  SOG   COG    TH        ...         hour_of_day  weekday  \\\n",
       "336698       1.69  8.1  88.0  76.0        ...                  23        0   \n",
       "336699       1.70  8.2  88.1  77.0        ...                  23        0   \n",
       "336700       1.70  8.3  90.1  78.0        ...                  23        0   \n",
       "336701       1.70  8.5  88.7  76.0        ...                  23        0   \n",
       "336533       1.71  8.2  87.9  77.0        ...                  23        0   \n",
       "\n",
       "        day_of_month  month  sector  mins_to_sector_leave sector_leave_lat  \\\n",
       "336698            14      3       0            136.615385             52.0   \n",
       "336699            14      3       0            135.615385             52.0   \n",
       "336700            14      3       0            134.615385             52.0   \n",
       "336701            14      3       0            133.615385             52.0   \n",
       "336533            14      3       0            132.615385             52.0   \n",
       "\n",
       "        sector_leave_lon  sector_leave_sog  sector_leave_cog  \n",
       "336698               2.2          9.130769              99.1  \n",
       "336699               2.2          9.130769              99.1  \n",
       "336700               2.2          9.130769              99.1  \n",
       "336701               2.2          9.130769              99.1  \n",
       "336533               2.2          9.130769              99.1  \n",
       "\n",
       "[5 rows x 22 columns]"
      ]
     },
     "execution_count": 5,
     "metadata": {},
     "output_type": "execute_result"
    }
   ],
   "source": [
    "ais_learners[0].head()"
   ]
  },
  {
   "cell_type": "code",
   "execution_count": 6,
   "metadata": {},
   "outputs": [],
   "source": [
    "X = []\n",
    "y = []\n",
    "for s in sectors:\n",
    "    X.append(ais_learners[s][['Latitude', 'Longitude']])\n",
    "    y.append(ais_learners[s][['sector_leave_lat', 'sector_leave_lon', 'mins_to_sector_leave']])"
   ]
  },
  {
   "cell_type": "code",
   "execution_count": 7,
   "metadata": {},
   "outputs": [],
   "source": [
    "from sklearn.model_selection import GroupKFold\n",
    "from sklearn.model_selection import cross_val_score\n",
    "\n",
    "cv_splits = []\n",
    "for s in sectors:\n",
    "    cv_splits.append(list(GroupKFold(n_splits = 10).split(X[s], y[s], groups = ais_learners[s]['TripID'])))"
   ]
  },
  {
   "cell_type": "code",
   "execution_count": 8,
   "metadata": {},
   "outputs": [],
   "source": [
    "# Retrieve ONE simple train-test split (for each sector)\n",
    "train_indices = []\n",
    "test_indices = []\n",
    "for s in sectors:\n",
    "    a, b = cv_splits[s][0]\n",
    "    train_indices.append(a)\n",
    "    test_indices.append(b)\n",
    "\n",
    "X_train = []\n",
    "X_test = []\n",
    "for s in sectors:\n",
    "    X_train.append(X[s].iloc[train_indices[s]])\n",
    "    X_test.append(X[s].iloc[test_indices[s]])\n",
    "\n",
    "y_train = []\n",
    "y_test = []\n",
    "for s in sectors:\n",
    "    y_train.append(y[s].iloc[train_indices[s]])\n",
    "    y_test.append(y[s].iloc[test_indices[s]])"
   ]
  },
  {
   "cell_type": "code",
   "execution_count": 9,
   "metadata": {},
   "outputs": [
    {
     "name": "stdout",
     "output_type": "stream",
     "text": [
      "-4.715796837346383\n",
      "-5.287873578576746\n",
      "-4.49011634773794\n"
     ]
    }
   ],
   "source": [
    "from sklearn.neighbors import KNeighborsRegressor\n",
    "\n",
    "for s in sectors:\n",
    "    knn_pos = KNeighborsRegressor(n_neighbors = 20)\n",
    "    scores = cross_val_score(knn_pos, X[s], y[s], cv = cv_splits[s], scoring = 'neg_mean_absolute_error')\n",
    "    print(scores.mean())"
   ]
  },
  {
   "cell_type": "code",
   "execution_count": 10,
   "metadata": {},
   "outputs": [],
   "source": [
    "knn_pos_list = []\n",
    "for s in sectors:\n",
    "    knn_pos = KNeighborsRegressor(n_neighbors = 20)\n",
    "    if s == 0:\n",
    "        knn_pos.fit(X_train[s], y_train[s]['sector_leave_lon'])\n",
    "    else:\n",
    "        knn_pos.fit(X_train[s], y_train[s]['sector_leave_lat'])\n",
    "    knn_pos_list.append(knn_pos)"
   ]
  },
  {
   "cell_type": "code",
   "execution_count": 11,
   "metadata": {},
   "outputs": [
    {
     "data": {
      "text/plain": [
       "array([52.01])"
      ]
     },
     "execution_count": 11,
     "metadata": {},
     "output_type": "execute_result"
    }
   ],
   "source": [
    "knn_pos_list[2].predict([[53.99, 8.17]])"
   ]
  },
  {
   "cell_type": "code",
   "execution_count": 12,
   "metadata": {},
   "outputs": [
    {
     "name": "stdout",
     "output_type": "stream",
     "text": [
      "[52.03, 52.09799999999999, 52.283500000000004, 52.010000000000005]\n",
      "[1.7, 2.2, 3.2, 3.94]\n"
     ]
    }
   ],
   "source": [
    "# 51.99 4.07\n",
    "lats = [52.03]\n",
    "lons = [1.70]\n",
    "for s in sectors:\n",
    "    if s == 0:\n",
    "        lon = sector_borders[0]\n",
    "        lat = knn_pos_list[1].predict([[lats[-1], lons[-1]]])[0]\n",
    "    else:\n",
    "        lat = knn_pos_list[s].predict([[lats[-1], lons[-1]]])[0]\n",
    "        lon = sector_borders[s]\n",
    "    lats.append(lat)\n",
    "    lons.append(lon)\n",
    "print(lats)\n",
    "print(lons)"
   ]
  },
  {
   "cell_type": "code",
   "execution_count": null,
   "metadata": {
    "scrolled": false
   },
   "outputs": [],
   "source": [
    "aismap.plot_to_map(size = (13, 13), longitude = complete['Longitude'], latitude = complete['Latitude'])"
   ]
  },
  {
   "cell_type": "code",
   "execution_count": null,
   "metadata": {},
   "outputs": [],
   "source": [
    "aismap.plot_to_map(size = (13, 13), longitude = pd.Series(lons), latitude = pd.Series(lats))"
   ]
  },
  {
   "cell_type": "code",
   "execution_count": 13,
   "metadata": {},
   "outputs": [
    {
     "name": "stdout",
     "output_type": "stream",
     "text": [
      "0 -> -14.120533\n",
      "1 -> -15.801908\n",
      "2 -> -13.466343\n"
     ]
    }
   ],
   "source": [
    "for s in sectors:\n",
    "    knn_time = KNeighborsRegressor(n_neighbors = 20)\n",
    "    scores = cross_val_score(knn_time, X[s], y[s]['mins_to_sector_leave'], cv = cv_splits[s], scoring = 'neg_mean_absolute_error')\n",
    "    print(\"%d -> %f\" % (s, scores.mean()))"
   ]
  },
  {
   "cell_type": "code",
   "execution_count": 14,
   "metadata": {},
   "outputs": [],
   "source": [
    "knn_time_list = []\n",
    "for s in sectors:\n",
    "    knn_time = KNeighborsRegressor(n_neighbors = 20)\n",
    "    knn_time.fit(X_train[s], y_train[s]['mins_to_sector_leave'])\n",
    "    knn_time_list.append(knn_time)"
   ]
  },
  {
   "cell_type": "code",
   "execution_count": 15,
   "metadata": {},
   "outputs": [
    {
     "data": {
      "text/plain": [
       "76.36090171267834"
      ]
     },
     "execution_count": 15,
     "metadata": {},
     "output_type": "execute_result"
    }
   ],
   "source": [
    "knn_time_list[0].predict([[52.03, 1.70]])[0]"
   ]
  },
  {
   "cell_type": "code",
   "execution_count": 16,
   "metadata": {},
   "outputs": [],
   "source": [
    "# Pickle KNN models\n",
    "import pickle\n",
    "\n",
    "for s in sectors:\n",
    "    pos_model = knn_pos_list[s]\n",
    "    pickle.dump(pos_model, open('../App/Agents/fel_rot_s%d/model_position.pkl' % (s), 'wb'))\n",
    "    \n",
    "    time_model = knn_time_list[s]\n",
    "    pickle.dump(time_model, open('../App/Agents/fel_rot_s%d/model_time.pkl' % (s), 'wb'))"
   ]
  },
  {
   "cell_type": "code",
   "execution_count": 20,
   "metadata": {},
   "outputs": [
    {
     "data": {
      "text/plain": [
       "76.36090171267834"
      ]
     },
     "execution_count": 20,
     "metadata": {},
     "output_type": "execute_result"
    }
   ],
   "source": [
    "test_loaded = pickle.load(open('../App/Agents/fel_rot_s%d/model_time.pkl' % (0), 'rb'))\n",
    "test_loaded.predict([[52.03, 1.7]])[0]"
   ]
  },
  {
   "cell_type": "code",
   "execution_count": 21,
   "metadata": {},
   "outputs": [
    {
     "name": "stdout",
     "output_type": "stream",
     "text": [
      "KNeighborsRegressor(algorithm='auto', leaf_size=30, metric='minkowski',\n",
      "          metric_params=None, n_jobs=1, n_neighbors=20, p=2,\n",
      "          weights='uniform')\n",
      "KNeighborsRegressor(algorithm='auto', leaf_size=30, metric='minkowski',\n",
      "          metric_params=None, n_jobs=1, n_neighbors=20, p=2,\n",
      "          weights='uniform')\n"
     ]
    }
   ],
   "source": [
    "print(knn_time_list[2])\n",
    "print(test_loaded)"
   ]
  }
 ],
 "metadata": {
  "kernelspec": {
   "display_name": "Python 3",
   "language": "python",
   "name": "python3"
  },
  "language_info": {
   "codemirror_mode": {
    "name": "ipython",
    "version": 3
   },
   "file_extension": ".py",
   "mimetype": "text/x-python",
   "name": "python",
   "nbconvert_exporter": "python",
   "pygments_lexer": "ipython3",
   "version": "3.6.5"
  }
 },
 "nbformat": 4,
 "nbformat_minor": 2
}
