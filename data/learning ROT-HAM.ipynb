{
 "cells": [
  {
   "cell_type": "code",
   "execution_count": 1,
   "metadata": {},
   "outputs": [],
   "source": [
    "import pandas as pd\n",
    "import numpy as np\n",
    "\n",
    "import matplotlib.pyplot as plt\n",
    "% matplotlib inline\n",
    "plt.style.use('ggplot')\n",
    "\n",
    "import seaborn as sns\n",
    "\n",
    "import cartopy.crs as ccrs\n",
    "import cartopy.feature as cfeat\n",
    "import cartopy.io.img_tiles as cimgt\n",
    "\n",
    "import AISMapPlot as aismap"
   ]
  },
  {
   "cell_type": "code",
   "execution_count": 118,
   "metadata": {},
   "outputs": [],
   "source": [
    "ais_learners = []\n",
    "sectors = [0, 1, 2, 3, 4, 5]\n",
    "sector_borders = [52.8, 4.8, 6.0, 7.2, 8.6, 9.81]\n",
    "positions = pd.DataFrame([[52.8, np.nan], [np.nan, 4.8], [np.nan, 6.0], [np.nan, 7.2], [np.nan, 8.6], [np.nan, 9.81]],\n",
    "                         columns = ['Latitude', 'Longitude'])\n",
    "for s in sectors:\n",
    "    ais_learners.append(pd.read_pickle('ROT-HAM_learners_60min_s%d.pkl' % (s)))"
   ]
  },
  {
   "cell_type": "code",
   "execution_count": 119,
   "metadata": {},
   "outputs": [
    {
     "data": {
      "text/html": [
       "<div>\n",
       "<style scoped>\n",
       "    .dataframe tbody tr th:only-of-type {\n",
       "        vertical-align: middle;\n",
       "    }\n",
       "\n",
       "    .dataframe tbody tr th {\n",
       "        vertical-align: top;\n",
       "    }\n",
       "\n",
       "    .dataframe thead th {\n",
       "        text-align: right;\n",
       "    }\n",
       "</style>\n",
       "<table border=\"1\" class=\"dataframe\">\n",
       "  <thead>\n",
       "    <tr style=\"text-align: right;\">\n",
       "      <th></th>\n",
       "      <th>Latitude</th>\n",
       "      <th>Longitude</th>\n",
       "    </tr>\n",
       "  </thead>\n",
       "  <tbody>\n",
       "    <tr>\n",
       "      <th>0</th>\n",
       "      <td>52.8</td>\n",
       "      <td>NaN</td>\n",
       "    </tr>\n",
       "    <tr>\n",
       "      <th>1</th>\n",
       "      <td>NaN</td>\n",
       "      <td>4.80</td>\n",
       "    </tr>\n",
       "    <tr>\n",
       "      <th>2</th>\n",
       "      <td>NaN</td>\n",
       "      <td>6.00</td>\n",
       "    </tr>\n",
       "    <tr>\n",
       "      <th>3</th>\n",
       "      <td>NaN</td>\n",
       "      <td>7.20</td>\n",
       "    </tr>\n",
       "    <tr>\n",
       "      <th>4</th>\n",
       "      <td>NaN</td>\n",
       "      <td>8.60</td>\n",
       "    </tr>\n",
       "    <tr>\n",
       "      <th>5</th>\n",
       "      <td>NaN</td>\n",
       "      <td>9.81</td>\n",
       "    </tr>\n",
       "  </tbody>\n",
       "</table>\n",
       "</div>"
      ],
      "text/plain": [
       "   Latitude  Longitude\n",
       "0      52.8        NaN\n",
       "1       NaN       4.80\n",
       "2       NaN       6.00\n",
       "3       NaN       7.20\n",
       "4       NaN       8.60\n",
       "5       NaN       9.81"
      ]
     },
     "execution_count": 119,
     "metadata": {},
     "output_type": "execute_result"
    }
   ],
   "source": [
    "positions"
   ]
  },
  {
   "cell_type": "code",
   "execution_count": 14,
   "metadata": {},
   "outputs": [
    {
     "data": {
      "text/html": [
       "<div>\n",
       "<style scoped>\n",
       "    .dataframe tbody tr th:only-of-type {\n",
       "        vertical-align: middle;\n",
       "    }\n",
       "\n",
       "    .dataframe tbody tr th {\n",
       "        vertical-align: top;\n",
       "    }\n",
       "\n",
       "    .dataframe thead th {\n",
       "        text-align: right;\n",
       "    }\n",
       "</style>\n",
       "<table border=\"1\" class=\"dataframe\">\n",
       "  <thead>\n",
       "    <tr style=\"text-align: right;\">\n",
       "      <th></th>\n",
       "      <th>TripID</th>\n",
       "      <th>time</th>\n",
       "      <th>Length</th>\n",
       "      <th>Breadth</th>\n",
       "      <th>Draught</th>\n",
       "      <th>Latitude</th>\n",
       "      <th>Longitude</th>\n",
       "      <th>SOG</th>\n",
       "      <th>COG</th>\n",
       "      <th>TH</th>\n",
       "      <th>...</th>\n",
       "      <th>hour_of_day</th>\n",
       "      <th>weekday</th>\n",
       "      <th>day_of_month</th>\n",
       "      <th>month</th>\n",
       "      <th>sector</th>\n",
       "      <th>mins_to_sector_leave</th>\n",
       "      <th>sector_leave_lat</th>\n",
       "      <th>sector_leave_lon</th>\n",
       "      <th>sector_leave_sog</th>\n",
       "      <th>sector_leave_cog</th>\n",
       "    </tr>\n",
       "  </thead>\n",
       "  <tbody>\n",
       "    <tr>\n",
       "      <th>0</th>\n",
       "      <td>1000226</td>\n",
       "      <td>2016-06-15 14:00:00</td>\n",
       "      <td>369.0</td>\n",
       "      <td>51.0</td>\n",
       "      <td>13.8</td>\n",
       "      <td>51.970000</td>\n",
       "      <td>4.033333</td>\n",
       "      <td>5.200000</td>\n",
       "      <td>112.633333</td>\n",
       "      <td>112.000000</td>\n",
       "      <td>...</td>\n",
       "      <td>14.0</td>\n",
       "      <td>2.0</td>\n",
       "      <td>15.0</td>\n",
       "      <td>6.0</td>\n",
       "      <td>0</td>\n",
       "      <td>300.000000</td>\n",
       "      <td>52.8</td>\n",
       "      <td>4.2</td>\n",
       "      <td>12.8</td>\n",
       "      <td>34.3</td>\n",
       "    </tr>\n",
       "    <tr>\n",
       "      <th>1</th>\n",
       "      <td>1000226</td>\n",
       "      <td>2016-06-15 15:00:00</td>\n",
       "      <td>369.0</td>\n",
       "      <td>51.0</td>\n",
       "      <td>13.8</td>\n",
       "      <td>51.973830</td>\n",
       "      <td>4.046596</td>\n",
       "      <td>9.325532</td>\n",
       "      <td>196.780851</td>\n",
       "      <td>196.914894</td>\n",
       "      <td>...</td>\n",
       "      <td>15.0</td>\n",
       "      <td>2.0</td>\n",
       "      <td>15.0</td>\n",
       "      <td>6.0</td>\n",
       "      <td>0</td>\n",
       "      <td>274.595745</td>\n",
       "      <td>52.8</td>\n",
       "      <td>4.2</td>\n",
       "      <td>12.8</td>\n",
       "      <td>34.3</td>\n",
       "    </tr>\n",
       "    <tr>\n",
       "      <th>2</th>\n",
       "      <td>1000226</td>\n",
       "      <td>2016-06-15 16:00:00</td>\n",
       "      <td>369.0</td>\n",
       "      <td>51.0</td>\n",
       "      <td>13.8</td>\n",
       "      <td>52.134250</td>\n",
       "      <td>3.888500</td>\n",
       "      <td>12.945000</td>\n",
       "      <td>256.532500</td>\n",
       "      <td>345.275000</td>\n",
       "      <td>...</td>\n",
       "      <td>16.0</td>\n",
       "      <td>2.0</td>\n",
       "      <td>15.0</td>\n",
       "      <td>6.0</td>\n",
       "      <td>0</td>\n",
       "      <td>202.650000</td>\n",
       "      <td>52.8</td>\n",
       "      <td>4.2</td>\n",
       "      <td>12.8</td>\n",
       "      <td>34.3</td>\n",
       "    </tr>\n",
       "    <tr>\n",
       "      <th>3</th>\n",
       "      <td>1000226</td>\n",
       "      <td>2016-06-15 17:00:00</td>\n",
       "      <td>369.0</td>\n",
       "      <td>51.0</td>\n",
       "      <td>13.8</td>\n",
       "      <td>52.328793</td>\n",
       "      <td>3.868621</td>\n",
       "      <td>13.075862</td>\n",
       "      <td>153.406897</td>\n",
       "      <td>152.448276</td>\n",
       "      <td>...</td>\n",
       "      <td>17.0</td>\n",
       "      <td>2.0</td>\n",
       "      <td>15.0</td>\n",
       "      <td>6.0</td>\n",
       "      <td>0</td>\n",
       "      <td>149.017241</td>\n",
       "      <td>52.8</td>\n",
       "      <td>4.2</td>\n",
       "      <td>12.8</td>\n",
       "      <td>34.3</td>\n",
       "    </tr>\n",
       "    <tr>\n",
       "      <th>4</th>\n",
       "      <td>1000226</td>\n",
       "      <td>2016-06-15 18:00:00</td>\n",
       "      <td>369.0</td>\n",
       "      <td>51.0</td>\n",
       "      <td>13.8</td>\n",
       "      <td>52.530930</td>\n",
       "      <td>3.936512</td>\n",
       "      <td>12.574419</td>\n",
       "      <td>24.613953</td>\n",
       "      <td>23.418605</td>\n",
       "      <td>...</td>\n",
       "      <td>18.0</td>\n",
       "      <td>2.0</td>\n",
       "      <td>15.0</td>\n",
       "      <td>6.0</td>\n",
       "      <td>0</td>\n",
       "      <td>90.046512</td>\n",
       "      <td>52.8</td>\n",
       "      <td>4.2</td>\n",
       "      <td>12.8</td>\n",
       "      <td>34.3</td>\n",
       "    </tr>\n",
       "  </tbody>\n",
       "</table>\n",
       "<p>5 rows × 22 columns</p>\n",
       "</div>"
      ],
      "text/plain": [
       "    TripID                time  Length  Breadth  Draught   Latitude  \\\n",
       "0  1000226 2016-06-15 14:00:00   369.0     51.0     13.8  51.970000   \n",
       "1  1000226 2016-06-15 15:00:00   369.0     51.0     13.8  51.973830   \n",
       "2  1000226 2016-06-15 16:00:00   369.0     51.0     13.8  52.134250   \n",
       "3  1000226 2016-06-15 17:00:00   369.0     51.0     13.8  52.328793   \n",
       "4  1000226 2016-06-15 18:00:00   369.0     51.0     13.8  52.530930   \n",
       "\n",
       "   Longitude        SOG         COG          TH        ...         \\\n",
       "0   4.033333   5.200000  112.633333  112.000000        ...          \n",
       "1   4.046596   9.325532  196.780851  196.914894        ...          \n",
       "2   3.888500  12.945000  256.532500  345.275000        ...          \n",
       "3   3.868621  13.075862  153.406897  152.448276        ...          \n",
       "4   3.936512  12.574419   24.613953   23.418605        ...          \n",
       "\n",
       "   hour_of_day  weekday  day_of_month  month  sector  mins_to_sector_leave  \\\n",
       "0         14.0      2.0          15.0    6.0       0            300.000000   \n",
       "1         15.0      2.0          15.0    6.0       0            274.595745   \n",
       "2         16.0      2.0          15.0    6.0       0            202.650000   \n",
       "3         17.0      2.0          15.0    6.0       0            149.017241   \n",
       "4         18.0      2.0          15.0    6.0       0             90.046512   \n",
       "\n",
       "  sector_leave_lat  sector_leave_lon  sector_leave_sog  sector_leave_cog  \n",
       "0             52.8               4.2              12.8              34.3  \n",
       "1             52.8               4.2              12.8              34.3  \n",
       "2             52.8               4.2              12.8              34.3  \n",
       "3             52.8               4.2              12.8              34.3  \n",
       "4             52.8               4.2              12.8              34.3  \n",
       "\n",
       "[5 rows x 22 columns]"
      ]
     },
     "execution_count": 14,
     "metadata": {},
     "output_type": "execute_result"
    }
   ],
   "source": [
    "ais_learners[0].head()"
   ]
  },
  {
   "cell_type": "code",
   "execution_count": 18,
   "metadata": {},
   "outputs": [],
   "source": [
    "X = []\n",
    "y = []\n",
    "for s in sectors:\n",
    "    X.append(ais_learners[s][['Latitude', 'Longitude']])\n",
    "    y.append(ais_learners[s][['sector_leave_lat', 'sector_leave_lon']])"
   ]
  },
  {
   "cell_type": "code",
   "execution_count": 72,
   "metadata": {},
   "outputs": [],
   "source": [
    "from sklearn.model_selection import GroupKFold\n",
    "from sklearn.model_selection import cross_val_score\n",
    "\n",
    "cv_splits = []\n",
    "for s in sectors:\n",
    "    cv_splits.append(list(GroupKFold(n_splits = 10).split(X[s], y[s], groups = ais_learners[s]['TripID'])))"
   ]
  },
  {
   "cell_type": "code",
   "execution_count": 73,
   "metadata": {},
   "outputs": [],
   "source": [
    "# Retrieve ONE simple train-test split (for each sector)\n",
    "train_indices = []\n",
    "test_indices = []\n",
    "for s in sectors:\n",
    "    a, b = cv_splits[s][0]\n",
    "    train_indices.append(a)\n",
    "    test_indices.append(b)\n",
    "\n",
    "X_train = []\n",
    "X_test = []\n",
    "for s in sectors:\n",
    "    X_train.append(X[s].iloc[train_indices[s]])\n",
    "    X_test.append(X[s].iloc[test_indices[s]])\n",
    "\n",
    "y_train = []\n",
    "y_test = []\n",
    "for s in sectors:\n",
    "    y_train.append(y[s].iloc[train_indices[s]])\n",
    "    y_test.append(y[s].iloc[test_indices[s]])"
   ]
  },
  {
   "cell_type": "code",
   "execution_count": 142,
   "metadata": {},
   "outputs": [
    {
     "name": "stdout",
     "output_type": "stream",
     "text": [
      "-0.027936073866\n",
      "-0.0625291246014\n",
      "-0.0604321599653\n",
      "-0.0621845699807\n",
      "-0.0660336235813\n",
      "-0.024646963837\n"
     ]
    }
   ],
   "source": [
    "from sklearn.neighbors import KNeighborsRegressor\n",
    "\n",
    "for s in sectors:\n",
    "    knn = LinearRegression()\n",
    "    scores = cross_val_score(lin, X[s], y[s], cv = cv_splits[s], scoring = 'neg_mean_absolute_error')\n",
    "    print(scores.mean())"
   ]
  },
  {
   "cell_type": "code",
   "execution_count": 137,
   "metadata": {},
   "outputs": [],
   "source": [
    "knn_list = []\n",
    "for s in sectors:\n",
    "    knn = KNeighborsRegressor(n_neighbors = 20)\n",
    "    if s == 0:\n",
    "        knn.fit(X_train[s], y_train[s]['sector_leave_lon'])\n",
    "    else:\n",
    "        knn.fit(X_train[s], y_train[s]['sector_leave_lat'])\n",
    "    knn_list.append(knn)"
   ]
  },
  {
   "cell_type": "code",
   "execution_count": 138,
   "metadata": {},
   "outputs": [
    {
     "data": {
      "text/plain": [
       "array([ 53.9505])"
      ]
     },
     "execution_count": 138,
     "metadata": {},
     "output_type": "execute_result"
    }
   ],
   "source": [
    "knn_list[4].predict([[53.99, 8.17]])"
   ]
  },
  {
   "cell_type": "code",
   "execution_count": 139,
   "metadata": {},
   "outputs": [
    {
     "name": "stdout",
     "output_type": "stream",
     "text": [
      "52.8\n",
      "[51.99, 52.8, 53.603164062177214, 53.781447257820048, 53.907666987025792, 53.739298399687797, 53.550500000000035]\n",
      "[4.07, 4.2888290755752072, 4.8, 6.0, 7.2, 8.6, 9.81]\n"
     ]
    }
   ],
   "source": [
    "# 51.99 4.07\n",
    "lats = [51.99]\n",
    "lons = [4.07]\n",
    "for s in sectors:\n",
    "    if s == 0:\n",
    "        print(sector_borders[0])\n",
    "        lat = sector_borders[0]\n",
    "        lon = knn_list[0].predict([pred_pos[-1]])[0]\n",
    "    else:\n",
    "        lat = knn_list[s].predict([pred_pos[-1]])[0]\n",
    "        lon = sector_borders[s]\n",
    "    lats.append(lat)\n",
    "    lons.append(lon)\n",
    "print(lats)\n",
    "print(lons)"
   ]
  },
  {
   "cell_type": "code",
   "execution_count": 140,
   "metadata": {},
   "outputs": [
    {
     "data": {
      "image/png": "[encoded data removed]",
      "text/plain": [
       "<matplotlib.figure.Figure at 0x1a14cc99d0>"
      ]
     },
     "metadata": {},
     "output_type": "display_data"
    }
   ],
   "source": [
    "aismap.plot_to_map(size = (13, 13), longitude = pd.Series(lons), latitude = pd.Series(lats))"
   ]
  }
 ],
 "metadata": {
  "kernelspec": {
   "display_name": "Python 2",
   "language": "python",
   "name": "python2"
  },
  "language_info": {
   "codemirror_mode": {
    "name": "ipython",
    "version": 2
   },
   "file_extension": ".py",
   "mimetype": "text/x-python",
   "name": "python",
   "nbconvert_exporter": "python",
   "pygments_lexer": "ipython2",
   "version": "2.7.14"
  }
 },
 "nbformat": 4,
 "nbformat_minor": 2
}
