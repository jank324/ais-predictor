{
 "cells": [
  {
   "cell_type": "code",
   "execution_count": 1,
   "metadata": {},
   "outputs": [],
   "source": [
    "import pandas as pd\n",
    "import numpy as np\n",
    "\n",
    "import matplotlib.pyplot as plt\n",
    "% matplotlib inline\n",
    "plt.style.use('ggplot')\n",
    "\n",
    "import seaborn as sns\n",
    "\n",
    "import cartopy.crs as ccrs\n",
    "import cartopy.feature as cfeat\n",
    "import cartopy.io.img_tiles as cimgt\n",
    "\n",
    "import AISMapPlot as aismap"
   ]
  },
  {
   "cell_type": "code",
   "execution_count": 175,
   "metadata": {},
   "outputs": [],
   "source": [
    "ais_learners = []\n",
    "sectors = [0, 1, 2, 3, 4, 5]\n",
    "sector_borders = [52.8, 4.8, 6.0, 7.2, 8.6, 9.81]\n",
    "positions = pd.DataFrame([[52.8, np.nan], [np.nan, 4.8], [np.nan, 6.0], [np.nan, 7.2], [np.nan, 8.6], [np.nan, 9.81]],\n",
    "                         columns = ['Latitude', 'Longitude'])\n",
    "for s in sectors:\n",
    "    ais_learners.append(pd.read_pickle('ROT-HAM_learners_01min_s%d.pkl' % (s)))"
   ]
  },
  {
   "cell_type": "code",
   "execution_count": 176,
   "metadata": {},
   "outputs": [
    {
     "data": {
      "text/html": [
       "<div>\n",
       "<style scoped>\n",
       "    .dataframe tbody tr th:only-of-type {\n",
       "        vertical-align: middle;\n",
       "    }\n",
       "\n",
       "    .dataframe tbody tr th {\n",
       "        vertical-align: top;\n",
       "    }\n",
       "\n",
       "    .dataframe thead th {\n",
       "        text-align: right;\n",
       "    }\n",
       "</style>\n",
       "<table border=\"1\" class=\"dataframe\">\n",
       "  <thead>\n",
       "    <tr style=\"text-align: right;\">\n",
       "      <th></th>\n",
       "      <th>Latitude</th>\n",
       "      <th>Longitude</th>\n",
       "    </tr>\n",
       "  </thead>\n",
       "  <tbody>\n",
       "    <tr>\n",
       "      <th>0</th>\n",
       "      <td>52.8</td>\n",
       "      <td>NaN</td>\n",
       "    </tr>\n",
       "    <tr>\n",
       "      <th>1</th>\n",
       "      <td>NaN</td>\n",
       "      <td>4.80</td>\n",
       "    </tr>\n",
       "    <tr>\n",
       "      <th>2</th>\n",
       "      <td>NaN</td>\n",
       "      <td>6.00</td>\n",
       "    </tr>\n",
       "    <tr>\n",
       "      <th>3</th>\n",
       "      <td>NaN</td>\n",
       "      <td>7.20</td>\n",
       "    </tr>\n",
       "    <tr>\n",
       "      <th>4</th>\n",
       "      <td>NaN</td>\n",
       "      <td>8.60</td>\n",
       "    </tr>\n",
       "    <tr>\n",
       "      <th>5</th>\n",
       "      <td>NaN</td>\n",
       "      <td>9.81</td>\n",
       "    </tr>\n",
       "  </tbody>\n",
       "</table>\n",
       "</div>"
      ],
      "text/plain": [
       "   Latitude  Longitude\n",
       "0      52.8        NaN\n",
       "1       NaN       4.80\n",
       "2       NaN       6.00\n",
       "3       NaN       7.20\n",
       "4       NaN       8.60\n",
       "5       NaN       9.81"
      ]
     },
     "execution_count": 176,
     "metadata": {},
     "output_type": "execute_result"
    }
   ],
   "source": [
    "positions"
   ]
  },
  {
   "cell_type": "code",
   "execution_count": 177,
   "metadata": {},
   "outputs": [
    {
     "data": {
      "text/html": [
       "<div>\n",
       "<style scoped>\n",
       "    .dataframe tbody tr th:only-of-type {\n",
       "        vertical-align: middle;\n",
       "    }\n",
       "\n",
       "    .dataframe tbody tr th {\n",
       "        vertical-align: top;\n",
       "    }\n",
       "\n",
       "    .dataframe thead th {\n",
       "        text-align: right;\n",
       "    }\n",
       "</style>\n",
       "<table border=\"1\" class=\"dataframe\">\n",
       "  <thead>\n",
       "    <tr style=\"text-align: right;\">\n",
       "      <th></th>\n",
       "      <th>TripID</th>\n",
       "      <th>time</th>\n",
       "      <th>Length</th>\n",
       "      <th>Breadth</th>\n",
       "      <th>Draught</th>\n",
       "      <th>Latitude</th>\n",
       "      <th>Longitude</th>\n",
       "      <th>SOG</th>\n",
       "      <th>COG</th>\n",
       "      <th>TH</th>\n",
       "      <th>...</th>\n",
       "      <th>hour_of_day</th>\n",
       "      <th>weekday</th>\n",
       "      <th>day_of_month</th>\n",
       "      <th>month</th>\n",
       "      <th>sector</th>\n",
       "      <th>mins_to_sector_leave</th>\n",
       "      <th>sector_leave_lat</th>\n",
       "      <th>sector_leave_lon</th>\n",
       "      <th>sector_leave_sog</th>\n",
       "      <th>sector_leave_cog</th>\n",
       "    </tr>\n",
       "  </thead>\n",
       "  <tbody>\n",
       "    <tr>\n",
       "      <th>834543</th>\n",
       "      <td>1000226</td>\n",
       "      <td>2016-06-15 14:57:00</td>\n",
       "      <td>369.0</td>\n",
       "      <td>51.0</td>\n",
       "      <td>13.8</td>\n",
       "      <td>51.97</td>\n",
       "      <td>4.03</td>\n",
       "      <td>5.4</td>\n",
       "      <td>112.3</td>\n",
       "      <td>112.0</td>\n",
       "      <td>...</td>\n",
       "      <td>14</td>\n",
       "      <td>2</td>\n",
       "      <td>15</td>\n",
       "      <td>6</td>\n",
       "      <td>0</td>\n",
       "      <td>301.0</td>\n",
       "      <td>52.8</td>\n",
       "      <td>4.2</td>\n",
       "      <td>12.8</td>\n",
       "      <td>34.3</td>\n",
       "    </tr>\n",
       "    <tr>\n",
       "      <th>834550</th>\n",
       "      <td>1000226</td>\n",
       "      <td>2016-06-15 14:58:00</td>\n",
       "      <td>369.0</td>\n",
       "      <td>51.0</td>\n",
       "      <td>13.8</td>\n",
       "      <td>51.97</td>\n",
       "      <td>4.03</td>\n",
       "      <td>5.2</td>\n",
       "      <td>112.4</td>\n",
       "      <td>112.0</td>\n",
       "      <td>...</td>\n",
       "      <td>14</td>\n",
       "      <td>2</td>\n",
       "      <td>15</td>\n",
       "      <td>6</td>\n",
       "      <td>0</td>\n",
       "      <td>300.0</td>\n",
       "      <td>52.8</td>\n",
       "      <td>4.2</td>\n",
       "      <td>12.8</td>\n",
       "      <td>34.3</td>\n",
       "    </tr>\n",
       "    <tr>\n",
       "      <th>834566</th>\n",
       "      <td>1000226</td>\n",
       "      <td>2016-06-15 14:59:00</td>\n",
       "      <td>369.0</td>\n",
       "      <td>51.0</td>\n",
       "      <td>13.8</td>\n",
       "      <td>51.97</td>\n",
       "      <td>4.04</td>\n",
       "      <td>5.0</td>\n",
       "      <td>113.2</td>\n",
       "      <td>112.0</td>\n",
       "      <td>...</td>\n",
       "      <td>14</td>\n",
       "      <td>2</td>\n",
       "      <td>15</td>\n",
       "      <td>6</td>\n",
       "      <td>0</td>\n",
       "      <td>299.0</td>\n",
       "      <td>52.8</td>\n",
       "      <td>4.2</td>\n",
       "      <td>12.8</td>\n",
       "      <td>34.3</td>\n",
       "    </tr>\n",
       "    <tr>\n",
       "      <th>834343</th>\n",
       "      <td>1000226</td>\n",
       "      <td>2016-06-15 15:00:00</td>\n",
       "      <td>369.0</td>\n",
       "      <td>51.0</td>\n",
       "      <td>13.8</td>\n",
       "      <td>51.96</td>\n",
       "      <td>4.04</td>\n",
       "      <td>4.8</td>\n",
       "      <td>112.8</td>\n",
       "      <td>112.0</td>\n",
       "      <td>...</td>\n",
       "      <td>15</td>\n",
       "      <td>2</td>\n",
       "      <td>15</td>\n",
       "      <td>6</td>\n",
       "      <td>0</td>\n",
       "      <td>298.0</td>\n",
       "      <td>52.8</td>\n",
       "      <td>4.2</td>\n",
       "      <td>12.8</td>\n",
       "      <td>34.3</td>\n",
       "    </tr>\n",
       "    <tr>\n",
       "      <th>834348</th>\n",
       "      <td>1000226</td>\n",
       "      <td>2016-06-15 15:01:00</td>\n",
       "      <td>369.0</td>\n",
       "      <td>51.0</td>\n",
       "      <td>13.8</td>\n",
       "      <td>51.96</td>\n",
       "      <td>4.04</td>\n",
       "      <td>4.8</td>\n",
       "      <td>111.2</td>\n",
       "      <td>111.0</td>\n",
       "      <td>...</td>\n",
       "      <td>15</td>\n",
       "      <td>2</td>\n",
       "      <td>15</td>\n",
       "      <td>6</td>\n",
       "      <td>0</td>\n",
       "      <td>297.0</td>\n",
       "      <td>52.8</td>\n",
       "      <td>4.2</td>\n",
       "      <td>12.8</td>\n",
       "      <td>34.3</td>\n",
       "    </tr>\n",
       "  </tbody>\n",
       "</table>\n",
       "<p>5 rows × 22 columns</p>\n",
       "</div>"
      ],
      "text/plain": [
       "         TripID                time  Length  Breadth  Draught  Latitude  \\\n",
       "834543  1000226 2016-06-15 14:57:00   369.0     51.0     13.8     51.97   \n",
       "834550  1000226 2016-06-15 14:58:00   369.0     51.0     13.8     51.97   \n",
       "834566  1000226 2016-06-15 14:59:00   369.0     51.0     13.8     51.97   \n",
       "834343  1000226 2016-06-15 15:00:00   369.0     51.0     13.8     51.96   \n",
       "834348  1000226 2016-06-15 15:01:00   369.0     51.0     13.8     51.96   \n",
       "\n",
       "        Longitude  SOG    COG     TH        ...         hour_of_day  weekday  \\\n",
       "834543       4.03  5.4  112.3  112.0        ...                  14        2   \n",
       "834550       4.03  5.2  112.4  112.0        ...                  14        2   \n",
       "834566       4.04  5.0  113.2  112.0        ...                  14        2   \n",
       "834343       4.04  4.8  112.8  112.0        ...                  15        2   \n",
       "834348       4.04  4.8  111.2  111.0        ...                  15        2   \n",
       "\n",
       "        day_of_month  month  sector  mins_to_sector_leave sector_leave_lat  \\\n",
       "834543            15      6       0                 301.0             52.8   \n",
       "834550            15      6       0                 300.0             52.8   \n",
       "834566            15      6       0                 299.0             52.8   \n",
       "834343            15      6       0                 298.0             52.8   \n",
       "834348            15      6       0                 297.0             52.8   \n",
       "\n",
       "        sector_leave_lon  sector_leave_sog  sector_leave_cog  \n",
       "834543               4.2              12.8              34.3  \n",
       "834550               4.2              12.8              34.3  \n",
       "834566               4.2              12.8              34.3  \n",
       "834343               4.2              12.8              34.3  \n",
       "834348               4.2              12.8              34.3  \n",
       "\n",
       "[5 rows x 22 columns]"
      ]
     },
     "execution_count": 177,
     "metadata": {},
     "output_type": "execute_result"
    }
   ],
   "source": [
    "ais_learners[0].head()"
   ]
  },
  {
   "cell_type": "code",
   "execution_count": 178,
   "metadata": {},
   "outputs": [],
   "source": [
    "X = []\n",
    "y = []\n",
    "for s in sectors:\n",
    "    X.append(ais_learners[s][['Latitude', 'Longitude']])\n",
    "    y.append(ais_learners[s][['sector_leave_lat', 'sector_leave_lon']])"
   ]
  },
  {
   "cell_type": "code",
   "execution_count": 179,
   "metadata": {},
   "outputs": [],
   "source": [
    "from sklearn.model_selection import GroupKFold\n",
    "from sklearn.model_selection import cross_val_score\n",
    "\n",
    "cv_splits = []\n",
    "for s in sectors:\n",
    "    cv_splits.append(list(GroupKFold(n_splits = 10).split(X[s], y[s], groups = ais_learners[s]['TripID'])))"
   ]
  },
  {
   "cell_type": "code",
   "execution_count": 180,
   "metadata": {},
   "outputs": [],
   "source": [
    "# Retrieve ONE simple train-test split (for each sector)\n",
    "train_indices = []\n",
    "test_indices = []\n",
    "for s in sectors:\n",
    "    a, b = cv_splits[s][0]\n",
    "    train_indices.append(a)\n",
    "    test_indices.append(b)\n",
    "\n",
    "X_train = []\n",
    "X_test = []\n",
    "for s in sectors:\n",
    "    X_train.append(X[s].iloc[train_indices[s]])\n",
    "    X_test.append(X[s].iloc[test_indices[s]])\n",
    "\n",
    "y_train = []\n",
    "y_test = []\n",
    "for s in sectors:\n",
    "    y_train.append(y[s].iloc[train_indices[s]])\n",
    "    y_test.append(y[s].iloc[test_indices[s]])"
   ]
  },
  {
   "cell_type": "code",
   "execution_count": 185,
   "metadata": {},
   "outputs": [
    {
     "name": "stdout",
     "output_type": "stream",
     "text": [
      "-0.00836288405068\n",
      "-0.0108923084683\n",
      "-0.0028481448874\n",
      "-0.00309822686807\n",
      "-0.000395682651763\n",
      "-3.5634156515e-05\n"
     ]
    }
   ],
   "source": [
    "from sklearn.neighbors import KNeighborsRegressor\n",
    "\n",
    "for s in sectors:\n",
    "    knn_pos = KNeighborsRegressor(n_neighbors = 20)\n",
    "    scores = cross_val_score(knn_pos, X[s], y[s], cv = cv_splits[s], scoring = 'neg_mean_absolute_error')\n",
    "    print(scores.mean())"
   ]
  },
  {
   "cell_type": "code",
   "execution_count": 181,
   "metadata": {},
   "outputs": [],
   "source": [
    "knn_pos_list = []\n",
    "for s in sectors:\n",
    "    knn_pos = KNeighborsRegressor(n_neighbors = 20)\n",
    "    if s == 0:\n",
    "        knn_pos.fit(X_train[s], y_train[s]['sector_leave_lon'])\n",
    "    else:\n",
    "        knn_pos.fit(X_train[s], y_train[s]['sector_leave_lat'])\n",
    "    knn_pos_list.append(knn_pos)"
   ]
  },
  {
   "cell_type": "code",
   "execution_count": 182,
   "metadata": {},
   "outputs": [
    {
     "data": {
      "text/plain": [
       "array([ 53.9505])"
      ]
     },
     "execution_count": 182,
     "metadata": {},
     "output_type": "execute_result"
    }
   ],
   "source": [
    "knn_pos_list[4].predict([[53.99, 8.17]])"
   ]
  },
  {
   "cell_type": "code",
   "execution_count": 186,
   "metadata": {},
   "outputs": [
    {
     "name": "stdout",
     "output_type": "stream",
     "text": [
      "52.8\n",
      "[51.99, 52.8, 53.442499999999995, 53.681999999999995, 53.863, 53.95000000000001, 53.54999999999999]\n",
      "[4.07, 4.1850000000000005, 4.8, 6.0, 7.2, 8.6, 9.81]\n"
     ]
    }
   ],
   "source": [
    "# 51.99 4.07\n",
    "lats = [51.99]\n",
    "lons = [4.07]\n",
    "for s in sectors:\n",
    "    if s == 0:\n",
    "        print(sector_borders[0])\n",
    "        lat = sector_borders[0]\n",
    "        lon = knn_pos_list[0].predict([[lats[-1], lons[-1]]])[0]\n",
    "    else:\n",
    "        lat = knn_pos_list[s].predict([[lats[-1], lons[-1]]])[0]\n",
    "        lon = sector_borders[s]\n",
    "    lats.append(lat)\n",
    "    lons.append(lon)\n",
    "print(lats)\n",
    "print(lons)"
   ]
  },
  {
   "cell_type": "code",
   "execution_count": 187,
   "metadata": {},
   "outputs": [
    {
     "data": {
      "image/png": "[encoded data removed]",
      "text/plain": [
       "<matplotlib.figure.Figure at 0x1a14398690>"
      ]
     },
     "metadata": {},
     "output_type": "display_data"
    }
   ],
   "source": [
    "aismap.plot_to_map(size = (13, 13), longitude = pd.Series(lons), latitude = pd.Series(lats))"
   ]
  },
  {
   "cell_type": "code",
   "execution_count": null,
   "metadata": {},
   "outputs": [],
   "source": [
    "for s in sectors:\n",
    "    knn_t = KNeighborsRegressor(n_neighbors = 20)\n",
    "    scores = cross_val_score(knn_t, X[s], y[s], cv = cv_splits[s], scoring = 'neg_mean_absolute_error')\n",
    "    print(scores.mean())"
   ]
  }
 ],
 "metadata": {
  "kernelspec": {
   "display_name": "Python 2",
   "language": "python",
   "name": "python2"
  },
  "language_info": {
   "codemirror_mode": {
    "name": "ipython",
    "version": 2
   },
   "file_extension": ".py",
   "mimetype": "text/x-python",
   "name": "python",
   "nbconvert_exporter": "python",
   "pygments_lexer": "ipython2",
   "version": "2.7.14"
  }
 },
 "nbformat": 4,
 "nbformat_minor": 2
}
