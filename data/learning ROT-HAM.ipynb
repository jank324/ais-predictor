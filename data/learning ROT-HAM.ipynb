{
 "cells": [
  {
   "cell_type": "code",
   "execution_count": 2,
   "metadata": {},
   "outputs": [],
   "source": [
    "import pandas as pd\n",
    "import numpy as np\n",
    "\n",
    "import matplotlib.pyplot as plt\n",
    "% matplotlib inline\n",
    "plt.style.use('ggplot')\n",
    "\n",
    "import seaborn as sns\n",
    "\n",
    "import cartopy.crs as ccrs\n",
    "import cartopy.feature as cfeat\n",
    "import cartopy.io.img_tiles as cimgt\n",
    "from sklearn.neighbors import KNeighborsRegressor\n",
    "import AISMapPlot as aismap"
   ]
  },
  {
   "cell_type": "code",
   "execution_count": 3,
   "metadata": {},
   "outputs": [],
   "source": [
    "ais_learners = []\n",
    "sectors = [0, 1, 2, 3, 4, 5]\n",
    "sector_borders = [52.8, 4.8, 6.0, 7.2, 8.6, 9.81]\n",
    "positions = pd.DataFrame([[52.8, np.nan], [np.nan, 4.8], [np.nan, 6.0], [np.nan, 7.2], [np.nan, 8.6], [np.nan, 9.81]],\n",
    "                         columns = ['Latitude', 'Longitude'])\n",
    "for s in sectors:\n",
    "    ais_learners.append(pd.read_pickle('ROT-HAM_learners_01min_s%d.pkl' % (s)))"
   ]
  },
  {
   "cell_type": "code",
   "execution_count": 4,
   "metadata": {},
   "outputs": [
    {
     "data": {
      "text/html": [
       "<div>\n",
       "<style scoped>\n",
       "    .dataframe tbody tr th:only-of-type {\n",
       "        vertical-align: middle;\n",
       "    }\n",
       "\n",
       "    .dataframe tbody tr th {\n",
       "        vertical-align: top;\n",
       "    }\n",
       "\n",
       "    .dataframe thead th {\n",
       "        text-align: right;\n",
       "    }\n",
       "</style>\n",
       "<table border=\"1\" class=\"dataframe\">\n",
       "  <thead>\n",
       "    <tr style=\"text-align: right;\">\n",
       "      <th></th>\n",
       "      <th>Latitude</th>\n",
       "      <th>Longitude</th>\n",
       "    </tr>\n",
       "  </thead>\n",
       "  <tbody>\n",
       "    <tr>\n",
       "      <th>0</th>\n",
       "      <td>52.8</td>\n",
       "      <td>NaN</td>\n",
       "    </tr>\n",
       "    <tr>\n",
       "      <th>1</th>\n",
       "      <td>NaN</td>\n",
       "      <td>4.80</td>\n",
       "    </tr>\n",
       "    <tr>\n",
       "      <th>2</th>\n",
       "      <td>NaN</td>\n",
       "      <td>6.00</td>\n",
       "    </tr>\n",
       "    <tr>\n",
       "      <th>3</th>\n",
       "      <td>NaN</td>\n",
       "      <td>7.20</td>\n",
       "    </tr>\n",
       "    <tr>\n",
       "      <th>4</th>\n",
       "      <td>NaN</td>\n",
       "      <td>8.60</td>\n",
       "    </tr>\n",
       "    <tr>\n",
       "      <th>5</th>\n",
       "      <td>NaN</td>\n",
       "      <td>9.81</td>\n",
       "    </tr>\n",
       "  </tbody>\n",
       "</table>\n",
       "</div>"
      ],
      "text/plain": [
       "   Latitude  Longitude\n",
       "0      52.8        NaN\n",
       "1       NaN       4.80\n",
       "2       NaN       6.00\n",
       "3       NaN       7.20\n",
       "4       NaN       8.60\n",
       "5       NaN       9.81"
      ]
     },
     "execution_count": 4,
     "metadata": {},
     "output_type": "execute_result"
    }
   ],
   "source": [
    "positions"
   ]
  },
  {
   "cell_type": "code",
   "execution_count": 5,
   "metadata": {},
   "outputs": [],
   "source": [
    "X = []\n",
    "y = []\n",
    "for s in sectors:\n",
    "    X.append(ais_learners[s][['Latitude', 'Longitude', 'COG', 'SOG']])\n",
    "    y.append(ais_learners[s][['sector_leave_lat', 'sector_leave_lon', 'mins_to_sector_leave', 'sector_leave_cog', 'sector_leave_sog']])"
   ]
  },
  {
   "cell_type": "code",
   "execution_count": 6,
   "metadata": {},
   "outputs": [],
   "source": [
    "from sklearn.model_selection import GroupKFold\n",
    "from sklearn.model_selection import cross_val_score\n",
    "\n",
    "cv_splits = []\n",
    "for s in sectors:\n",
    "    cv_splits.append(list(GroupKFold(n_splits = 10).split(X[s], y[s], groups = ais_learners[s]['TripID'])))"
   ]
  },
  {
   "cell_type": "code",
   "execution_count": 7,
   "metadata": {},
   "outputs": [],
   "source": [
    "# Retrieve ONE simple train-test split (for each sector)\n",
    "train_indices = []\n",
    "test_indices = []\n",
    "for s in sectors:\n",
    "    a, b = cv_splits[s][0]\n",
    "    train_indices.append(a)\n",
    "    test_indices.append(b)\n",
    "\n",
    "X_train = []\n",
    "X_test = []\n",
    "for s in sectors:\n",
    "    X_train.append(X[s].iloc[train_indices[s]])\n",
    "    X_test.append(X[s].iloc[test_indices[s]])\n",
    "\n",
    "y_train = []\n",
    "y_test = []\n",
    "for s in sectors:\n",
    "    y_train.append(y[s].iloc[train_indices[s]])\n",
    "    y_test.append(y[s].iloc[test_indices[s]])"
   ]
  },
  {
   "cell_type": "code",
   "execution_count": 8,
   "metadata": {},
   "outputs": [
    {
     "name": "stdout",
     "output_type": "stream",
     "text": [
      "-6.116405797919628\n",
      "-3.7062447576713007\n",
      "-2.3243847373898996\n",
      "-2.340975455989766\n",
      "-8.206151197286584\n",
      "-3.1167425565534765\n"
     ]
    }
   ],
   "source": [
    "for s in sectors:\n",
    "    knn_pos = KNeighborsRegressor(n_neighbors = 10, p = 1,algorithm = 'kd_tree', leaf_size = 100, weights = 'distance', n_jobs=-1)\n",
    "    scores = cross_val_score(knn_pos, X[s], y[s], cv = cv_splits[s], scoring = 'neg_mean_absolute_error')\n",
    "    print(scores.mean())"
   ]
  },
  {
   "cell_type": "code",
   "execution_count": 8,
   "metadata": {},
   "outputs": [
    {
     "name": "stdout",
     "output_type": "stream",
     "text": [
      "-6.85759195469664\n",
      "-4.63718270715354\n",
      "-2.69708771998416\n",
      "-2.757761298170478\n",
      "-8.642736619304404\n",
      "-3.736886624233332\n"
     ]
    }
   ],
   "source": [
    "for s in sectors:\n",
    "    knn_pos = KNeighborsRegressor(n_neighbors = 20)\n",
    "    scores = cross_val_score(knn_pos, X[s], y[s], cv = cv_splits[s], scoring = 'neg_mean_absolute_error')\n",
    "    print(scores.mean())"
   ]
  },
  {
   "cell_type": "code",
   "execution_count": 44,
   "metadata": {},
   "outputs": [
    {
     "name": "stdout",
     "output_type": "stream",
     "text": [
      "-6.299743657115846\n",
      "-3.9720021776254084\n",
      "-2.413762271730533\n",
      "-2.346101478658743\n",
      "-8.269668558965577\n",
      "-3.3118391684622694\n"
     ]
    }
   ],
   "source": [
    "for s in sectors:\n",
    "    knn_pos = KNeighborsRegressor(n_neighbors = 10, p = 2,algorithm = 'kd_tree', leaf_size = 100, weights = 'distance', n_jobs=-1)\n",
    "    scores = cross_val_score(knn_pos, X[s], y[s], cv = cv_splits[s], scoring = 'neg_mean_absolute_error')\n",
    "    print(scores.mean())"
   ]
  },
  {
   "cell_type": "code",
   "execution_count": 10,
   "metadata": {},
   "outputs": [],
   "source": [
    "knn_pos_list = []\n",
    "\n",
    "for s in sectors:\n",
    "    knn_pos = KNeighborsRegressor(n_neighbors = 10, p = 1,algorithm = 'kd_tree', leaf_size = 100, weights = 'distance', n_jobs = -1)\n",
    "    if s == 0:\n",
    "        knn_pos.fit(X_train[s], y_train[s]['sector_leave_lon'])\n",
    "    else:\n",
    "        knn_pos.fit(X_train[s], y_train[s]['sector_leave_lat'])\n",
    "    knn_pos_list.append(knn_pos)"
   ]
  },
  {
   "cell_type": "code",
   "execution_count": 11,
   "metadata": {},
   "outputs": [],
   "source": [
    "knn_cog_list = []\n",
    "\n",
    "for s in sectors:\n",
    "    knn_cog = KNeighborsRegressor(n_neighbors = 10, p = 1,algorithm = 'kd_tree', leaf_size = 100, weights = 'distance', n_jobs = -1)    \n",
    "    knn_cog.fit(X_train[s], y_train[s]['sector_leave_cog'])\n",
    "    knn_cog_list.append(knn_cog)"
   ]
  },
  {
   "cell_type": "code",
   "execution_count": 12,
   "metadata": {},
   "outputs": [],
   "source": [
    "knn_sog_list = []\n",
    "\n",
    "for s in sectors:\n",
    "    knn_sog = KNeighborsRegressor(n_neighbors = 10, p = 1,algorithm = 'kd_tree', leaf_size = 100, weights = 'distance', n_jobs = -1)    \n",
    "    knn_sog.fit(X_train[s], y_train[s]['sector_leave_sog'])\n",
    "    knn_sog_list.append(knn_sog)"
   ]
  },
  {
   "cell_type": "code",
   "execution_count": 13,
   "metadata": {},
   "outputs": [],
   "source": [
    "knn_time_list = []\n",
    "for s in sectors:\n",
    "    knn_time = KNeighborsRegressor(n_neighbors = 10, p = 1,algorithm = 'kd_tree', leaf_size = 100, weights = 'distance', n_jobs = -1)\n",
    "    knn_time.fit(X_train[s], y_train[s]['mins_to_sector_leave'])\n",
    "    knn_time_list.append(knn_time)"
   ]
  },
  {
   "cell_type": "code",
   "execution_count": 49,
   "metadata": {},
   "outputs": [
    {
     "name": "stdout",
     "output_type": "stream",
     "text": [
      "[51.99, 52.8, 53.439992872416255, 53.76366473466051, 53.86254659731722, 53.949999999999996, 53.55]\n",
      "[4.06, 4.169999999999998, 4.8, 6.0, 7.2, 8.6, 9.81]\n",
      "[292.0, 29.0, 53.3304506216842, 74.02595945014004, 77.29259812286583, 113.05851868042392, 106.8453458989668]\n",
      "[15.2, 13.0, 13.634833293735674, 13.849027466773386, 12.994664160007847, 15.08337143080014, 8.78498541669067]\n"
     ]
    }
   ],
   "source": [
    "# 51.99 4.06, cog, sog\n",
    "lats = [51.99]\n",
    "lons = [4.06]\n",
    "cogs = [292.0]\n",
    "sogs = [15.20]\n",
    "for s in sectors:\n",
    "    if s == 0:\n",
    "        lat = sector_borders[0]\n",
    "        lon = knn_pos_list[0].predict([[lats[-1], lons[-1], cogs[-1], sogs[-1]]])[0]\n",
    "        cog = knn_cog_list[0].predict([[lats[-1], lons[-1], cogs[-1], sogs[-1]]])[0]\n",
    "        sog = knn_sog_list[0].predict([[lats[-1], lons[-1], cogs[-1], sogs[-1]]])[0]\n",
    "    else:\n",
    "        lat = knn_pos_list[s].predict([[lats[-1], lons[-1], cogs[-1], sogs[-1]]])[0]\n",
    "        lon = sector_borders[s]\n",
    "        cog = knn_cog_list[s].predict([[lats[-1], lons[-1], cogs[-1], sogs[-1]]])[0]\n",
    "        sog = knn_sog_list[s].predict([[lats[-1], lons[-1], cogs[-1], sogs[-1]]])[0]\n",
    "    lats.append(lat)\n",
    "    lons.append(lon)\n",
    "    cogs.append(cog)\n",
    "    sogs.append(sog)\n",
    "\n",
    "print(lats)\n",
    "print(lons)\n",
    "print(cogs)\n",
    "print(sogs)"
   ]
  },
  {
   "cell_type": "code",
   "execution_count": 18,
   "metadata": {
    "scrolled": true
   },
   "outputs": [
    {
     "data": {
      "image/png": "[encoded data removed]",
      "text/plain": [
       "<Figure size 936x936 with 1 Axes>"
      ]
     },
     "metadata": {},
     "output_type": "display_data"
    }
   ],
   "source": [
    "aismap.plot_to_map(size = (13, 13), longitude = pd.Series(lons), latitude = pd.Series(lats))"
   ]
  },
  {
   "cell_type": "code",
   "execution_count": 50,
   "metadata": {},
   "outputs": [
    {
     "name": "stdout",
     "output_type": "stream",
     "text": [
      "0 -> -24.752406\n",
      "1 -> -11.880486\n",
      "2 -> -9.702952\n",
      "3 -> -9.211570\n",
      "4 -> -37.861319\n",
      "5 -> -14.231698\n"
     ]
    }
   ],
   "source": [
    "# testing\n",
    "for s in sectors:\n",
    "    knn_time = KNeighborsRegressor(n_neighbors = 10, p = 2, algorithm = 'kd_tree', leaf_size = 100, weights = 'distance')\n",
    "    scores = cross_val_score(knn_time, X[s], y[s]['Lat'], cv = cv_splits[s], scoring = 'neg_mean_absolute_error')\n",
    "    print(\"%d -> %f\" % (s, scores.mean()))"
   ]
  },
  {
   "cell_type": "code",
   "execution_count": 51,
   "metadata": {},
   "outputs": [
    {
     "name": "stdout",
     "output_type": "stream",
     "text": [
      "0 -> -23.883889\n",
      "1 -> -10.586396\n",
      "2 -> -9.272385\n",
      "3 -> -9.202995\n",
      "4 -> -37.540664\n",
      "5 -> -13.254482\n"
     ]
    }
   ],
   "source": [
    "# current best\n",
    "# 1 minute dataset\n",
    "for s in sectors:\n",
    "    knn_time = KNeighborsRegressor(n_neighbors = 10, p = 1,algorithm = 'kd_tree', leaf_size = 100, weights = 'distance')\n",
    "    scores = cross_val_score(knn_time, X[s], y[s]['mins_to_sector_leave'], cv = cv_splits[s], scoring = 'neg_mean_absolute_error')\n",
    "    print(\"%d -> %f\" % (s, scores.mean()))"
   ]
  },
  {
   "cell_type": "code",
   "execution_count": 161,
   "metadata": {
    "scrolled": true
   },
   "outputs": [
    {
     "name": "stdout",
     "output_type": "stream",
     "text": [
      "0 -> -0.016268\n",
      "1 -> -0.022834\n",
      "2 -> -0.011620\n",
      "3 -> -0.009410\n",
      "4 -> -0.000775\n",
      "5 -> -0.000074\n"
     ]
    }
   ],
   "source": [
    "for s in sectors:\n",
    "    knn_pos = KNeighborsRegressor(n_neighbors = 10, p = 1,algorithm = 'kd_tree', leaf_size = 100, weights = 'distance', n_jobs = -1)\n",
    "    if s == 0:\n",
    "        scores = cross_val_score(knn_pos, X[s], y[s]['sector_leave_lon'], cv = cv_splits[s], scoring = 'neg_mean_absolute_error')\n",
    "        print(\"%d -> %f\" % (s, scores.mean()))\n",
    "    else :\n",
    "        scores = cross_val_score(knn_pos, X[s], y[s]['sector_leave_lat'], cv = cv_splits[s], scoring = 'neg_mean_absolute_error')\n",
    "        print(\"%d -> %f\" % (s, scores.mean()))"
   ]
  },
  {
   "cell_type": "code",
   "execution_count": 53,
   "metadata": {},
   "outputs": [
    {
     "name": "stdout",
     "output_type": "stream",
     "text": [
      "0 -> -1.596728\n",
      "1 -> -0.692207\n",
      "2 -> -0.696620\n",
      "3 -> -0.926829\n",
      "4 -> -1.684472\n",
      "5 -> -1.488197\n"
     ]
    }
   ],
   "source": [
    "for s in sectors:\n",
    "    knn_sog = KNeighborsRegressor(n_neighbors = 10, p = 1,algorithm = 'kd_tree', leaf_size = 100, weights = 'distance', n_jobs = -1)\n",
    "    scores = cross_val_score(knn_sog, X[s], y[s]['sector_leave_sog'], cv = cv_splits[s], scoring = 'neg_mean_absolute_error')\n",
    "    print(\"%d -> %f\" % (s, scores.mean()))"
   ]
  },
  {
   "cell_type": "code",
   "execution_count": 54,
   "metadata": {},
   "outputs": [
    {
     "name": "stdout",
     "output_type": "stream",
     "text": [
      "0 -> -5.085145\n",
      "1 -> -7.229788\n",
      "2 -> -1.641299\n",
      "3 -> -1.565643\n",
      "4 -> -1.804844\n",
      "5 -> -0.840960\n"
     ]
    }
   ],
   "source": [
    "for s in sectors:\n",
    "    knn_cog = KNeighborsRegressor(n_neighbors = 10, p = 1,algorithm='kd_tree', leaf_size = 100, weights = 'distance', n_jobs = -1)\n",
    "    scores = cross_val_score(knn_cog, X[s], y[s]['sector_leave_cog'], cv = cv_splits[s], scoring = 'neg_mean_absolute_error')\n",
    "    print(\"%d -> %f\" % (s, scores.mean()))"
   ]
  },
  {
   "cell_type": "code",
   "execution_count": 15,
   "metadata": {},
   "outputs": [
    {
     "name": "stdout",
     "output_type": "stream",
     "text": [
      "3 -> -6.155089\n"
     ]
    }
   ],
   "source": [
    "\n",
    "\n",
    "from sklearn.ensemble import RandomForestRegressor\n",
    "#for s in sectors:\n",
    "rfr_time = RandomForestRegressor(n_estimators = 35, oob_score= 'true', max_depth = 30,  random_state = 12, criterion = 'mse', max_features = 'sqrt', min_samples_leaf= 10, n_jobs = -1)\n",
    "scores = cross_val_score(rfr_time, X[3], y[3]['mins_to_sector_leave'], cv = cv_splits[3], scoring = 'neg_mean_absolute_error')\n",
    "print(\"%d -> %f\" % (3, scores.mean()))"
   ]
  },
  {
   "cell_type": "code",
   "execution_count": null,
   "metadata": {},
   "outputs": [],
   "source": [
    "# 1 min dataset, criterion mse\n",
    "# time\n",
    "# 0 -> -19.599084   RandomForestRegressor(n_estimators = 35, oob_score = 'true', max_depth = 20, random_state = 1, criterion = 'mse', max_features = 2, min_samples_leaf= 35, n_jobs = -1)\n",
    "# 1 -> -6.993401    RandomForestRegressor(n_estimators = 35, random_state = 2, criterion = 'mse', max_features = 'sqrt', min_samples_leaf= 35, n_jobs = -1)\n",
    "# 2 -> -4.617680    RandomForestRegressor(n_estimators = 50, oob_score = 'true', max_depth = 20, random_state = 3, criterion = 'mse', max_features = 3, min_samples_leaf= 35, n_jobs = -1)\n",
    "# 3 -> -6.116497    RandomForestRegressor(n_estimators = 35, oob_score= 'true', max_depth = 30,  random_state = 6, criterion = 'mse', max_features = 'sqrt', min_samples_leaf= 10, n_jobs = -1)\n",
    "# 4 -> -32.356552   RandomForestRegressor(n_estimators = 35, oob_score = 'true', max_depth = 20, random_state = 2, criterion = 'mse', max_features = 2, min_samples_leaf= 35, n_jobs = -1)\n",
    "# 5 -> -10.840728   RandomForestRegressor(n_estimators = 35, oob_score = 'true', criterion = 'mse',random_state = 1, max_features = 3, min_samples_leaf= 30, n_jobs = -1)\n"
   ]
  },
  {
   "cell_type": "code",
   "execution_count": 175,
   "metadata": {},
   "outputs": [
    {
     "name": "stdout",
     "output_type": "stream",
     "text": [
      "0 -> -0.015398\n",
      "1 -> -0.021076\n",
      "2 -> -0.006277\n",
      "3 -> -0.005967\n",
      "4 -> -0.000792\n",
      "5 -> -0.000076\n"
     ]
    }
   ],
   "source": [
    "for s in sectors:\n",
    "    rfr_pos = RandomForestRegressor(n_estimators = 50, oob_score= 'true', max_depth = 40,  random_state = 5, criterion = 'mse', max_features = 'sqrt', min_samples_leaf= 20, n_jobs = -1)\n",
    "    if s == 0:\n",
    "        scores = cross_val_score(rfr_pos, X[s], y[s]['sector_leave_lon'], cv = cv_splits[s], scoring = 'neg_mean_absolute_error')\n",
    "        print(\"%d -> %f\" % (s, scores.mean()))\n",
    "    else :\n",
    "        scores = cross_val_score(rfr_pos, X[s], y[s]['sector_leave_lat'], cv = cv_splits[s], scoring = 'neg_mean_absolute_error')\n",
    "        print(\"%d -> %f\" % (s, scores.mean()))"
   ]
  },
  {
   "cell_type": "code",
   "execution_count": null,
   "metadata": {},
   "outputs": [],
   "source": [
    "# 1 min dataset, criterion mse\n",
    "# position\n",
    "# 0 -> -0.015382 RandomForestRegressor(n_estimators = 100, oob_score= 'true', max_depth = 40,  random_state = 5, criterion = 'mse', max_features = 'sqrt', min_samples_leaf= 20, n_jobs = -1)\n",
    "# 1 -> -0.021029 RandomForestRegressor(n_estimators = 100, oob_score= 'true', max_depth = 40,  random_state = 5, criterion = 'mse', max_features = 'sqrt', min_samples_leaf= 20, n_jobs = -1)\n",
    "# 2 -> -0.006202 RandomForestRegressor(n_estimators = 100, oob_score= 'true', max_depth = 40,  random_state = 5, criterion = 'mse', max_features = 'sqrt', min_samples_leaf= 20, n_jobs = -1)\n",
    "# 3 -> -0.005957 RandomForestRegressor(n_estimators = 100, oob_score= 'true', max_depth = 40,  random_state = 5, criterion = 'mse', max_features = 'sqrt', min_samples_leaf= 20, n_jobs = -1)\n",
    "\n",
    "# knn better for these two\n",
    "# 4 -> -0.000792   RandomForestRegressor(n_estimators = 50, oob_score= 'true', max_depth = 20,  random_state = 1, criterion = 'mse', max_features = 'sqrt', min_samples_leaf= 30, n_jobs = -1)\n",
    "# 5 -> -0.000076   RandomForestRegressor(n_estimators = 50, oob_score= 'true', max_depth = 20,  random_state = 1, criterion = 'mse', max_features = 'sqrt', min_samples_leaf= 30, n_jobs = -1)"
   ]
  },
  {
   "cell_type": "code",
   "execution_count": 179,
   "metadata": {},
   "outputs": [
    {
     "name": "stdout",
     "output_type": "stream",
     "text": [
      "0 -> -4.837980\n",
      "1 -> -6.916043\n",
      "2 -> -1.443601\n",
      "3 -> -1.448262\n",
      "4 -> -1.687437\n",
      "5 -> -0.772893\n"
     ]
    }
   ],
   "source": [
    "for s in sectors:\n",
    "    rfr_cog = RandomForestRegressor(n_estimators = 35, oob_score= 'true', max_depth = 30,  random_state = 3, criterion = 'mse', max_features = 'sqrt', min_samples_leaf= 20, n_jobs = -1)\n",
    "    scores = cross_val_score(rfr_cog, X[s], y[s]['sector_leave_cog'], cv = cv_splits[s], scoring = 'neg_mean_absolute_error')\n",
    "    print(\"%d -> %f\" % (s, scores.mean()))\n"
   ]
  },
  {
   "cell_type": "code",
   "execution_count": null,
   "metadata": {},
   "outputs": [],
   "source": [
    "#cog\n",
    "\n",
    "# 0 -> -4.818081  RandomForestRegressor(n_estimators = 50, oob_score= 'true', max_depth = 40,  random_state = 5, criterion = 'mse', max_features = 'sqrt', min_samples_leaf= 20, n_jobs = -1)\n",
    "# 1 -> -6.908563  RandomForestRegressor(n_estimators = 50, oob_score= 'true', max_depth = 30,  random_state = 3, criterion = 'mse', max_features = 'sqrt', min_samples_leaf= 20, n_jobs = -1)\n",
    "# 2 -> -1.437228  RandomForestRegressor(n_estimators = 50, oob_score= 'true', max_depth = 30,  random_state = 1, criterion = 'mse', max_features = 'sqrt', min_samples_leaf= 20, n_jobs = -1)\n",
    "# 3 -> -1.442693  RandomForestRegressor(n_estimators = 50, oob_score= 'true', max_depth = 40,  random_state = 5, criterion = 'mse', max_features = 'sqrt', min_samples_leaf= 20, n_jobs = -1)\n",
    "# 4 -> -1.686204  RandomForestRegressor(n_estimators = 50, oob_score= 'true', max_depth = 40,  random_state = 5, criterion = 'mse', max_features = 'sqrt', min_samples_leaf= 20, n_jobs = -1)\n",
    "# 5 -> -0.772149  RandomForestRegressor(n_estimators = 50, oob_score= 'true', max_depth = 30,  random_state = 1, criterion = 'mse', max_features = 'sqrt', min_samples_leaf= 20, n_jobs = -1)"
   ]
  },
  {
   "cell_type": "code",
   "execution_count": 183,
   "metadata": {},
   "outputs": [
    {
     "name": "stdout",
     "output_type": "stream",
     "text": [
      "0 -> -1.506183\n",
      "1 -> -0.667424\n",
      "2 -> -0.649134\n",
      "3 -> -0.891368\n",
      "4 -> -1.636134\n",
      "5 -> -1.410727\n"
     ]
    }
   ],
   "source": [
    "for s in sectors:\n",
    "    rfr_sog = RandomForestRegressor(n_estimators = 60, oob_score= 'true', max_depth = 30,  random_state = 3, criterion = 'mse', max_features = 'sqrt', min_samples_leaf= 20, n_jobs = -1)\n",
    "    scores = cross_val_score(rfr_sog, X[s], y[s]['sector_leave_sog'], cv = cv_splits[s], scoring = 'neg_mean_absolute_error')\n",
    "    print(\"%d -> %f\" % (s, scores.mean()))\n"
   ]
  },
  {
   "cell_type": "code",
   "execution_count": null,
   "metadata": {},
   "outputs": [],
   "source": [
    "# 0 -> -1.508407  RandomForestRegressor(n_estimators = 35, oob_score= 'true', max_depth = 30,  random_state = 3, criterion = 'mse', max_features = 'sqrt', min_samples_leaf= 20, n_jobs = -1)\n",
    "# 1 -> -0.669519  RandomForestRegressor(n_estimators = 35, oob_score= 'true', max_depth = 30,  random_state = 3, criterion = 'mse', max_features = 'sqrt', min_samples_leaf= 20, n_jobs = -1)\n",
    "# 2 -> -0.651048  RandomForestRegressor(n_estimators = 35, oob_score= 'true', max_depth = 30,  random_state = 3, criterion = 'mse', max_features = 'sqrt', min_samples_leaf= 20, n_jobs = -1)\n",
    "# 3 -> -0.893188  RandomForestRegressor(n_estimators = 35, oob_score= 'true', max_depth = 30,  random_state = 3, criterion = 'mse', max_features = 'sqrt', min_samples_leaf= 20, n_jobs = -1)\n",
    "# 4 -> -1.636083  RandomForestRegressor(n_estimators = 35, oob_score= 'true', max_depth = 30,  random_state = 3, criterion = 'mse', max_features = 'sqrt', min_samples_leaf= 20, n_jobs = -1)\n",
    "# 5 -> -1.411056  RandomForestRegressor(n_estimators = 35, oob_score= 'true', max_depth = 30,  random_state = 3, criterion = 'mse', max_features = 'sqrt', min_samples_leaf= 20, n_jobs = -1)"
   ]
  },
  {
   "cell_type": "code",
   "execution_count": 16,
   "metadata": {},
   "outputs": [],
   "source": [
    "#pos\n",
    "rfr_pos_list = []\n",
    "#sector 0\n",
    "rfr_pos0 = RandomForestRegressor(n_estimators = 100, oob_score= 'true', max_depth = 40,  random_state = 5, criterion = 'mse', max_features = 'sqrt', min_samples_leaf= 20, n_jobs = -1)\n",
    "rfr_pos0.fit(X_train[0], y_train[0]['sector_leave_lon'])\n",
    "rfr_pos_list.append(rfr_pos0)\n",
    "#sector1\n",
    "rfr_pos1 = RandomForestRegressor(n_estimators = 100, oob_score= 'true', max_depth = 40,  random_state = 5, criterion = 'mse', max_features = 'sqrt', min_samples_leaf= 20, n_jobs = -1)\n",
    "rfr_pos1.fit(X_train[1], y_train[1]['sector_leave_lat'])\n",
    "rfr_pos_list.append(rfr_pos1)\n",
    "#sector2\n",
    "rfr_pos2 = RandomForestRegressor(n_estimators = 100, oob_score= 'true', max_depth = 40,  random_state = 5, criterion = 'mse', max_features = 'sqrt', min_samples_leaf= 20, n_jobs = -1)\n",
    "rfr_pos2.fit(X_train[2], y_train[2]['sector_leave_lat'])\n",
    "rfr_pos_list.append(rfr_pos2)\n",
    "#sector3\n",
    "rfr_pos3 = RandomForestRegressor(n_estimators = 100, oob_score= 'true', max_depth = 40,  random_state = 5, criterion = 'mse', max_features = 'sqrt', min_samples_leaf= 20, n_jobs = -1)\n",
    "rfr_pos3.fit(X_train[3], y_train[3]['sector_leave_lat'])\n",
    "rfr_pos_list.append(rfr_pos3)\n",
    "#sector4\n",
    "rfr_pos4 = KNeighborsRegressor(n_neighbors = 10, p = 1,algorithm = 'kd_tree', leaf_size = 100, weights = 'distance', n_jobs = -1)\n",
    "rfr_pos4.fit(X_train[4], y_train[4]['sector_leave_lat'])\n",
    "rfr_pos_list.append(rfr_pos4)\n",
    "#sector5\n",
    "rfr_pos5 = KNeighborsRegressor(n_neighbors = 10, p = 1,algorithm = 'kd_tree', leaf_size = 100, weights = 'distance', n_jobs = -1)\n",
    "rfr_pos5.fit(X_train[5], y_train[5]['sector_leave_lat'])\n",
    "rfr_pos_list.append(rfr_pos5)"
   ]
  },
  {
   "cell_type": "code",
   "execution_count": 17,
   "metadata": {},
   "outputs": [],
   "source": [
    "#time\n",
    "rfr_time_list = []\n",
    "#sector 0\n",
    "rfr_time0 = RandomForestRegressor(n_estimators = 35, oob_score = 'true', max_depth = 20, random_state = 1, criterion = 'mse', max_features = 2, min_samples_leaf= 35, n_jobs = -1)\n",
    "rfr_time0.fit(X_train[0], y_train[0]['mins_to_sector_leave'])\n",
    "rfr_time_list.append(rfr_time0)\n",
    "#sector1\n",
    "rfr_time1 = RandomForestRegressor(n_estimators = 35, random_state = 2, criterion = 'mse', max_features = 'sqrt', min_samples_leaf= 35, n_jobs = -1)\n",
    "rfr_time1.fit(X_train[1], y_train[1]['mins_to_sector_leave'])\n",
    "rfr_time_list.append(rfr_time1)\n",
    "#sector2\n",
    "rfr_time2 = RandomForestRegressor(n_estimators = 50, oob_score = 'true', max_depth = 20, random_state = 3, criterion = 'mse', max_features = 3, min_samples_leaf= 35, n_jobs = -1)\n",
    "rfr_time2.fit(X_train[2], y_train[2]['mins_to_sector_leave'])\n",
    "rfr_time_list.append(rfr_time2)\n",
    "#sector3\n",
    "rfr_time3 = RandomForestRegressor(n_estimators = 35, oob_score= 'true', max_depth = 30,  random_state = 6, criterion = 'mse', max_features = 'sqrt', min_samples_leaf= 10, n_jobs = -1)\n",
    "rfr_time3.fit(X_train[3], y_train[3]['mins_to_sector_leave'])\n",
    "rfr_time_list.append(rfr_time3)\n",
    "#sector4\n",
    "rfr_time4 = RandomForestRegressor(n_estimators = 35, oob_score = 'true', max_depth = 20, random_state = 2, criterion = 'mse', max_features = 2, min_samples_leaf= 35, n_jobs = -1)\n",
    "rfr_time4.fit(X_train[4], y_train[4]['mins_to_sector_leave'])\n",
    "rfr_time_list.append(rfr_time4)\n",
    "#sector5\n",
    "rfr_time5 = RandomForestRegressor(n_estimators = 35, oob_score = 'true', criterion = 'mse',random_state = 1, max_features = 3, min_samples_leaf= 30, n_jobs = -1)\n",
    "rfr_time5.fit(X_train[5], y_train[5]['mins_to_sector_leave'])\n",
    "rfr_time_list.append(rfr_time5)\n"
   ]
  },
  {
   "cell_type": "code",
   "execution_count": 18,
   "metadata": {},
   "outputs": [],
   "source": [
    "#cog\n",
    "rfr_cog_list = []\n",
    "#sector 0\n",
    "rfr_cog0 = RandomForestRegressor(n_estimators = 50, oob_score= 'true', max_depth = 40,  random_state = 5, criterion = 'mse', max_features = 'sqrt', min_samples_leaf= 20, n_jobs = -1)\n",
    "rfr_cog0.fit(X_train[0], y_train[0]['sector_leave_cog'])\n",
    "rfr_cog_list.append(rfr_cog0)\n",
    "#sector1\n",
    "rfr_cog1 =  RandomForestRegressor(n_estimators = 50, oob_score= 'true', max_depth = 30,  random_state = 3, criterion = 'mse', max_features = 'sqrt', min_samples_leaf= 20, n_jobs = -1)\n",
    "rfr_cog1.fit(X_train[1], y_train[1]['sector_leave_cog'])\n",
    "rfr_cog_list.append(rfr_cog1)\n",
    "#sector2\n",
    "rfr_cog2 = RandomForestRegressor(n_estimators = 50, oob_score= 'true', max_depth = 30,  random_state = 1, criterion = 'mse', max_features = 'sqrt', min_samples_leaf= 20, n_jobs = -1)\n",
    "rfr_cog2.fit(X_train[2], y_train[2]['sector_leave_cog'])\n",
    "rfr_cog_list.append(rfr_cog2)\n",
    "#sector3\n",
    "rfr_cog3 = RandomForestRegressor(n_estimators = 50, oob_score= 'true', max_depth = 40,  random_state = 5, criterion = 'mse', max_features = 'sqrt', min_samples_leaf= 20, n_jobs = -1)\n",
    "rfr_cog3.fit(X_train[3], y_train[3]['sector_leave_cog'])\n",
    "rfr_cog_list.append(rfr_cog3)\n",
    "#sector4\n",
    "rfr_cog4 = RandomForestRegressor(n_estimators = 50, oob_score= 'true', max_depth = 40,  random_state = 5, criterion = 'mse', max_features = 'sqrt', min_samples_leaf= 20, n_jobs = -1)\n",
    "rfr_cog4.fit(X_train[4], y_train[4]['sector_leave_cog'])\n",
    "rfr_cog_list.append(rfr_cog4)\n",
    "#sector5\n",
    "rfr_cog5 = RandomForestRegressor(n_estimators = 50, oob_score= 'true', max_depth = 30,  random_state = 1, criterion = 'mse', max_features = 'sqrt', min_samples_leaf= 20, n_jobs = -1)\n",
    "rfr_cog5.fit(X_train[5], y_train[5]['sector_leave_cog'])\n",
    "rfr_cog_list.append(rfr_cog5)\n"
   ]
  },
  {
   "cell_type": "code",
   "execution_count": 19,
   "metadata": {},
   "outputs": [],
   "source": [
    "#sog\n",
    "rfr_sog_list = []\n",
    "for s in sectors:\n",
    "    rfr_sog = RandomForestRegressor(n_estimators = 60, oob_score= 'true', max_depth = 30,  random_state = 3, criterion = 'mse', max_features = 'sqrt', min_samples_leaf= 20, n_jobs = -1)\n",
    "    rfr_sog.fit(X_train[s], y_train[s]['sector_leave_sog'])\n",
    "    rfr_sog_list.append(rfr_sog)"
   ]
  },
  {
   "cell_type": "code",
   "execution_count": 164,
   "metadata": {},
   "outputs": [
    {
     "name": "stdout",
     "output_type": "stream",
     "text": [
      "0 -> -19.599084\n",
      "1 -> -6.993401\n",
      "2 -> -4.617680\n",
      "3 -> -6.116497\n",
      "4 -> -32.356552\n",
      "5 -> -10.840728\n"
     ]
    }
   ],
   "source": [
    "\n",
    "\n",
    "scores = cross_val_score(rfr_time0, X[0], y[0]['mins_to_sector_leave'], cv = cv_splits[0], scoring = 'neg_mean_absolute_error')\n",
    "print(\"%d -> %f\" % (0, scores.mean()))\n",
    "scores = cross_val_score(rfr_time1, X[1], y[1]['mins_to_sector_leave'], cv = cv_splits[1], scoring = 'neg_mean_absolute_error')\n",
    "print(\"%d -> %f\" % (1, scores.mean()))\n",
    "scores = cross_val_score(rfr_time2, X[2], y[2]['mins_to_sector_leave'], cv = cv_splits[2], scoring = 'neg_mean_absolute_error')\n",
    "print(\"%d -> %f\" % (2, scores.mean()))\n",
    "scores = cross_val_score(rfr_time3, X[3], y[3]['mins_to_sector_leave'], cv = cv_splits[3], scoring = 'neg_mean_absolute_error')\n",
    "print(\"%d -> %f\" % (3, scores.mean()))\n",
    "scores = cross_val_score(rfr_time4, X[4], y[4]['mins_to_sector_leave'], cv = cv_splits[4], scoring = 'neg_mean_absolute_error')\n",
    "print(\"%d -> %f\" % (4, scores.mean()))\n",
    "scores = cross_val_score(rfr_time5, X[5], y[5]['mins_to_sector_leave'], cv = cv_splits[5], scoring = 'neg_mean_absolute_error')\n",
    "print(\"%d -> %f\" % (5, scores.mean()))\n",
    "\n",
    "# 1 min dataset, criterion mse\n",
    "# time\n",
    "# 0 -> -19.599084  \n",
    "# 1 -> -6.993401   \n",
    "# 2 -> -4.617680   \n",
    "# 3 -> -6.116497   \n",
    "# 4 -> -32.356552  \n",
    "# 5 -> -10.840728  "
   ]
  },
  {
   "cell_type": "code",
   "execution_count": 172,
   "metadata": {},
   "outputs": [
    {
     "name": "stdout",
     "output_type": "stream",
     "text": [
      "0 -> -0.015382\n",
      "1 -> -0.021029\n",
      "2 -> -0.006202\n",
      "3 -> -0.005957\n",
      "4 -> -0.000775\n",
      "5 -> -0.000074\n"
     ]
    }
   ],
   "source": [
    "scores = cross_val_score(rfr_pos0, X[0], y[0]['sector_leave_lon'], cv = cv_splits[0], scoring = 'neg_mean_absolute_error')\n",
    "print(\"%d -> %f\" % (0, scores.mean()))\n",
    "scores = cross_val_score(rfr_pos1, X[1], y[1]['sector_leave_lat'], cv = cv_splits[1], scoring = 'neg_mean_absolute_error')\n",
    "print(\"%d -> %f\" % (1, scores.mean()))\n",
    "scores = cross_val_score(rfr_pos2, X[2], y[2]['sector_leave_lat'], cv = cv_splits[2], scoring = 'neg_mean_absolute_error')\n",
    "print(\"%d -> %f\" % (2, scores.mean()))\n",
    "scores = cross_val_score(rfr_pos3, X[3], y[3]['sector_leave_lat'], cv = cv_splits[3], scoring = 'neg_mean_absolute_error')\n",
    "print(\"%d -> %f\" % (3, scores.mean()))\n",
    "scores = cross_val_score(rfr_pos4, X[4], y[4]['sector_leave_lat'], cv = cv_splits[4], scoring = 'neg_mean_absolute_error')\n",
    "print(\"%d -> %f\" % (4, scores.mean()))\n",
    "scores = cross_val_score(rfr_pos5, X[5], y[5]['sector_leave_lat'], cv = cv_splits[5], scoring = 'neg_mean_absolute_error')\n",
    "print(\"%d -> %f\" % (5, scores.mean()))\n",
    "\n",
    "# position\n",
    "# 0 -> -0.015382 \n",
    "# 1 -> -0.021029 \n",
    "# 2 -> -0.006202 \n",
    "# 3 -> -0.005957 \n",
    "\n"
   ]
  },
  {
   "cell_type": "code",
   "execution_count": 21,
   "metadata": {},
   "outputs": [
    {
     "data": {
      "text/plain": [
       "62.99636099104733"
      ]
     },
     "execution_count": 21,
     "metadata": {},
     "output_type": "execute_result"
    }
   ],
   "source": [
    "rfr_time_list[4].predict([[53.99, 8.17, 85.0, 11.60]])[0]"
   ]
  },
  {
   "cell_type": "code",
   "execution_count": 22,
   "metadata": {},
   "outputs": [],
   "source": [
    "# Pickle KNN models\n",
    "import pickle\n",
    "\n",
    "for s in sectors:\n",
    "    pos_model = rfr_pos_list[s]\n",
    "    pickle.dump(pos_model, open('../App/Agents/rot_ham_s%d/model_position.pkl' % (s), 'wb'))\n",
    "    \n",
    "    time_model = rfr_time_list[s]\n",
    "    pickle.dump(time_model, open('../App/Agents/rot_ham_s%d/model_time.pkl' % (s), 'wb'))\n",
    "    \n",
    "    cog_model = rfr_cog_list[s]\n",
    "    pickle.dump(cog_model, open('../App/Agents/rot_ham_s%d/model_cog.pkl' % (s), 'wb'))\n",
    "    \n",
    "    sog_model = rfr_sog_list[s]\n",
    "    pickle.dump(sog_model, open('../App/Agents/rot_ham_s%d/model_sog.pkl' % (s), 'wb'))"
   ]
  },
  {
   "cell_type": "code",
   "execution_count": 191,
   "metadata": {},
   "outputs": [
    {
     "data": {
      "text/plain": [
       "62.99636099104733"
      ]
     },
     "execution_count": 191,
     "metadata": {},
     "output_type": "execute_result"
    }
   ],
   "source": [
    "test_loaded = pickle.load(open('../App/Agents/rot_ham_s%d/model_time.pkl' % (4), 'rb'))\n",
    "test_loaded.predict([[53.99, 8.17, 85.0, 11.60]])[0]"
   ]
  },
  {
   "cell_type": "code",
   "execution_count": null,
   "metadata": {},
   "outputs": [],
   "source": [
    "print(knn_time_list[4])\n",
    "print(test_loaded)"
   ]
  }
 ],
 "metadata": {
  "kernelspec": {
   "display_name": "Python 3",
   "language": "python",
   "name": "python3"
  },
  "language_info": {
   "codemirror_mode": {
    "name": "ipython",
    "version": 3
   },
   "file_extension": ".py",
   "mimetype": "text/x-python",
   "name": "python",
   "nbconvert_exporter": "python",
   "pygments_lexer": "ipython3",
   "version": "3.6.4"
  }
 },
 "nbformat": 4,
 "nbformat_minor": 2
}
