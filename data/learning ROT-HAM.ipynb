{
 "cells": [
  {
   "cell_type": "code",
   "execution_count": 1,
   "metadata": {},
   "outputs": [],
   "source": [
    "import pandas as pd\n",
    "import numpy as np\n",
    "\n",
    "import matplotlib.pyplot as plt\n",
    "% matplotlib inline\n",
    "plt.style.use('ggplot')\n",
    "\n",
    "import seaborn as sns\n",
    "\n",
    "import cartopy.crs as ccrs\n",
    "import cartopy.feature as cfeat\n",
    "import cartopy.io.img_tiles as cimgt\n",
    "\n",
    "import AISMapPlot as aismap"
   ]
  },
  {
   "cell_type": "code",
   "execution_count": 2,
   "metadata": {},
   "outputs": [
    {
     "data": {
      "text/html": [
       "<div>\n",
       "<style scoped>\n",
       "    .dataframe tbody tr th:only-of-type {\n",
       "        vertical-align: middle;\n",
       "    }\n",
       "\n",
       "    .dataframe tbody tr th {\n",
       "        vertical-align: top;\n",
       "    }\n",
       "\n",
       "    .dataframe thead th {\n",
       "        text-align: right;\n",
       "    }\n",
       "</style>\n",
       "<table border=\"1\" class=\"dataframe\">\n",
       "  <thead>\n",
       "    <tr style=\"text-align: right;\">\n",
       "      <th></th>\n",
       "      <th>TripID</th>\n",
       "      <th>time</th>\n",
       "      <th>Length</th>\n",
       "      <th>Breadth</th>\n",
       "      <th>Draught</th>\n",
       "      <th>Latitude</th>\n",
       "      <th>Longitude</th>\n",
       "      <th>SOG</th>\n",
       "      <th>COG</th>\n",
       "      <th>TH</th>\n",
       "      <th>remainingMins</th>\n",
       "      <th>dist_to_end</th>\n",
       "      <th>hour_of_day</th>\n",
       "      <th>weekday</th>\n",
       "      <th>day_of_month</th>\n",
       "      <th>month</th>\n",
       "    </tr>\n",
       "  </thead>\n",
       "  <tbody>\n",
       "    <tr>\n",
       "      <th>0</th>\n",
       "      <td>1000226</td>\n",
       "      <td>2016-06-15 14:00:00</td>\n",
       "      <td>369.0</td>\n",
       "      <td>51.0</td>\n",
       "      <td>13.8</td>\n",
       "      <td>51.970000</td>\n",
       "      <td>4.033333</td>\n",
       "      <td>5.200000</td>\n",
       "      <td>112.633333</td>\n",
       "      <td>112.000000</td>\n",
       "      <td>1493.000000</td>\n",
       "      <td>564.248455</td>\n",
       "      <td>14.0</td>\n",
       "      <td>2.0</td>\n",
       "      <td>15.0</td>\n",
       "      <td>6.0</td>\n",
       "    </tr>\n",
       "    <tr>\n",
       "      <th>1</th>\n",
       "      <td>1000226</td>\n",
       "      <td>2016-06-15 15:00:00</td>\n",
       "      <td>369.0</td>\n",
       "      <td>51.0</td>\n",
       "      <td>13.8</td>\n",
       "      <td>51.973830</td>\n",
       "      <td>4.046596</td>\n",
       "      <td>9.325532</td>\n",
       "      <td>196.780851</td>\n",
       "      <td>196.914894</td>\n",
       "      <td>1467.595745</td>\n",
       "      <td>564.496867</td>\n",
       "      <td>15.0</td>\n",
       "      <td>2.0</td>\n",
       "      <td>15.0</td>\n",
       "      <td>6.0</td>\n",
       "    </tr>\n",
       "    <tr>\n",
       "      <th>2</th>\n",
       "      <td>1000226</td>\n",
       "      <td>2016-06-15 16:00:00</td>\n",
       "      <td>369.0</td>\n",
       "      <td>51.0</td>\n",
       "      <td>13.8</td>\n",
       "      <td>52.134250</td>\n",
       "      <td>3.888500</td>\n",
       "      <td>12.945000</td>\n",
       "      <td>256.532500</td>\n",
       "      <td>345.275000</td>\n",
       "      <td>1395.650000</td>\n",
       "      <td>544.069639</td>\n",
       "      <td>16.0</td>\n",
       "      <td>2.0</td>\n",
       "      <td>15.0</td>\n",
       "      <td>6.0</td>\n",
       "    </tr>\n",
       "    <tr>\n",
       "      <th>3</th>\n",
       "      <td>1000226</td>\n",
       "      <td>2016-06-15 17:00:00</td>\n",
       "      <td>369.0</td>\n",
       "      <td>51.0</td>\n",
       "      <td>13.8</td>\n",
       "      <td>52.328793</td>\n",
       "      <td>3.868621</td>\n",
       "      <td>13.075862</td>\n",
       "      <td>153.406897</td>\n",
       "      <td>152.448276</td>\n",
       "      <td>1342.017241</td>\n",
       "      <td>528.601126</td>\n",
       "      <td>17.0</td>\n",
       "      <td>2.0</td>\n",
       "      <td>15.0</td>\n",
       "      <td>6.0</td>\n",
       "    </tr>\n",
       "    <tr>\n",
       "      <th>4</th>\n",
       "      <td>1000226</td>\n",
       "      <td>2016-06-15 18:00:00</td>\n",
       "      <td>369.0</td>\n",
       "      <td>51.0</td>\n",
       "      <td>13.8</td>\n",
       "      <td>52.530930</td>\n",
       "      <td>3.936512</td>\n",
       "      <td>12.574419</td>\n",
       "      <td>24.613953</td>\n",
       "      <td>23.418605</td>\n",
       "      <td>1283.046512</td>\n",
       "      <td>470.228412</td>\n",
       "      <td>18.0</td>\n",
       "      <td>2.0</td>\n",
       "      <td>15.0</td>\n",
       "      <td>6.0</td>\n",
       "    </tr>\n",
       "  </tbody>\n",
       "</table>\n",
       "</div>"
      ],
      "text/plain": [
       "    TripID                time  Length  Breadth  Draught   Latitude  \\\n",
       "0  1000226 2016-06-15 14:00:00   369.0     51.0     13.8  51.970000   \n",
       "1  1000226 2016-06-15 15:00:00   369.0     51.0     13.8  51.973830   \n",
       "2  1000226 2016-06-15 16:00:00   369.0     51.0     13.8  52.134250   \n",
       "3  1000226 2016-06-15 17:00:00   369.0     51.0     13.8  52.328793   \n",
       "4  1000226 2016-06-15 18:00:00   369.0     51.0     13.8  52.530930   \n",
       "\n",
       "   Longitude        SOG         COG          TH  remainingMins  dist_to_end  \\\n",
       "0   4.033333   5.200000  112.633333  112.000000    1493.000000   564.248455   \n",
       "1   4.046596   9.325532  196.780851  196.914894    1467.595745   564.496867   \n",
       "2   3.888500  12.945000  256.532500  345.275000    1395.650000   544.069639   \n",
       "3   3.868621  13.075862  153.406897  152.448276    1342.017241   528.601126   \n",
       "4   3.936512  12.574419   24.613953   23.418605    1283.046512   470.228412   \n",
       "\n",
       "   hour_of_day  weekday  day_of_month  month  \n",
       "0         14.0      2.0          15.0    6.0  \n",
       "1         15.0      2.0          15.0    6.0  \n",
       "2         16.0      2.0          15.0    6.0  \n",
       "3         17.0      2.0          15.0    6.0  \n",
       "4         18.0      2.0          15.0    6.0  "
      ]
     },
     "execution_count": 2,
     "metadata": {},
     "output_type": "execute_result"
    }
   ],
   "source": [
    "ais_learners = pd.read_pickle('ROT-HAM_learners_60min.pkl')\n",
    "ais_learners.head()"
   ]
  },
  {
   "cell_type": "code",
   "execution_count": 3,
   "metadata": {},
   "outputs": [],
   "source": [
    "X = ais_learners[['Latitude', 'Longitude', 'SOG']]\n",
    "y = ais_learners['remainingMins']"
   ]
  },
  {
   "cell_type": "code",
   "execution_count": 4,
   "metadata": {},
   "outputs": [],
   "source": [
    "from sklearn.model_selection import GroupKFold\n",
    "from sklearn.model_selection import GridSearchCV\n",
    "from sklearn.model_selection import RandomizedSearchCV\n",
    "\n",
    "cv_splits = list(GroupKFold(n_splits = 10).split(X, y, groups = ais_learners['TripID']))"
   ]
  },
  {
   "cell_type": "code",
   "execution_count": 5,
   "metadata": {},
   "outputs": [],
   "source": [
    "# Create a train-test split\n",
    "train_indices, test_indicies = cv_splits[0]\n",
    "X_train, X_test = X.iloc[train_indices], X.iloc[test_indicies]\n",
    "y_train, y_test = y.iloc[train_indices], y.iloc[test_indicies]"
   ]
  },
  {
   "cell_type": "code",
   "execution_count": null,
   "metadata": {},
   "outputs": [],
   "source": [
    "from sklearn.linear_model import LinearRegression\n",
    "\n",
    "lin = LinearRegression()\n",
    "\n",
    "lin_params = dict(normalize = [True, False])\n",
    "lin_grid = GridSearchCV(lin, lin_params, cv = cv_splits, return_train_score = True, scoring = 'neg_mean_absolute_error')\n",
    "lin_grid.fit(X, y)\n",
    "\n",
    "pd.DataFrame(lin_grid.cv_results_)"
   ]
  },
  {
   "cell_type": "code",
   "execution_count": null,
   "metadata": {},
   "outputs": [],
   "source": [
    "from sklearn.neighbors import KNeighborsRegressor\n",
    "\n",
    "knn = KNeighborsRegressor()\n",
    "\n",
    "knn_params = dict(n_neighbors = range(1, 50), weights = ['uniform', 'distance'])\n",
    "knn_rand = RandomizedSearchCV(knn, knn_params, cv = cv_splits, return_train_score = True, scoring = 'neg_mean_absolute_error', n_iter = 10)\n",
    "knn_rand.fit(X, y)\n",
    "\n",
    "pd.DataFrame(knn_rand.cv_results_)"
   ]
  },
  {
   "cell_type": "code",
   "execution_count": null,
   "metadata": {},
   "outputs": [],
   "source": [
    "knn_best = KNeighborsRegressor(n_neighbors = 41, weights = 'distance')\n",
    "knn_best.fit(X_train, y_train)\n",
    "\n",
    "knn_predicts = knn_best.predict(X_test)"
   ]
  },
  {
   "cell_type": "code",
   "execution_count": null,
   "metadata": {},
   "outputs": [],
   "source": [
    "knn_predicts_diffs = knn_predicts - y_test"
   ]
  },
  {
   "cell_type": "code",
   "execution_count": null,
   "metadata": {},
   "outputs": [],
   "source": [
    "knn_predicts_frame = pd.DataFrame({'correct': y_test, 'knn_predicted': knn_predicts, 'diff': knn_predicts_diffs})\n",
    "knn_predicts_frame['abs_error'] = knn_predicts_frame['diff'].transform(lambda x: abs(x))\n",
    "knn_predicts_frame = knn_predicts_frame.sort_values('correct')\n",
    "knn_predicts_frame['abs_error'].describe()"
   ]
  },
  {
   "cell_type": "code",
   "execution_count": null,
   "metadata": {},
   "outputs": [],
   "source": [
    "plt.figure(figsize = (15, 5))\n",
    "plt.plot(knn_predicts_frame['correct'], knn_predicts_frame['diff'])"
   ]
  },
  {
   "cell_type": "code",
   "execution_count": null,
   "metadata": {},
   "outputs": [],
   "source": [
    "from sklearn.ensemble import RandomForestRegressor\n",
    "\n",
    "rfo = RandomForestRegressor()\n",
    "rfo_params = dict(n_estimators = range(1, 10), max_depth = range(5,15))\n",
    "rfo_rand = RandomizedSearchCV(rfo, rfo_params, cv = cv_splits, return_train_score = True, scoring = 'neg_mean_absolute_error', n_iter = 10)\n",
    "rfo_rand.fit(X, y)\n",
    "\n",
    "pd.DataFrame(rfo_rand.cv_results_)"
   ]
  },
  {
   "cell_type": "code",
   "execution_count": 6,
   "metadata": {},
   "outputs": [
    {
     "data": {
      "text/plain": [
       "SVR(C=1.0, cache_size=200, coef0=0.0, degree=3, epsilon=0.2, gamma='auto',\n",
       "  kernel='rbf', max_iter=-1, shrinking=True, tol=0.001, verbose=False)"
      ]
     },
     "execution_count": 6,
     "metadata": {},
     "output_type": "execute_result"
    }
   ],
   "source": [
    "from sklearn.svm import SVR\n",
    "clf = SVR(C=1.0, epsilon=0.2)\n",
    "clf.fit(X, y) "
   ]
  },
  {
   "cell_type": "code",
   "execution_count": 15,
   "metadata": {},
   "outputs": [],
   "source": [
    "clf_predicts= clf.predict(X_test)\n",
    "clf_predicts_diffs = clf_predicts - y_test"
   ]
  },
  {
   "cell_type": "code",
   "execution_count": 16,
   "metadata": {},
   "outputs": [
    {
     "data": {
      "text/plain": [
       "count    1568.000000\n",
       "mean       99.757461\n",
       "std       134.853418\n",
       "min         0.072063\n",
       "25%        23.211061\n",
       "50%        52.068253\n",
       "75%       114.490283\n",
       "max      1163.434433\n",
       "Name: abs_error, dtype: float64"
      ]
     },
     "execution_count": 16,
     "metadata": {},
     "output_type": "execute_result"
    }
   ],
   "source": [
    "clf_predicts_frame = pd.DataFrame({'correct': y_test, 'clf_predicted': clf_predicts, 'diff': clf_predicts_diffs})\n",
    "clf_predicts_frame['abs_error'] = clf_predicts_frame['diff'].transform(lambda x: abs(x))\n",
    "clf_predicts_frame = clf_predicts_frame.sort_values('correct')\n",
    "clf_predicts_frame['abs_error'].describe()"
   ]
  },
  {
   "cell_type": "code",
   "execution_count": 17,
   "metadata": {},
   "outputs": [
    {
     "data": {
      "text/plain": [
       "[<matplotlib.lines.Line2D at 0x15e23438>]"
      ]
     },
     "execution_count": 17,
     "metadata": {},
     "output_type": "execute_result"
    },
    {
     "data": {
      "image/png": "[encoded data removed]",
      "text/plain": [
       "<matplotlib.figure.Figure at 0x132e6780>"
      ]
     },
     "metadata": {},
     "output_type": "display_data"
    }
   ],
   "source": [
    "plt.figure(figsize = (15, 5))\n",
    "plt.plot(clf_predicts_frame['correct'], clf_predicts_frame['diff'])"
   ]
  }
 ],
 "metadata": {
  "kernelspec": {
   "display_name": "Python 2",
   "language": "python",
   "name": "python2"
  },
  "language_info": {
   "codemirror_mode": {
    "name": "ipython",
    "version": 2
   },
   "file_extension": ".py",
   "mimetype": "text/x-python",
   "name": "python",
   "nbconvert_exporter": "python",
   "pygments_lexer": "ipython2",
   "version": "2.7.14"
  }
 },
 "nbformat": 4,
 "nbformat_minor": 2
}
