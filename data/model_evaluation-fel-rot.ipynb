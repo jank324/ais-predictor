{
 "cells": [
  {
   "cell_type": "code",
   "execution_count": 47,
   "metadata": {},
   "outputs": [],
   "source": [
    "import pandas as pd\n",
    "import numpy as np\n",
    "\n",
    "import matplotlib.pyplot as plt\n",
    "% matplotlib inline\n",
    "plt.style.use('ggplot')\n",
    "\n",
    "import seaborn as sns\n",
    "\n",
    "import cartopy.crs as ccrs\n",
    "#import cartopy.feature as cfeat\n",
    "#import cartopy.io.img_tiles as cimgt\n",
    "from sklearn.neighbors import KNeighborsRegressor\n",
    "#import AISMapPlot as aismap\n",
    "import pickle"
   ]
  },
  {
   "cell_type": "code",
   "execution_count": 48,
   "metadata": {},
   "outputs": [],
   "source": [
    "\n",
    "sectors = [0, 1, 2]\n",
    "sector_borders = [2.2, 3.2, 3.94]\n",
    "positions = pd.DataFrame([[np.nan, 2.2], [np.nan, 3.2], [np.nan, 3.94]],\n",
    "                         columns = ['Latitude', 'Longitude'])\n",
    "    \n",
    "ais_test = []  \n",
    "for s in [0,2]:\n",
    "  \n",
    "    ais_test.append(pd.read_pickle('FEL-ROT_test_01min_s%d.pkl' % (s)))"
   ]
  },
  {
   "cell_type": "code",
   "execution_count": 49,
   "metadata": {},
   "outputs": [],
   "source": [
    "time_loaded = []\n",
    "\n",
    "for s in sectors:\n",
    "    time_loaded.append(pickle.load(open('../App/Agents/fel_rot_s%d/model_time.pkl' % (s), 'rb')))"
   ]
  },
  {
   "cell_type": "code",
   "execution_count": 50,
   "metadata": {},
   "outputs": [],
   "source": [
    "pos_loaded = []\n",
    "\n",
    "for s in sectors:\n",
    "    pos_loaded.append(pickle.load(open('../App/Agents/fel_rot_s%d/model_position.pkl' % (s), 'rb')))"
   ]
  },
  {
   "cell_type": "code",
   "execution_count": 51,
   "metadata": {},
   "outputs": [],
   "source": [
    "cog_loaded = []\n",
    "\n",
    "for s in sectors:\n",
    "    cog_loaded.append(pickle.load(open('../App/Agents/fel_rot_s%d/model_cog.pkl' % (s), 'rb')))"
   ]
  },
  {
   "cell_type": "code",
   "execution_count": 52,
   "metadata": {},
   "outputs": [],
   "source": [
    "sog_loaded = []\n",
    "\n",
    "for s in sectors:\n",
    "    sog_loaded.append(pickle.load(open('../App/Agents/fel_rot_s%d/model_sog.pkl' % (s), 'rb')))"
   ]
  },
  {
   "cell_type": "code",
   "execution_count": 53,
   "metadata": {},
   "outputs": [],
   "source": [
    "\n",
    "ais_test[0]['0seclat']= pos_loaded[0].predict(ais_test[0][['Latitude','Longitude', 'COG', 'SOG']])\n",
    "ais_test[0]['0seclon']= sector_borders[0]\n",
    "ais_test[0]['0secsog']= sog_loaded[0].predict(ais_test[0][['Latitude','Longitude', 'COG', 'SOG']])\n",
    "ais_test[0]['0seccog']= cog_loaded[0].predict(ais_test[0][['Latitude','Longitude', 'COG', 'SOG']])\n",
    "\n",
    "\n",
    "ais_test[0]['1seclat']= pos_loaded[1].predict(ais_test[0][['0seclat','0seclon', '0secsog', '0seccog']])\n",
    "ais_test[0]['1seclon']= sector_borders[1]\n",
    "ais_test[0]['1secsog']= sog_loaded[1].predict(ais_test[0][['0seclat','0seclon', '0secsog', '0seccog']])\n",
    "ais_test[0]['1seccog']= cog_loaded[1].predict(ais_test[0][['0seclat','0seclon', '0secsog', '0seccog']])\n",
    "\n"
   ]
  },
  {
   "cell_type": "code",
   "execution_count": 54,
   "metadata": {},
   "outputs": [],
   "source": [
    "ais_test[0]['mins'] = (time_loaded[0].predict(ais_test[0][['Latitude','Longitude','COG','SOG']])) + (time_loaded[1].predict(ais_test[0][['0seclat','0seclon', '0secsog', '0seccog']])) + (time_loaded[2].predict(ais_test[0][['1seclat','1seclon','1seccog','1secsog']])) \n",
    "# ais_test[1]['mins'] = (time_loaded[1].predict(ais_test[1][['Latitude','Longitude','COG','SOG']])) + (time_loaded[2].predict(ais_test[1][['sector_leave_lat', 'sector_leave_lon', 'sector_leave_cog', 'sector_leave_sog']])) \n",
    "ais_test[1]['mins'] = (time_loaded[2].predict(ais_test[1][['Latitude','Longitude','COG','SOG']])) "
   ]
  },
  {
   "cell_type": "code",
   "execution_count": 55,
   "metadata": {},
   "outputs": [],
   "source": [
    "predicts = pd.concat([ais_test[0]['mins'],ais_test[1]['mins']])\n",
    "end = pd.concat([ais_test[0]['remainingMins'], ais_test[1]['remainingMins']])"
   ]
  },
  {
   "cell_type": "code",
   "execution_count": 56,
   "metadata": {},
   "outputs": [],
   "source": [
    "diff = predicts-end"
   ]
  },
  {
   "cell_type": "code",
   "execution_count": 57,
   "metadata": {},
   "outputs": [],
   "source": [
    "predicts_frame = (pd.DataFrame({'correct': end, 'predicted': predicts, 'diff': diff}))\n",
    "predicts_frame['abs_error'] = predicts_frame['diff'].transform(lambda x: abs(x))\n",
    "predicts_frame = predicts_frame.sort_values('correct')\n"
   ]
  },
  {
   "cell_type": "code",
   "execution_count": 58,
   "metadata": {},
   "outputs": [
    {
     "data": {
      "text/plain": [
       "count    198.000000\n",
       "mean      13.517057\n",
       "std        8.279213\n",
       "min        0.119138\n",
       "25%        5.090135\n",
       "50%       16.009515\n",
       "75%       19.841365\n",
       "max       31.548313\n",
       "Name: abs_error, dtype: float64"
      ]
     },
     "execution_count": 58,
     "metadata": {},
     "output_type": "execute_result"
    }
   ],
   "source": [
    "predicts_frame['abs_error'].describe()"
   ]
  },
  {
   "cell_type": "code",
   "execution_count": 59,
   "metadata": {},
   "outputs": [
    {
     "data": {
      "image/png": "[encoded data removed]",
      "text/plain": [
       "<matplotlib.figure.Figure at 0x15952b9e278>"
      ]
     },
     "metadata": {},
     "output_type": "display_data"
    }
   ],
   "source": [
    "plt.figure(figsize = (8, 9))\n",
    "axes = plt.gca()\n",
    "axes.set_ylim([-300,400])\n",
    "plt.plot(predicts_frame['correct'], predicts_frame['diff'])\n",
    "plt.savefig('../Images/fel_rot_sectors_mixed.png', dpi = 300, bbox_inches = 'tight')"
   ]
  }
 ],
 "metadata": {
  "kernelspec": {
   "display_name": "Python 3",
   "language": "python",
   "name": "python3"
  },
  "language_info": {
   "codemirror_mode": {
    "name": "ipython",
    "version": 3
   },
   "file_extension": ".py",
   "mimetype": "text/x-python",
   "name": "python",
   "nbconvert_exporter": "python",
   "pygments_lexer": "ipython3",
   "version": "3.6.4"
  }
 },
 "nbformat": 4,
 "nbformat_minor": 2
}
