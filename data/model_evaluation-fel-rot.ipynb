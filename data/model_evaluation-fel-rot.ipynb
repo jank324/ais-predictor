{
 "cells": [
  {
   "cell_type": "code",
   "execution_count": 22,
   "metadata": {},
   "outputs": [],
   "source": [
    "import pandas as pd\n",
    "import numpy as np\n",
    "\n",
    "import matplotlib.pyplot as plt\n",
    "% matplotlib inline\n",
    "plt.style.use('ggplot')\n",
    "\n",
    "import seaborn as sns\n",
    "\n",
    "import cartopy.crs as ccrs\n",
    "#import cartopy.feature as cfeat\n",
    "#import cartopy.io.img_tiles as cimgt\n",
    "from sklearn.neighbors import KNeighborsRegressor\n",
    "#import AISMapPlot as aismap\n",
    "import pickle"
   ]
  },
  {
   "cell_type": "code",
   "execution_count": 24,
   "metadata": {},
   "outputs": [],
   "source": [
    "\n",
    "sectors = [0, 1, 2]\n",
    "sector_borders = [52.8, 4.8, 6.0, 7.2, 8.6, 9.81]\n",
    "positions = pd.DataFrame([[52.8, np.nan], [np.nan, 4.8], [np.nan, 6.0], [np.nan, 7.2], [np.nan, 8.6], [np.nan, 9.81]],\n",
    "                         columns = ['Latitude', 'Longitude'])\n",
    "    \n",
    "ais_test = []  \n",
    "for s in [0,2]:\n",
    "  \n",
    "    ais_test.append(pd.read_pickle('FEL-ROT_test_01min_s%d.pkl' % (s)))"
   ]
  },
  {
   "cell_type": "code",
   "execution_count": 26,
   "metadata": {},
   "outputs": [],
   "source": [
    "time_loaded = []\n",
    "\n",
    "for s in sectors:\n",
    "    time_loaded.append(pickle.load(open('../App/Agents/fel_rot_s%d/model_time.pkl' % (s), 'rb')))"
   ]
  },
  {
   "cell_type": "code",
   "execution_count": 27,
   "metadata": {},
   "outputs": [],
   "source": [
    "pos_loaded = []\n",
    "\n",
    "for s in sectors:\n",
    "    pos_loaded.append(pickle.load(open('../App/Agents/fel_rot_s%d/model_position.pkl' % (s), 'rb')))"
   ]
  },
  {
   "cell_type": "code",
   "execution_count": 28,
   "metadata": {},
   "outputs": [],
   "source": [
    "cog_loaded = []\n",
    "\n",
    "for s in sectors:\n",
    "    cog_loaded.append(pickle.load(open('../App/Agents/fel_rot_s%d/model_cog.pkl' % (s), 'rb')))"
   ]
  },
  {
   "cell_type": "code",
   "execution_count": 29,
   "metadata": {},
   "outputs": [],
   "source": [
    "sog_loaded = []\n",
    "\n",
    "for s in sectors:\n",
    "    sog_loaded.append(pickle.load(open('../App/Agents/fel_rot_s%d/model_sog.pkl' % (s), 'rb')))"
   ]
  },
  {
   "cell_type": "code",
   "execution_count": 30,
   "metadata": {},
   "outputs": [],
   "source": [
    "\n",
    "ais_test[0]['1seclat']= pos_loaded[1].predict(ais_test[0][['sector_leave_lat','sector_leave_lon', 'sector_leave_cog', 'sector_leave_cog']])\n",
    "ais_test[0]['1seclon']= sector_borders[1]\n",
    "ais_test[0]['1secsog']= sog_loaded[1].predict(ais_test[0][['sector_leave_lat','sector_leave_lon', 'sector_leave_cog', 'sector_leave_cog']])\n",
    "ais_test[0]['1seccog']= cog_loaded[1].predict(ais_test[0][['sector_leave_lat','sector_leave_lon', 'sector_leave_cog', 'sector_leave_cog']])\n",
    "\n",
    "\n",
    "ais_test[0]['2seclat']= pos_loaded[2].predict(ais_test[0][['1seclat','1seclon', '1secsog', '1seccog']])\n",
    "ais_test[0]['2seclon']= sector_borders[2]\n",
    "ais_test[0]['2secsog']= sog_loaded[2].predict(ais_test[0][['1seclat','1seclon', '1secsog', '1seccog']])\n",
    "ais_test[0]['2seccog']= cog_loaded[2].predict(ais_test[0][['1seclat','1seclon', '1secsog', '1seccog']])\n",
    "\n",
    "\n",
    "\n",
    "ais_test[1]['2seclat']= pos_loaded[2].predict(ais_test[1][['sector_leave_lat','sector_leave_lon', 'sector_leave_cog', 'sector_leave_cog']])\n",
    "ais_test[1]['2seclon']= sector_borders[2]\n",
    "ais_test[1]['2secsog']= sog_loaded[2].predict(ais_test[1][['sector_leave_lat','sector_leave_lon', 'sector_leave_cog', 'sector_leave_cog']])\n",
    "ais_test[1]['2seccog']= cog_loaded[2].predict(ais_test[1][['sector_leave_lat','sector_leave_lon', 'sector_leave_cog', 'sector_leave_cog']])\n",
    "\n",
    "\n",
    "\n",
    "\n",
    "\n",
    "\n",
    "\n",
    "\n",
    "\n"
   ]
  },
  {
   "cell_type": "code",
   "execution_count": 35,
   "metadata": {},
   "outputs": [],
   "source": [
    "ais_test[0]['mins'] = (time_loaded[0].predict(ais_test[0][['Latitude','Longitude','COG','SOG']])) + (time_loaded[1].predict(ais_test[0][['sector_leave_lat', 'sector_leave_lon', 'sector_leave_cog', 'sector_leave_sog']])) + (time_loaded[2].predict(ais_test[0][['1seclat','1seclon','1seccog','1secsog']])) \n",
    "# ais_test[1]['mins'] = (time_loaded[1].predict(ais_test[1][['Latitude','Longitude','COG','SOG']])) + (time_loaded[2].predict(ais_test[1][['sector_leave_lat', 'sector_leave_lon', 'sector_leave_cog', 'sector_leave_sog']])) \n",
    "ais_test[1]['mins'] = (time_loaded[2].predict(ais_test[1][['Latitude','Longitude','COG','SOG']])) "
   ]
  },
  {
   "cell_type": "code",
   "execution_count": 37,
   "metadata": {},
   "outputs": [],
   "source": [
    "predicts = pd.concat([ais_test[0]['mins'],ais_test[1]['mins']])\n",
    "end = pd.concat([ais_test[0]['remainingMins'], ais_test[1]['remainingMins']])"
   ]
  },
  {
   "cell_type": "code",
   "execution_count": 38,
   "metadata": {},
   "outputs": [],
   "source": [
    "diff = predicts-end"
   ]
  },
  {
   "cell_type": "code",
   "execution_count": 39,
   "metadata": {},
   "outputs": [],
   "source": [
    "\n",
    "\n",
    "for s in sectors:\n",
    "    predicts_frame = (pd.DataFrame({'correct': end, 'predicted': predicts, 'diff': diff}))\n",
    "    predicts_frame['abs_error'] = predicts_frame['diff'].transform(lambda x: abs(x))\n",
    "    predicts_frame = predicts_frame.sort_values('correct')\n"
   ]
  },
  {
   "cell_type": "code",
   "execution_count": 40,
   "metadata": {},
   "outputs": [
    {
     "data": {
      "text/plain": [
       "count    198.000000\n",
       "mean      56.769393\n",
       "std       30.345562\n",
       "min        0.119138\n",
       "25%       56.674209\n",
       "50%       71.908551\n",
       "75%       75.622986\n",
       "max       85.218458\n",
       "Name: abs_error, dtype: float64"
      ]
     },
     "execution_count": 40,
     "metadata": {},
     "output_type": "execute_result"
    }
   ],
   "source": [
    "predicts_frame['abs_error'].describe()"
   ]
  },
  {
   "cell_type": "code",
   "execution_count": 41,
   "metadata": {},
   "outputs": [
    {
     "data": {
      "image/png": "[encoded data removed]",
      "text/plain": [
       "<matplotlib.figure.Figure at 0x192e75eb780>"
      ]
     },
     "metadata": {},
     "output_type": "display_data"
    }
   ],
   "source": [
    "plt.figure(figsize = (8, 9))\n",
    "axes = plt.gca()\n",
    "axes.set_ylim([-300,400])\n",
    "plt.plot(predicts_frame['correct'], predicts_frame['diff'])\n",
    "plt.savefig('../Images/fel_rot_sectors_mixed.png', dpi = 300, bbox_inches = 'tight')"
   ]
  },
  {
   "cell_type": "code",
   "execution_count": 111,
   "metadata": {},
   "outputs": [
    {
     "data": {
      "text/plain": [
       "count    172.000000\n",
       "mean     182.001605\n",
       "std        3.957434\n",
       "min      172.272786\n",
       "25%      178.122618\n",
       "50%      182.533051\n",
       "75%      185.321036\n",
       "max      189.015414\n",
       "Name: abs_error, dtype: float64"
      ]
     },
     "execution_count": 111,
     "metadata": {},
     "output_type": "execute_result"
    }
   ],
   "source": [
    "predicts_frame[1]['abs_error'].describe()"
   ]
  },
  {
   "cell_type": "code",
   "execution_count": 112,
   "metadata": {},
   "outputs": [
    {
     "data": {
      "text/plain": [
       "[<matplotlib.lines.Line2D at 0x1e7e1569ef0>]"
      ]
     },
     "execution_count": 112,
     "metadata": {},
     "output_type": "execute_result"
    },
    {
     "data": {
      "image/png": "[encoded data removed]",
      "text/plain": [
       "<matplotlib.figure.Figure at 0x1e7e151dd68>"
      ]
     },
     "metadata": {},
     "output_type": "display_data"
    }
   ],
   "source": [
    "plt.figure(figsize = (2.666, 9))\n",
    "axes = plt.gca()\n",
    "axes.set_ylim([-300,300])\n",
    "plt.plot(predicts_frame[1]['correct'], predicts_frame[1]['diff'])\n",
    "# plt.savefig('../Images/rot_ham_complete_rfr_test.png', dpi = 300, bbox_inches = 'tight')"
   ]
  },
  {
   "cell_type": "code",
   "execution_count": 113,
   "metadata": {},
   "outputs": [
    {
     "data": {
      "text/plain": [
       "count    181.000000\n",
       "mean     119.430985\n",
       "std        2.727065\n",
       "min      115.041964\n",
       "25%      117.896081\n",
       "50%      118.907042\n",
       "75%      119.856901\n",
       "max      130.412673\n",
       "Name: abs_error, dtype: float64"
      ]
     },
     "execution_count": 113,
     "metadata": {},
     "output_type": "execute_result"
    }
   ],
   "source": [
    "predicts_frame[2]['abs_error'].describe()"
   ]
  },
  {
   "cell_type": "code",
   "execution_count": 114,
   "metadata": {},
   "outputs": [
    {
     "data": {
      "text/plain": [
       "[<matplotlib.lines.Line2D at 0x1e7e15c7b00>]"
      ]
     },
     "execution_count": 114,
     "metadata": {},
     "output_type": "execute_result"
    },
    {
     "data": {
      "image/png": "[encoded data removed]",
      "text/plain": [
       "<matplotlib.figure.Figure at 0x1e7e1588b00>"
      ]
     },
     "metadata": {},
     "output_type": "display_data"
    }
   ],
   "source": [
    "plt.figure(figsize = (2.666, 9))\n",
    "axes = plt.gca()\n",
    "axes.set_ylim([-300,300])\n",
    "plt.plot(predicts_frame[2]['correct'], predicts_frame[2]['diff'])\n",
    "# plt.savefig('../Images/rot_ham_complete_rfr_test.png', dpi = 300, bbox_inches = 'tight')"
   ]
  },
  {
   "cell_type": "code",
   "execution_count": 115,
   "metadata": {},
   "outputs": [
    {
     "data": {
      "text/plain": [
       "count    185.000000\n",
       "mean       4.967908\n",
       "std        2.058602\n",
       "min        0.269951\n",
       "25%        3.489503\n",
       "50%        5.158585\n",
       "75%        6.537909\n",
       "max        8.902757\n",
       "Name: abs_error, dtype: float64"
      ]
     },
     "execution_count": 115,
     "metadata": {},
     "output_type": "execute_result"
    }
   ],
   "source": [
    "predicts_frame[3]['abs_error'].describe()"
   ]
  },
  {
   "cell_type": "code",
   "execution_count": 116,
   "metadata": {},
   "outputs": [
    {
     "data": {
      "text/plain": [
       "[<matplotlib.lines.Line2D at 0x1e7e1626278>]"
      ]
     },
     "execution_count": 116,
     "metadata": {},
     "output_type": "execute_result"
    },
    {
     "data": {
      "image/png": "[encoded data removed]",
      "text/plain": [
       "<matplotlib.figure.Figure at 0x1e7e1574048>"
      ]
     },
     "metadata": {},
     "output_type": "display_data"
    }
   ],
   "source": [
    "plt.figure(figsize = (2.666, 9))\n",
    "axes = plt.gca()\n",
    "axes.set_ylim([-300,300])\n",
    "plt.plot(predicts_frame[3]['correct'], predicts_frame[3]['diff'])\n",
    "# plt.savefig('../Images/rot_ham_complete_rfr_test.png', dpi = 300, bbox_inches = 'tight')"
   ]
  },
  {
   "cell_type": "code",
   "execution_count": 117,
   "metadata": {},
   "outputs": [
    {
     "data": {
      "text/plain": [
       "count    241.000000\n",
       "mean      36.073651\n",
       "std       18.307182\n",
       "min        0.046034\n",
       "25%       28.744514\n",
       "50%       35.867946\n",
       "75%       46.472035\n",
       "max      104.046927\n",
       "Name: abs_error, dtype: float64"
      ]
     },
     "execution_count": 117,
     "metadata": {},
     "output_type": "execute_result"
    }
   ],
   "source": [
    "predicts_frame[4]['abs_error'].describe()"
   ]
  },
  {
   "cell_type": "code",
   "execution_count": 118,
   "metadata": {},
   "outputs": [
    {
     "data": {
      "text/plain": [
       "[<matplotlib.lines.Line2D at 0x1e7c5081940>]"
      ]
     },
     "execution_count": 118,
     "metadata": {},
     "output_type": "execute_result"
    },
    {
     "data": {
      "image/png": "[encoded data removed]",
      "text/plain": [
       "<matplotlib.figure.Figure at 0x1e7e16267f0>"
      ]
     },
     "metadata": {},
     "output_type": "display_data"
    }
   ],
   "source": [
    "plt.figure(figsize = (2.666, 9))\n",
    "axes = plt.gca()\n",
    "axes.set_ylim([-300,300])\n",
    "plt.plot(predicts_frame[4]['correct'], predicts_frame[4]['diff'])\n",
    "# plt.savefig('../Images/rot_ham_complete_rfr_test.png', dpi = 300, bbox_inches = 'tight')"
   ]
  },
  {
   "cell_type": "code",
   "execution_count": 119,
   "metadata": {},
   "outputs": [
    {
     "data": {
      "text/plain": [
       "count    304.000000\n",
       "mean       8.004597\n",
       "std        6.421208\n",
       "min        0.009384\n",
       "25%        2.466308\n",
       "50%        6.367196\n",
       "75%       12.736857\n",
       "max       28.919669\n",
       "Name: abs_error, dtype: float64"
      ]
     },
     "execution_count": 119,
     "metadata": {},
     "output_type": "execute_result"
    }
   ],
   "source": [
    "predicts_frame[5]['abs_error'].describe()"
   ]
  },
  {
   "cell_type": "code",
   "execution_count": 120,
   "metadata": {},
   "outputs": [
    {
     "data": {
      "text/plain": [
       "[<matplotlib.lines.Line2D at 0x1e7d1339cc0>]"
      ]
     },
     "execution_count": 120,
     "metadata": {},
     "output_type": "execute_result"
    },
    {
     "data": {
      "image/png": "[encoded data removed]",
      "text/plain": [
       "<matplotlib.figure.Figure at 0x1e7d054e7b8>"
      ]
     },
     "metadata": {},
     "output_type": "display_data"
    }
   ],
   "source": [
    "plt.figure(figsize = (2.666, 9))\n",
    "axes = plt.gca()\n",
    "axes.set_ylim([-300,300])\n",
    "plt.plot(predicts_frame[5]['correct'], predicts_frame[5]['diff'])\n",
    "\n",
    "# plt.savefig('../Images/rot_ham_complete_rfr_test.png', dpi = 300, bbox_inches = 'tight')"
   ]
  },
  {
   "cell_type": "code",
   "execution_count": null,
   "metadata": {},
   "outputs": [],
   "source": []
  }
 ],
 "metadata": {
  "kernelspec": {
   "display_name": "Python 3",
   "language": "python",
   "name": "python3"
  },
  "language_info": {
   "codemirror_mode": {
    "name": "ipython",
    "version": 3
   },
   "file_extension": ".py",
   "mimetype": "text/x-python",
   "name": "python",
   "nbconvert_exporter": "python",
   "pygments_lexer": "ipython3",
   "version": "3.6.4"
  }
 },
 "nbformat": 4,
 "nbformat_minor": 2
}
