{
 "cells": [
  {
   "cell_type": "code",
   "execution_count": 1,
   "metadata": {},
   "outputs": [],
   "source": [
    "import pandas as pd\n",
    "import numpy as np\n",
    "\n",
    "import matplotlib.pyplot as plt\n",
    "% matplotlib inline\n",
    "plt.style.use('ggplot')\n",
    "\n",
    "import seaborn as sns\n",
    "\n",
    "import cartopy.crs as ccrs\n",
    "#import cartopy.feature as cfeat\n",
    "#import cartopy.io.img_tiles as cimgt\n",
    "from sklearn.neighbors import KNeighborsRegressor\n",
    "#import AISMapPlot as aismap\n",
    "import pickle"
   ]
  },
  {
   "cell_type": "code",
   "execution_count": 2,
   "metadata": {},
   "outputs": [],
   "source": [
    "sectors = [0, 1, 2, 3, 4, 5]\n",
    "sector_borders = [52.8, 4.8, 6.0, 7.2, 8.6, 9.81]\n",
    "positions = pd.DataFrame([[52.8, np.nan], [np.nan, 4.8], [np.nan, 6.0], [np.nan, 7.2], [np.nan, 8.6], [np.nan, 9.81]],\n",
    "                         columns = ['Latitude', 'Longitude'])\n",
    "\n",
    "    \n",
    "ais_test = []  \n",
    "for s in sectors:\n",
    "    ais_test.append(pd.read_pickle('ROT-HAM_test_01min_s%d.pkl' % (s)))"
   ]
  },
  {
   "cell_type": "code",
   "execution_count": 3,
   "metadata": {},
   "outputs": [],
   "source": [
    "# load the different learners for all agents\n",
    "\n",
    "time_loaded = []\n",
    "pos_loaded = []\n",
    "cog_loaded = []\n",
    "sog_loaded = []\n",
    "\n",
    "for s in sectors:\n",
    "    cog_loaded.append(pickle.load(open('../App/Agents/rot_ham_s%d/model_cog.pkl' % (s), 'rb')))\n",
    "    pos_loaded.append(pickle.load(open('../App/Agents/rot_ham_s%d/model_position.pkl' % (s), 'rb')))    \n",
    "    sog_loaded.append(pickle.load(open('../App/Agents/rot_ham_s%d/model_sog.pkl' % (s), 'rb')))\n",
    "    time_loaded.append(pickle.load(open('../App/Agents/rot_ham_s%d/model_time.pkl' % (s), 'rb')))"
   ]
  },
  {
   "cell_type": "code",
   "execution_count": 8,
   "metadata": {},
   "outputs": [],
   "source": [
    "# create values for the predicted future position, cog and soc\n",
    "\n",
    "ais_test[0]['0seclon']= pos_loaded[0].predict(ais_test[0][['Latitude','Longitude', 'SOG', 'COG']])\n",
    "ais_test[0]['0seclat']= sector_borders[0]\n",
    "ais_test[0]['0secsog']= sog_loaded[0].predict(ais_test[0][['Latitude','Longitude', 'SOG', 'COG']])\n",
    "ais_test[0]['0seccog']= cog_loaded[0].predict(ais_test[0][['Latitude','Longitude', 'SOG', 'COG']])\n",
    "\n",
    "ais_test[0]['1seclat']= pos_loaded[1].predict(ais_test[0][['0seclat','0seclon', '0secsog', '0seccog']])\n",
    "ais_test[0]['1seclon']= sector_borders[1]\n",
    "ais_test[0]['1secsog']= sog_loaded[1].predict(ais_test[0][['0seclat','0seclon', '0secsog', '0seccog']])\n",
    "ais_test[0]['1seccog']= cog_loaded[1].predict(ais_test[0][['0seclat','0seclon', '0secsog', '0seccog']])\n",
    "\n",
    "ais_test[0]['2seclat']= pos_loaded[2].predict(ais_test[0][['1seclat','1seclon', '1secsog', '1seccog']])\n",
    "ais_test[0]['2seclon']= sector_borders[2]\n",
    "ais_test[0]['2secsog']= sog_loaded[2].predict(ais_test[0][['1seclat','1seclon', '1secsog', '1seccog']])\n",
    "ais_test[0]['2seccog']= cog_loaded[2].predict(ais_test[0][['1seclat','1seclon', '1secsog', '1seccog']])\n",
    "\n",
    "ais_test[0]['3seclat']= pos_loaded[3].predict(ais_test[0][['2seclat','2seclon', '2secsog', '2seccog']])\n",
    "ais_test[0]['3seclon']= sector_borders[3]\n",
    "ais_test[0]['3secsog']= sog_loaded[3].predict(ais_test[0][['2seclat','2seclon', '2secsog', '2seccog']])\n",
    "ais_test[0]['3seccog']= cog_loaded[3].predict(ais_test[0][['2seclat','2seclon', '2secsog', '2seccog']])\n",
    "\n",
    "ais_test[0]['4seclat']= pos_loaded[4].predict(ais_test[0][['3seclat','3seclon', '3secsog', '3seccog']])\n",
    "ais_test[0]['4seclon']= sector_borders[4]\n",
    "ais_test[0]['4secsog']= sog_loaded[4].predict(ais_test[0][['3seclat','3seclon', '3secsog', '3seccog']])\n",
    "ais_test[0]['4seccog']= cog_loaded[4].predict(ais_test[0][['3seclat','3seclon', '3secsog', '3seccog']])\n",
    "\n",
    "\n",
    "\n",
    "ais_test[1]['1seclat']= pos_loaded[1].predict(ais_test[1][['Latitude','Longitude', 'SOG', 'COG']])\n",
    "ais_test[1]['1seclon']= sector_borders[1]\n",
    "ais_test[1]['1secsog']= sog_loaded[1].predict(ais_test[1][['Latitude','Longitude', 'SOG', 'COG']])\n",
    "ais_test[1]['1seccog']= cog_loaded[1].predict(ais_test[1][['Latitude','Longitude', 'SOG', 'COG']])\n",
    "\n",
    "ais_test[1]['2seclat']= pos_loaded[2].predict(ais_test[1][['1seclat','1seclon', '1secsog', '1seccog']])\n",
    "ais_test[1]['2seclon']= sector_borders[2]\n",
    "ais_test[1]['2secsog']= sog_loaded[2].predict(ais_test[1][['1seclat','1seclon', '1secsog', '1seccog']])\n",
    "ais_test[1]['2seccog']= cog_loaded[2].predict(ais_test[1][['1seclat','1seclon', '1secsog', '1seccog']])\n",
    "\n",
    "ais_test[1]['3seclat']= pos_loaded[3].predict(ais_test[1][['2seclat','2seclon', '2secsog', '2seccog']])\n",
    "ais_test[1]['3seclon']= sector_borders[3]\n",
    "ais_test[1]['3secsog']= sog_loaded[3].predict(ais_test[1][['2seclat','2seclon', '2secsog', '2seccog']])\n",
    "ais_test[1]['3seccog']= cog_loaded[3].predict(ais_test[1][['2seclat','2seclon', '2secsog', '2seccog']])\n",
    "\n",
    "ais_test[1]['4seclat']= pos_loaded[4].predict(ais_test[1][['3seclat','3seclon', '3secsog', '3seccog']])\n",
    "ais_test[1]['4seclon']= sector_borders[4]\n",
    "ais_test[1]['4secsog']= sog_loaded[4].predict(ais_test[1][['3seclat','3seclon', '3secsog', '3seccog']])\n",
    "ais_test[1]['4seccog']= cog_loaded[4].predict(ais_test[1][['3seclat','3seclon', '3secsog', '3seccog']])\n",
    "\n",
    "\n",
    "\n",
    "ais_test[2]['2seclat']= pos_loaded[2].predict(ais_test[2][['Latitude','Longitude', 'SOG', 'COG']])\n",
    "ais_test[2]['2seclon']= sector_borders[2]\n",
    "ais_test[2]['2secsog']= sog_loaded[2].predict(ais_test[2][['Latitude','Longitude', 'SOG', 'COG']])\n",
    "ais_test[2]['2seccog']= cog_loaded[2].predict(ais_test[2][['Latitude','Longitude', 'SOG', 'COG']])\n",
    "\n",
    "ais_test[2]['3seclat']= pos_loaded[3].predict(ais_test[2][['2seclat','2seclon', '2secsog', '2seccog']])\n",
    "ais_test[2]['3seclon']= sector_borders[3]\n",
    "ais_test[2]['3secsog']= sog_loaded[3].predict(ais_test[2][['2seclat','2seclon', '2secsog', '2seccog']])\n",
    "ais_test[2]['3seccog']= cog_loaded[3].predict(ais_test[2][['2seclat','2seclon', '2secsog', '2seccog']])\n",
    "\n",
    "ais_test[2]['4seclat']= pos_loaded[4].predict(ais_test[2][['3seclat','3seclon', '3secsog', '3seccog']])\n",
    "ais_test[2]['4seclon']= sector_borders[4]\n",
    "ais_test[2]['4secsog']= sog_loaded[4].predict(ais_test[2][['3seclat','3seclon', '3secsog', '3seccog']])\n",
    "ais_test[2]['4seccog']= cog_loaded[4].predict(ais_test[2][['3seclat','3seclon', '3secsog', '3seccog']])\n",
    "\n",
    "\n",
    "\n",
    "ais_test[3]['3seclat']= pos_loaded[3].predict(ais_test[3][['Latitude','Longitude', 'SOG', 'COG']])\n",
    "ais_test[3]['3seclon']= sector_borders[3]\n",
    "ais_test[3]['3secsog']= sog_loaded[3].predict(ais_test[3][['Latitude','Longitude', 'SOG', 'COG']])\n",
    "ais_test[3]['3seccog']= cog_loaded[3].predict(ais_test[3][['Latitude','Longitude', 'SOG', 'COG']])\n",
    "\n",
    "ais_test[3]['4seclat']= pos_loaded[4].predict(ais_test[3][['3seclat','3seclon', '3secsog', '3seccog']])\n",
    "ais_test[3]['4seclon']= sector_borders[4]\n",
    "ais_test[3]['4secsog']= sog_loaded[4].predict(ais_test[3][['3seclat','3seclon', '3secsog', '3seccog']])\n",
    "ais_test[3]['4seccog']= cog_loaded[4].predict(ais_test[3][['3seclat','3seclon', '3secsog', '3seccog']])\n",
    "\n",
    "\n",
    "\n",
    "ais_test[4]['4seclat']= pos_loaded[4].predict(ais_test[4][['Latitude','Longitude', 'SOG', 'COG']])\n",
    "ais_test[4]['4seclon']= sector_borders[4]\n",
    "ais_test[4]['4secsog']= sog_loaded[4].predict(ais_test[4][['Latitude','Longitude', 'SOG', 'COG']])\n",
    "ais_test[4]['4seccog']= cog_loaded[4].predict(ais_test[4][['Latitude','Longitude', 'SOG', 'COG']])\n"
   ]
  },
  {
   "cell_type": "code",
   "execution_count": 12,
   "metadata": {},
   "outputs": [],
   "source": [
    "# calculte the predicted remaining minutes\n",
    "\n",
    "ais_test[0]['mins'] = (time_loaded[0].predict(ais_test[0][['Latitude','Longitude','COG','SOG']])) + (time_loaded[1].predict(ais_test[0][['0seclat', '0seclon', '0seccog', '0secsog']])) + (time_loaded[2].predict(ais_test[0][['1seclat','1seclon','1seccog','1secsog']])) + (time_loaded[3].predict(ais_test[0][['2seclat','2seclon','2seccog','2secsog']])) + (time_loaded[4].predict(ais_test[0][['3seclat','3seclon','3seccog','3secsog']])) + (time_loaded[5].predict(ais_test[0][['4seclat','4seclon','4seccog','4secsog']])) \n",
    "ais_test[1]['mins'] = (time_loaded[1].predict(ais_test[1][['Latitude','Longitude','COG','SOG']])) + (time_loaded[2].predict(ais_test[1][['1seclat', '1seclon', '1seccog', '1secsog']])) + (time_loaded[3].predict(ais_test[1][['2seclat','2seclon','2seccog','2secsog']])) + (time_loaded[4].predict(ais_test[1][['3seclat','3seclon','3seccog','3secsog']])) + (time_loaded[5].predict(ais_test[1][['4seclat','4seclon','4seccog','4secsog']])) \n",
    "ais_test[2]['mins'] = (time_loaded[2].predict(ais_test[2][['Latitude','Longitude','COG','SOG']])) + (time_loaded[3].predict(ais_test[2][['2seclat', '2seclon', '2seccog', '2secsog']])) + (time_loaded[4].predict(ais_test[2][['3seclat','3seclon','3seccog','3secsog']])) + (time_loaded[5].predict(ais_test[2][['4seclat','4seclon','4seccog','4secsog']]))\n",
    "ais_test[3]['mins'] = (time_loaded[3].predict(ais_test[3][['Latitude','Longitude','COG','SOG']])) + (time_loaded[4].predict(ais_test[3][['3seclat', '3seclon', '3seccog', '3secsog']])) + (time_loaded[5].predict(ais_test[3][['4seclat','4seclon','4seccog','4secsog']])) \n",
    "ais_test[4]['mins'] = (time_loaded[4].predict(ais_test[4][['Latitude','Longitude','COG','SOG']])) + (time_loaded[5].predict(ais_test[4][['4seclat', '4seclon', '4seccog', '4secsog']]))\n",
    "ais_test[5]['mins'] = (time_loaded[5].predict(ais_test[5][['Latitude','Longitude','COG','SOG']]))"
   ]
  },
  {
   "cell_type": "code",
   "execution_count": 19,
   "metadata": {},
   "outputs": [],
   "source": [
    "predicts = pd.concat([ais_test[0]['mins'],ais_test[1]['mins'],ais_test[2]['mins'],ais_test[3]['mins'],ais_test[4]['mins'],ais_test[5]['mins']])\n",
    "end = pd.concat([ais_test[0]['remainingMins'], ais_test[1]['remainingMins'],ais_test[2]['remainingMins'],ais_test[3]['remainingMins'],ais_test[4]['remainingMins'],ais_test[5]['remainingMins']])"
   ]
  },
  {
   "cell_type": "code",
   "execution_count": 20,
   "metadata": {},
   "outputs": [],
   "source": [
    "diff = predicts-end"
   ]
  },
  {
   "cell_type": "code",
   "execution_count": 21,
   "metadata": {},
   "outputs": [],
   "source": [
    "predicts_frame = (pd.DataFrame({'correct': end, 'predicted': predicts, 'diff': diff}))\n",
    "predicts_frame['abs_error'] = predicts_frame['diff'].transform(lambda x: abs(x))\n",
    "predicts_frame = predicts_frame.sort_values('correct')"
   ]
  },
  {
   "cell_type": "code",
   "execution_count": 22,
   "metadata": {},
   "outputs": [
    {
     "data": {
      "text/plain": [
       "count    1346.000000\n",
       "mean      130.027249\n",
       "std        94.839046\n",
       "min         0.009384\n",
       "25%        38.275628\n",
       "50%       112.439767\n",
       "75%       223.112908\n",
       "max       302.142063\n",
       "Name: abs_error, dtype: float64"
      ]
     },
     "execution_count": 22,
     "metadata": {},
     "output_type": "execute_result"
    }
   ],
   "source": [
    "predicts_frame['abs_error'].describe()"
   ]
  },
  {
   "cell_type": "code",
   "execution_count": 23,
   "metadata": {},
   "outputs": [
    {
     "data": {
      "image/png": "[encoded data removed]",
      "text/plain": [
       "<matplotlib.figure.Figure at 0x2713bb7c898>"
      ]
     },
     "metadata": {},
     "output_type": "display_data"
    }
   ],
   "source": [
    "plt.figure(figsize = (8, 9))\n",
    "axes = plt.gca()\n",
    "axes.set_ylim([-300,400])\n",
    "plt.plot(predicts_frame['correct'], predicts_frame['diff'])\n",
    "# plt.savefig('../Images/rot_ham_sectors_mixed.png', dpi = 300, bbox_inches = 'tight')"
   ]
  }
 ],
 "metadata": {
  "kernelspec": {
   "display_name": "Python 3",
   "language": "python",
   "name": "python3"
  },
  "language_info": {
   "codemirror_mode": {
    "name": "ipython",
    "version": 3
   },
   "file_extension": ".py",
   "mimetype": "text/x-python",
   "name": "python",
   "nbconvert_exporter": "python",
   "pygments_lexer": "ipython3",
   "version": "3.6.4"
  }
 },
 "nbformat": 4,
 "nbformat_minor": 2
}
